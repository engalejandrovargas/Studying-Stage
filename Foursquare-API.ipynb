{
 "cells": [
  {
   "cell_type": "markdown",
   "metadata": {
    "button": false,
    "new_sheet": false,
    "run_control": {
     "read_only": false
    }
   },
   "source": [
    "<a href=\"https://cognitiveclass.ai\"><img src = \"https://ibm.box.com/shared/static/9gegpsmnsoo25ikkbl4qzlvlyjbgxs5x.png\" width = 400> </a>\n",
    "\n",
    "<h1 align=center><font size = 5>Learning FourSquare API with Python</font></h1>\n"
   ]
  },
  {
   "cell_type": "markdown",
   "metadata": {
    "button": false,
    "new_sheet": false,
    "run_control": {
     "read_only": false
    }
   },
   "source": [
    "\n"
   ]
  },
  {
   "cell_type": "markdown",
   "metadata": {
    "button": false,
    "new_sheet": false,
    "run_control": {
     "read_only": false
    }
   },
   "source": [
    "## Introduction\n",
    "\n",
    "In this lab, you will learn in details how to make calls to the Foursquare API for different purposes. You will learn how to construct a URL to send a request to the API to search for a specific type of venues, to explore a particular venue, to explore a Foursquare user, to explore a geographical location, and to get trending venues around a location. Also, you will learn how to use the visualization library, Folium, to visualize the results.\n"
   ]
  },
  {
   "cell_type": "markdown",
   "metadata": {
    "button": false,
    "new_sheet": false,
    "run_control": {
     "read_only": false
    }
   },
   "source": [
    "## Table of Contents\n",
    "\n",
    "1.  <a href=\"#item1\">Foursquare API Search Function</a>\n",
    "2.  <a href=\"#item2\">Explore a Given Venue</a>  \n",
    "3.  <a href=\"#item3\">Explore a User</a>  \n",
    "4.  <a href=\"#item4\">Foursquare API Explore Function</a>  \n",
    "5.  <a href=\"#item5\">Get Trending Venues</a>  \n"
   ]
  },
  {
   "cell_type": "markdown",
   "metadata": {
    "button": false,
    "new_sheet": false,
    "run_control": {
     "read_only": false
    }
   },
   "source": [
    "### Import necessary Libraries\n"
   ]
  },
  {
   "cell_type": "code",
   "execution_count": 1,
   "metadata": {
    "button": false,
    "collapsed": false,
    "jupyter": {
     "outputs_hidden": false
    },
    "new_sheet": false,
    "run_control": {
     "read_only": false
    }
   },
   "outputs": [
    {
     "name": "stdout",
     "output_type": "stream",
     "text": [
      "Collecting geopy\n",
      "\u001b[?25l  Downloading https://files.pythonhosted.org/packages/0c/67/915668d0e286caa21a1da82a85ffe3d20528ec7212777b43ccd027d94023/geopy-2.1.0-py3-none-any.whl (112kB)\n",
      "\u001b[K     |████████████████████████████████| 112kB 4.7MB/s eta 0:00:01\n",
      "\u001b[?25hCollecting geographiclib<2,>=1.49 (from geopy)\n",
      "  Downloading https://files.pythonhosted.org/packages/8b/62/26ec95a98ba64299163199e95ad1b0e34ad3f4e176e221c40245f211e425/geographiclib-1.50-py3-none-any.whl\n",
      "Installing collected packages: geographiclib, geopy\n",
      "Successfully installed geographiclib-1.50 geopy-2.1.0\n",
      "Requirement already satisfied: folium==0.5.0 in /home/jupyterlab/conda/envs/python/lib/python3.6/site-packages (0.5.0)\n",
      "Requirement already satisfied: requests in /home/jupyterlab/conda/envs/python/lib/python3.6/site-packages (from folium==0.5.0) (2.25.0)\n",
      "Requirement already satisfied: six in /home/jupyterlab/conda/envs/python/lib/python3.6/site-packages (from folium==0.5.0) (1.15.0)\n",
      "Requirement already satisfied: branca in /home/jupyterlab/conda/envs/python/lib/python3.6/site-packages (from folium==0.5.0) (0.4.1)\n",
      "Requirement already satisfied: jinja2 in /home/jupyterlab/conda/envs/python/lib/python3.6/site-packages (from folium==0.5.0) (2.11.2)\n",
      "Requirement already satisfied: chardet<4,>=3.0.2 in /home/jupyterlab/conda/envs/python/lib/python3.6/site-packages (from requests->folium==0.5.0) (3.0.4)\n",
      "Requirement already satisfied: urllib3<1.27,>=1.21.1 in /home/jupyterlab/conda/envs/python/lib/python3.6/site-packages (from requests->folium==0.5.0) (1.25.11)\n",
      "Requirement already satisfied: certifi>=2017.4.17 in /home/jupyterlab/conda/envs/python/lib/python3.6/site-packages (from requests->folium==0.5.0) (2020.12.5)\n",
      "Requirement already satisfied: idna<3,>=2.5 in /home/jupyterlab/conda/envs/python/lib/python3.6/site-packages (from requests->folium==0.5.0) (2.10)\n",
      "Requirement already satisfied: MarkupSafe>=0.23 in /home/jupyterlab/conda/envs/python/lib/python3.6/site-packages (from jinja2->folium==0.5.0) (1.1.1)\n",
      "Folium installed\n",
      "Libraries imported.\n"
     ]
    }
   ],
   "source": [
    "import requests # library to handle requests\n",
    "import pandas as pd # library for data analsysis\n",
    "import numpy as np # library to handle data in a vectorized manner\n",
    "import random # library for random number generation\n",
    "\n",
    "\n",
    "!pip install geopy\n",
    "from geopy.geocoders import Nominatim # module to convert an address into latitude and longitude values\n",
    "\n",
    "# libraries for displaying images\n",
    "from IPython.display import Image \n",
    "from IPython.core.display import HTML \n",
    "    \n",
    "# tranforming json file into a pandas dataframe library\n",
    "from pandas.io.json import json_normalize\n",
    "\n",
    "\n",
    "! pip install folium==0.5.0\n",
    "import folium # plotting library\n",
    "\n",
    "print('Folium installed')\n",
    "print('Libraries imported.')"
   ]
  },
  {
   "cell_type": "markdown",
   "metadata": {
    "button": false,
    "new_sheet": false,
    "run_control": {
     "read_only": false
    }
   },
   "source": [
    "### Define Foursquare Credentials and Version\n"
   ]
  },
  {
   "cell_type": "markdown",
   "metadata": {
    "button": false,
    "new_sheet": false,
    "run_control": {
     "read_only": false
    }
   },
   "source": [
    "##### Make sure that you have created a Foursquare developer account and have your credentials handy\n"
   ]
  },
  {
   "cell_type": "markdown",
   "metadata": {},
   "source": [
    "\n",
    "##### To obtain access token follow these steps.\n",
    "\n",
    "<br>\n",
    "\n",
    "1.  Go to your **\"App Settings\"** page on the developer console of Foursquare.com   \n",
    "2.  Set the **\"Redirect URL\"** under **\"Web Addresses\"** to [https://www.google.com](https://www.google.com?cm_mmc=Email_Newsletter-_-Developer_Ed%2BTech-_-WW_WW-_-SkillsNetwork-Courses-IBMDeveloperSkillsNetwork-DS0701EN-SkillsNetwork-21253531&cm_mmca1=000026UJ&cm_mmca2=10006555&cm_mmca3=M12345678&cvosrc=email.Newsletter.M12345678&cvo_campaign=000026UJ&cm_mmc=Email_Newsletter-_-Developer_Ed%2BTech-_-WW_WW-_-SkillsNetwork-Courses-IBMDeveloperSkillsNetwork-DS0701EN-SkillsNetwork-21253531&cm_mmca1=000026UJ&cm_mmca2=10006555&cm_mmca3=M12345678&cvosrc=email.Newsletter.M12345678&cvo_campaign=000026UJ&cm_mmc=Email_Newsletter-_-Developer_Ed%2BTech-_-WW_WW-_-SkillsNetwork-Courses-IBMDeveloperSkillsNetwork-DS0701EN-SkillsNetwork-21253531&cm_mmca1=000026UJ&cm_mmca2=10006555&cm_mmca3=M12345678&cvosrc=email.Newsletter.M12345678&cvo_campaign=000026UJ&cm_mmc=Email_Newsletter-_-Developer_Ed%2BTech-_-WW_WW-_-SkillsNetwork-Courses-IBMDeveloperSkillsNetwork-DS0701EN-SkillsNetwork-21253531&cm_mmca1=000026UJ&cm_mmca2=10006555&cm_mmca3=M12345678&cvosrc=email.Newsletter.M12345678&cvo_campaign=000026UJ&cm_mmc=Email_Newsletter-_-Developer_Ed%2BTech-_-WW_WW-_-SkillsNetwork-Courses-IBMDeveloperSkillsNetwork-DS0701EN-SkillsNetwork-21253531&cm_mmca1=000026UJ&cm_mmca2=10006555&cm_mmca3=M12345678&cvosrc=email.Newsletter.M12345678&cvo_campaign=000026UJ&cm_mmc=Email_Newsletter-_-Developer_Ed%2BTech-_-WW_WW-_-SkillsNetwork-Courses-IBMDeveloperSkillsNetwork-DS0701EN-SkillsNetwork-21253531&cm_mmca1=000026UJ&cm_mmca2=10006555&cm_mmca3=M12345678&cvosrc=email.Newsletter.M12345678&cvo_campaign=000026UJ)  \n",
    "\n",
    "\n",
    "3.  Paste and enter the following url in your web browser **(replace YOUR_CLIENT_ID with your actual client id)**:  \n",
    "    [https://foursquare.com/oauth2/authenticate?client_id=YOUR_CLIENT_ID&response_type=code&redirect_uri=https://www.google.com](https://foursquare.com/oauth2/authenticate?client_id=YOUR_CLIENT_ID&response_type=code&redirect_uri=https://www.google.com&cm_mmc=Email_Newsletter-_-Developer_Ed%2BTech-_-WW_WW-_-SkillsNetwork-Courses-IBMDeveloperSkillsNetwork-DS0701EN-SkillsNetwork-21253531&cm_mmca1=000026UJ&cm_mmca2=10006555&cm_mmca3=M12345678&cvosrc=email.Newsletter.M12345678&cvo_campaign=000026UJ) \n",
    "\n",
    "    This should redirect you to a google page requesting permission to make the connection. \n",
    "4.  Accept and then look at the url of your web browser **(take note at the CODE part of the url to use in step 5)**  \n",
    "    It should look like [https://www.google.com/?code=CODE](https://www.google.com?code=CODE&cm_mmc=Email_Newsletter-_-Developer_Ed%2BTech-_-WW_WW-_-SkillsNetwork-Courses-IBMDeveloperSkillsNetwork-DS0701EN-SkillsNetwork-21253531&cm_mmca1=000026UJ&cm_mmca2=10006555&cm_mmca3=M12345678&cvosrc=email.Newsletter.M12345678&cvo_campaign=000026UJ)  \n",
    "5.  Copy the code value from the previous step.  \n",
    "       Paste and enter the following into your web browser **(replace placeholders with actual values)**:  \n",
    "    [https://foursquare.com/oauth2/access_token?client_id=YOUR_CLIENT_ID&client_secret=YOUR_CLIENT_SECRET&grant_type=authorization_code&redirect_uri=https://www.google.com&code=CODE](https://foursquare.com/oauth2/access_token?client_id=YOUR_CLIENT_ID&client_secret=YOUR_CLIENT_SECRET&grant_type=authorization_code&redirect_uri=https://www.google.com&code=CODE&cm_mmc=Email_Newsletter-_-Developer_Ed%2BTech-_-WW_WW-_-SkillsNetwork-Courses-IBMDeveloperSkillsNetwork-DS0701EN-SkillsNetwork-21253531&cm_mmca1=000026UJ&cm_mmca2=10006555&cm_mmca3=M12345678&cvosrc=email.Newsletter.M12345678&cvo_campaign=000026UJ).  \n",
    "6.  When you paste the link , This should lead you to a page that gives you your **access token**.\n"
   ]
  },
  {
   "cell_type": "code",
   "execution_count": 2,
   "metadata": {
    "button": false,
    "collapsed": false,
    "jupyter": {
     "outputs_hidden": false
    },
    "new_sheet": false,
    "run_control": {
     "read_only": false
    }
   },
   "outputs": [
    {
     "name": "stdout",
     "output_type": "stream",
     "text": [
      "Your credentails:\n",
      "CLIENT_ID: 4QLQRJVRSGSEBTB24O1EJAZW40G5OBPXOM5H5L53IBNGHC4B\n",
      "CLIENT_SECRET:UWP0VWT2MFCDNI3321EXQC0AVEPAIRGGUCI1F2JN0OF5QZDP\n"
     ]
    }
   ],
   "source": [
    "CLIENT_ID = '4QLQRJVRSGSEBTB24O1EJAZW40G5OBPXOM5H5L53IBNGHC4B' # your Foursquare ID\n",
    "CLIENT_SECRET = 'UWP0VWT2MFCDNI3321EXQC0AVEPAIRGGUCI1F2JN0OF5QZDP' # your Foursquare Secret\n",
    "VERSION = '20180604'\n",
    "LIMIT = 30\n",
    "print('Your credentails:')\n",
    "print('CLIENT_ID: ' + CLIENT_ID)\n",
    "print('CLIENT_SECRET:' + CLIENT_SECRET)"
   ]
  },
  {
   "cell_type": "markdown",
   "metadata": {
    "button": false,
    "new_sheet": false,
    "run_control": {
     "read_only": false
    }
   },
   "source": [
    "\n"
   ]
  },
  {
   "cell_type": "markdown",
   "metadata": {
    "button": false,
    "new_sheet": false,
    "run_control": {
     "read_only": false
    }
   },
   "source": [
    "#### Let's again assume that you are staying at the Conrad hotel. So let's start by converting the Contrad Hotel's address to its latitude and longitude coordinates.\n"
   ]
  },
  {
   "cell_type": "markdown",
   "metadata": {},
   "source": [
    "In order to define an instance of the geocoder, we need to define a user_agent. We will name our agent <em>foursquare_agent</em>, as shown below.\n"
   ]
  },
  {
   "cell_type": "code",
   "execution_count": 3,
   "metadata": {
    "button": false,
    "collapsed": false,
    "jupyter": {
     "outputs_hidden": false
    },
    "new_sheet": false,
    "run_control": {
     "read_only": false
    }
   },
   "outputs": [
    {
     "name": "stdout",
     "output_type": "stream",
     "text": [
      "40.7149555 -74.0153365\n"
     ]
    }
   ],
   "source": [
    "address = '102 North End Ave, New York, NY'\n",
    "\n",
    "geolocator = Nominatim(user_agent=\"foursquare_agent\")\n",
    "location = geolocator.geocode(address)\n",
    "latitude = location.latitude\n",
    "longitude = location.longitude\n",
    "print(latitude, longitude)"
   ]
  },
  {
   "cell_type": "markdown",
   "metadata": {
    "button": false,
    "new_sheet": false,
    "run_control": {
     "read_only": false
    }
   },
   "source": [
    "\n"
   ]
  },
  {
   "cell_type": "markdown",
   "metadata": {
    "button": false,
    "new_sheet": false,
    "run_control": {
     "read_only": false
    }
   },
   "source": [
    "<a id=\"item1\"></a>\n"
   ]
  },
  {
   "cell_type": "markdown",
   "metadata": {
    "button": false,
    "new_sheet": false,
    "run_control": {
     "read_only": false
    }
   },
   "source": [
    "## 1. Search for a specific venue category\n",
    "\n",
    "> `https://api.foursquare.com/v2/venues/`**search**`?client_id=`**CLIENT_ID**`&client_secret=`**CLIENT_SECRET**`&ll=`**LATITUDE**`,`**LONGITUDE**`&v=`**VERSION**`&query=`**QUERY**`&radius=`**RADIUS**`&limit=`**LIMIT**\n"
   ]
  },
  {
   "cell_type": "markdown",
   "metadata": {
    "button": false,
    "new_sheet": false,
    "run_control": {
     "read_only": false
    }
   },
   "source": [
    "#### Now, let's assume that it is lunch time, and you are craving Italian food. So, let's define a query to search for Italian food that is within 500 metres from the Conrad Hotel.\n"
   ]
  },
  {
   "cell_type": "code",
   "execution_count": 4,
   "metadata": {
    "button": false,
    "collapsed": false,
    "jupyter": {
     "outputs_hidden": false
    },
    "new_sheet": false,
    "run_control": {
     "read_only": false
    },
    "scrolled": true
   },
   "outputs": [
    {
     "name": "stdout",
     "output_type": "stream",
     "text": [
      "Italian .... OK!\n"
     ]
    }
   ],
   "source": [
    "search_query = 'Italian'\n",
    "radius = 500\n",
    "print(search_query + ' .... OK!')"
   ]
  },
  {
   "cell_type": "markdown",
   "metadata": {
    "button": false,
    "new_sheet": false,
    "run_control": {
     "read_only": false
    }
   },
   "source": [
    "#### Define the corresponding URL\n"
   ]
  },
  {
   "cell_type": "code",
   "execution_count": 15,
   "metadata": {
    "button": false,
    "collapsed": false,
    "jupyter": {
     "outputs_hidden": false
    },
    "new_sheet": false,
    "run_control": {
     "read_only": false
    }
   },
   "outputs": [
    {
     "data": {
      "text/plain": [
       "'https://api.foursquare.com/v2/venues/search?client_id=4QLQRJVRSGSEBTB24O1EJAZW40G5OBPXOM5H5L53IBNGHC4B&client_secret=UWP0VWT2MFCDNI3321EXQC0AVEPAIRGGUCI1F2JN0OF5QZDP&ll=40.7,-74&query=italian&v=20210213'"
      ]
     },
     "execution_count": 15,
     "metadata": {},
     "output_type": "execute_result"
    }
   ],
   "source": [
    "url = 'https://api.foursquare.com/v2/venues/search?client_id=4QLQRJVRSGSEBTB24O1EJAZW40G5OBPXOM5H5L53IBNGHC4B&client_secret=UWP0VWT2MFCDNI3321EXQC0AVEPAIRGGUCI1F2JN0OF5QZDP&ll=40.7,-74&query=italian&v=20210213'.format(CLIENT_ID, CLIENT_SECRET, latitude, longitude, search_query, radius, LIMIT)\n",
    "url"
   ]
  },
  {
   "cell_type": "markdown",
   "metadata": {
    "button": false,
    "new_sheet": false,
    "run_control": {
     "read_only": false
    }
   },
   "source": [
    "#### Send the GET Request and examine the results\n"
   ]
  },
  {
   "cell_type": "code",
   "execution_count": 16,
   "metadata": {
    "button": false,
    "collapsed": false,
    "jupyter": {
     "outputs_hidden": false
    },
    "new_sheet": false,
    "run_control": {
     "read_only": false
    },
    "scrolled": true
   },
   "outputs": [
    {
     "data": {
      "text/plain": [
       "{'meta': {'code': 200, 'requestId': '60279340358abb2972b1b569'},\n",
       " 'response': {'venues': [{'id': '4a4560a7f964a5201aa81fe3',\n",
       "    'name': \"Harry's Italian Pizza Bar\",\n",
       "    'location': {'address': '2 Gold St',\n",
       "     'crossStreet': 'at Maiden Ln.',\n",
       "     'lat': 40.7076335455641,\n",
       "     'lng': -74.00699585960496,\n",
       "     'labeledLatLngs': [{'label': 'display',\n",
       "       'lat': 40.7076335455641,\n",
       "       'lng': -74.00699585960496}],\n",
       "     'distance': 1034,\n",
       "     'postalCode': '10038',\n",
       "     'cc': 'US',\n",
       "     'city': 'New York',\n",
       "     'state': 'NY',\n",
       "     'country': 'United States',\n",
       "     'formattedAddress': ['2 Gold St (at Maiden Ln.)',\n",
       "      'New York, NY 10038',\n",
       "      'United States']},\n",
       "    'categories': [{'id': '4bf58dd8d48988d110941735',\n",
       "      'name': 'Italian Restaurant',\n",
       "      'pluralName': 'Italian Restaurants',\n",
       "      'shortName': 'Italian',\n",
       "      'icon': {'prefix': 'https://ss3.4sqi.net/img/categories_v2/food/italian_',\n",
       "       'suffix': '.png'},\n",
       "      'primary': True}],\n",
       "    'venuePage': {'id': '77559825'},\n",
       "    'referralId': 'v-1613206336',\n",
       "    'hasPerk': False},\n",
       "   {'id': '4e4c4e62bd413c4cc6686059',\n",
       "    'name': \"Carmela's Italian Specialties\",\n",
       "    'location': {'address': '30 Water St',\n",
       "     'lat': 40.70329284667969,\n",
       "     'lng': -74.01101684570312,\n",
       "     'labeledLatLngs': [{'label': 'display',\n",
       "       'lat': 40.70329284667969,\n",
       "       'lng': -74.01101684570312}],\n",
       "     'distance': 999,\n",
       "     'postalCode': '10004',\n",
       "     'cc': 'US',\n",
       "     'city': 'New York',\n",
       "     'state': 'NJ',\n",
       "     'country': 'United States',\n",
       "     'formattedAddress': ['30 Water St',\n",
       "      'New York, NJ 10004',\n",
       "      'United States']},\n",
       "    'categories': [{'id': '4bf58dd8d48988d1ca941735',\n",
       "      'name': 'Pizza Place',\n",
       "      'pluralName': 'Pizza Places',\n",
       "      'shortName': 'Pizza',\n",
       "      'icon': {'prefix': 'https://ss3.4sqi.net/img/categories_v2/food/pizza_',\n",
       "       'suffix': '.png'},\n",
       "      'primary': True}],\n",
       "    'referralId': 'v-1613206336',\n",
       "    'hasPerk': False},\n",
       "   {'id': '4b9d4c67f964a5206ca136e3',\n",
       "    'name': 'Italian American Museum Of New York',\n",
       "    'location': {'address': '155 Mulberry St',\n",
       "     'crossStreet': 'at Grand St',\n",
       "     'lat': 40.71919065572268,\n",
       "     'lng': -73.99737599769244,\n",
       "     'labeledLatLngs': [{'label': 'display',\n",
       "       'lat': 40.71919065572268,\n",
       "       'lng': -73.99737599769244}],\n",
       "     'distance': 2147,\n",
       "     'postalCode': '10013',\n",
       "     'cc': 'US',\n",
       "     'city': 'New York',\n",
       "     'state': 'NY',\n",
       "     'country': 'United States',\n",
       "     'formattedAddress': ['155 Mulberry St (at Grand St)',\n",
       "      'New York, NY 10013',\n",
       "      'United States']},\n",
       "    'categories': [{'id': '4bf58dd8d48988d190941735',\n",
       "      'name': 'History Museum',\n",
       "      'pluralName': 'History Museums',\n",
       "      'shortName': 'History Museum',\n",
       "      'icon': {'prefix': 'https://ss3.4sqi.net/img/categories_v2/arts_entertainment/museum_history_',\n",
       "       'suffix': '.png'},\n",
       "      'primary': True}],\n",
       "    'venuePage': {'id': '66342615'},\n",
       "    'referralId': 'v-1613206336',\n",
       "    'hasPerk': False},\n",
       "   {'id': '4e57dbfbb0fb4c4d61f6e825',\n",
       "    'name': 'Italian Ice',\n",
       "    'location': {'address': '158 Montague St',\n",
       "     'lat': 40.69434356689453,\n",
       "     'lng': -73.99280548095703,\n",
       "     'labeledLatLngs': [{'label': 'display',\n",
       "       'lat': 40.69434356689453,\n",
       "       'lng': -73.99280548095703}],\n",
       "     'distance': 874,\n",
       "     'postalCode': '11201',\n",
       "     'cc': 'US',\n",
       "     'city': 'Brooklyn Heights',\n",
       "     'state': 'NY',\n",
       "     'country': 'United States',\n",
       "     'formattedAddress': ['158 Montague St',\n",
       "      'Brooklyn Heights, NY 11201',\n",
       "      'United States']},\n",
       "    'categories': [{'id': '4bf58dd8d48988d1cb941735',\n",
       "      'name': 'Food Truck',\n",
       "      'pluralName': 'Food Trucks',\n",
       "      'shortName': 'Food Truck',\n",
       "      'icon': {'prefix': 'https://ss3.4sqi.net/img/categories_v2/food/streetfood_',\n",
       "       'suffix': '.png'},\n",
       "      'primary': True}],\n",
       "    'referralId': 'v-1613206336',\n",
       "    'hasPerk': False},\n",
       "   {'id': '4a90dbbef964a520a11920e3',\n",
       "    'name': 'Italian Village Pizzeria',\n",
       "    'location': {'address': '1526 1st Ave',\n",
       "     'crossStreet': '79th and 1st',\n",
       "     'lat': 40.772669,\n",
       "     'lng': -73.952319,\n",
       "     'labeledLatLngs': [{'label': 'display',\n",
       "       'lat': 40.772669,\n",
       "       'lng': -73.952319},\n",
       "      {'label': 'entrance', 'lat': 40.772791, 'lng': -73.95216}],\n",
       "     'distance': 9034,\n",
       "     'postalCode': '10075',\n",
       "     'cc': 'US',\n",
       "     'neighborhood': 'Yorkville',\n",
       "     'city': 'New York',\n",
       "     'state': 'NY',\n",
       "     'country': 'United States',\n",
       "     'formattedAddress': ['1526 1st Ave (79th and 1st)',\n",
       "      'New York, NY 10075',\n",
       "      'United States']},\n",
       "    'categories': [{'id': '4bf58dd8d48988d1ca941735',\n",
       "      'name': 'Pizza Place',\n",
       "      'pluralName': 'Pizza Places',\n",
       "      'shortName': 'Pizza',\n",
       "      'icon': {'prefix': 'https://ss3.4sqi.net/img/categories_v2/food/pizza_',\n",
       "       'suffix': '.png'},\n",
       "      'primary': True}],\n",
       "    'delivery': {'id': '1659847',\n",
       "     'url': 'https://www.seamless.com/menu/italian-village-pizza-1494-1st-ave-ste-1-new-york/1659847?affiliate=1131&utm_source=foursquare-affiliate-network&utm_medium=affiliate&utm_campaign=1131&utm_content=1659847',\n",
       "     'provider': {'name': 'seamless',\n",
       "      'icon': {'prefix': 'https://fastly.4sqi.net/img/general/cap/',\n",
       "       'sizes': [40, 50],\n",
       "       'name': '/delivery_provider_seamless_20180129.png'}}},\n",
       "    'referralId': 'v-1613206336',\n",
       "    'hasPerk': False},\n",
       "   {'id': '58dd8ac3a8b75966fda9a547',\n",
       "    'name': 'Tableside Italian Cook Shoppe',\n",
       "    'location': {'address': '345 E 6th St',\n",
       "     'crossStreet': '1st and 2nd Ave',\n",
       "     'lat': 40.726556174383305,\n",
       "     'lng': -73.98651414092868,\n",
       "     'labeledLatLngs': [{'label': 'display',\n",
       "       'lat': 40.726556174383305,\n",
       "       'lng': -73.98651414092868}],\n",
       "     'distance': 3167,\n",
       "     'postalCode': '10003',\n",
       "     'cc': 'US',\n",
       "     'city': 'New York',\n",
       "     'state': 'NY',\n",
       "     'country': 'United States',\n",
       "     'formattedAddress': ['345 E 6th St (1st and 2nd Ave)',\n",
       "      'New York, NY 10003',\n",
       "      'United States']},\n",
       "    'categories': [{'id': '4bf58dd8d48988d110941735',\n",
       "      'name': 'Italian Restaurant',\n",
       "      'pluralName': 'Italian Restaurants',\n",
       "      'shortName': 'Italian',\n",
       "      'icon': {'prefix': 'https://ss3.4sqi.net/img/categories_v2/food/italian_',\n",
       "       'suffix': '.png'},\n",
       "      'primary': True}],\n",
       "    'delivery': {'id': '1700675',\n",
       "     'url': 'https://www.seamless.com/menu/tableside-italian-cook-shoppe-345-e-6th-st-new-york/1700675?affiliate=1131&utm_source=foursquare-affiliate-network&utm_medium=affiliate&utm_campaign=1131&utm_content=1700675',\n",
       "     'provider': {'name': 'seamless',\n",
       "      'icon': {'prefix': 'https://fastly.4sqi.net/img/general/cap/',\n",
       "       'sizes': [40, 50],\n",
       "       'name': '/delivery_provider_seamless_20180129.png'}}},\n",
       "    'venuePage': {'id': '427907002'},\n",
       "    'referralId': 'v-1613206336',\n",
       "    'hasPerk': False},\n",
       "   {'id': '4a74a36af964a520fede1fe3',\n",
       "    'name': \"Faicco's Italian Specialties\",\n",
       "    'location': {'address': '260 Bleecker St',\n",
       "     'crossStreet': 'at Cornelia St',\n",
       "     'lat': 40.73111661087598,\n",
       "     'lng': -74.0030425786972,\n",
       "     'labeledLatLngs': [{'label': 'display',\n",
       "       'lat': 40.73111661087598,\n",
       "       'lng': -74.0030425786972}],\n",
       "     'distance': 3473,\n",
       "     'postalCode': '10014',\n",
       "     'cc': 'US',\n",
       "     'city': 'New York',\n",
       "     'state': 'NY',\n",
       "     'country': 'United States',\n",
       "     'formattedAddress': ['260 Bleecker St (at Cornelia St)',\n",
       "      'New York, NY 10014',\n",
       "      'United States']},\n",
       "    'categories': [{'id': '4bf58dd8d48988d1c5941735',\n",
       "      'name': 'Sandwich Place',\n",
       "      'pluralName': 'Sandwich Places',\n",
       "      'shortName': 'Sandwiches',\n",
       "      'icon': {'prefix': 'https://ss3.4sqi.net/img/categories_v2/food/deli_',\n",
       "       'suffix': '.png'},\n",
       "      'primary': True}],\n",
       "    'referralId': 'v-1613206336',\n",
       "    'hasPerk': False},\n",
       "   {'id': '4d7af51735793704232c775d',\n",
       "    'name': \"Armandoi's Italian Restaurant and Bar\",\n",
       "    'location': {'address': 'Court st.',\n",
       "     'lat': 40.69469693591064,\n",
       "     'lng': -73.99268176018768,\n",
       "     'labeledLatLngs': [{'label': 'display',\n",
       "       'lat': 40.69469693591064,\n",
       "       'lng': -73.99268176018768}],\n",
       "     'distance': 854,\n",
       "     'cc': 'US',\n",
       "     'city': 'Brooklyn',\n",
       "     'state': 'NY',\n",
       "     'country': 'United States',\n",
       "     'formattedAddress': ['Court st.', 'Brooklyn, NY', 'United States']},\n",
       "    'categories': [],\n",
       "    'referralId': 'v-1613206336',\n",
       "    'hasPerk': False},\n",
       "   {'id': '4b269f5af964a520817e24e3',\n",
       "    'name': \"Losurdo Brothers / Tony's Italian Bakery & Deli\",\n",
       "    'location': {'address': '410 2nd St',\n",
       "     'crossStreet': 'btw Grand St & Adams St',\n",
       "     'lat': 40.74012586093679,\n",
       "     'lng': -74.0369639338283,\n",
       "     'labeledLatLngs': [{'label': 'display',\n",
       "       'lat': 40.74012586093679,\n",
       "       'lng': -74.0369639338283}],\n",
       "     'distance': 5447,\n",
       "     'postalCode': '07030',\n",
       "     'cc': 'US',\n",
       "     'city': 'Hoboken',\n",
       "     'state': 'NJ',\n",
       "     'country': 'United States',\n",
       "     'formattedAddress': ['410 2nd St (btw Grand St & Adams St)',\n",
       "      'Hoboken, NJ 07030',\n",
       "      'United States']},\n",
       "    'categories': [{'id': '4bf58dd8d48988d16a941735',\n",
       "      'name': 'Bakery',\n",
       "      'pluralName': 'Bakeries',\n",
       "      'shortName': 'Bakery',\n",
       "      'icon': {'prefix': 'https://ss3.4sqi.net/img/categories_v2/food/bakery_',\n",
       "       'suffix': '.png'},\n",
       "      'primary': True}],\n",
       "    'referralId': 'v-1613206336',\n",
       "    'hasPerk': False},\n",
       "   {'id': '5400c682498e3831aaada9fc',\n",
       "    'name': \"Alex's Italian Restaurant & Brick Oven Pizza\",\n",
       "    'location': {'address': '346 Grove St',\n",
       "     'lat': 40.72058470693942,\n",
       "     'lng': -74.04275196874856,\n",
       "     'labeledLatLngs': [{'label': 'display',\n",
       "       'lat': 40.72058470693942,\n",
       "       'lng': -74.04275196874856}],\n",
       "     'distance': 4273,\n",
       "     'postalCode': '07302',\n",
       "     'cc': 'US',\n",
       "     'city': 'Jersey City',\n",
       "     'state': 'NJ',\n",
       "     'country': 'United States',\n",
       "     'formattedAddress': ['346 Grove St',\n",
       "      'Jersey City, NJ 07302',\n",
       "      'United States']},\n",
       "    'categories': [{'id': '4bf58dd8d48988d110941735',\n",
       "      'name': 'Italian Restaurant',\n",
       "      'pluralName': 'Italian Restaurants',\n",
       "      'shortName': 'Italian',\n",
       "      'icon': {'prefix': 'https://ss3.4sqi.net/img/categories_v2/food/italian_',\n",
       "       'suffix': '.png'},\n",
       "      'primary': True}],\n",
       "    'referralId': 'v-1613206336',\n",
       "    'hasPerk': False},\n",
       "   {'id': '51e245e8498eb19e2e908b76',\n",
       "    'name': \"Di So's Italian Food Truck\",\n",
       "    'location': {'lat': 40.70397251406873,\n",
       "     'lng': -74.00862679659664,\n",
       "     'labeledLatLngs': [{'label': 'display',\n",
       "       'lat': 40.70397251406873,\n",
       "       'lng': -74.00862679659664}],\n",
       "     'distance': 851,\n",
       "     'cc': 'US',\n",
       "     'neighborhood': 'Financial District',\n",
       "     'city': 'New York',\n",
       "     'state': 'NY',\n",
       "     'country': 'United States',\n",
       "     'formattedAddress': ['New York, NY', 'United States']},\n",
       "    'categories': [{'id': '4bf58dd8d48988d110941735',\n",
       "      'name': 'Italian Restaurant',\n",
       "      'pluralName': 'Italian Restaurants',\n",
       "      'shortName': 'Italian',\n",
       "      'icon': {'prefix': 'https://ss3.4sqi.net/img/categories_v2/food/italian_',\n",
       "       'suffix': '.png'},\n",
       "      'primary': True}],\n",
       "    'referralId': 'v-1613206336',\n",
       "    'hasPerk': False},\n",
       "   {'id': '5c52748435d3fc002cc413c9',\n",
       "    'name': \"Rita's Italian Ice & Frozen Custard\",\n",
       "    'location': {'address': '4 South Street, LL Space 206',\n",
       "     'lat': 40.702096999999995,\n",
       "     'lng': -74.01201800000001,\n",
       "     'labeledLatLngs': [{'label': 'display',\n",
       "       'lat': 40.702096999999995,\n",
       "       'lng': -74.01201800000001}],\n",
       "     'distance': 1040,\n",
       "     'postalCode': '10004',\n",
       "     'cc': 'US',\n",
       "     'city': 'New York',\n",
       "     'state': 'NY',\n",
       "     'country': 'United States',\n",
       "     'formattedAddress': ['4 South Street, LL Space 206',\n",
       "      'New York, NY 10004',\n",
       "      'United States']},\n",
       "    'categories': [{'id': '4bf58dd8d48988d1d0941735',\n",
       "      'name': 'Dessert Shop',\n",
       "      'pluralName': 'Dessert Shops',\n",
       "      'shortName': 'Desserts',\n",
       "      'icon': {'prefix': 'https://ss3.4sqi.net/img/categories_v2/food/dessert_',\n",
       "       'suffix': '.png'},\n",
       "      'primary': True}],\n",
       "    'delivery': {'id': '2477350',\n",
       "     'url': 'https://www.seamless.com/menu/ritas-italian-ice--frozen-custard-4-south-street-new-york/2477350?affiliate=1131&utm_source=foursquare-affiliate-network&utm_medium=affiliate&utm_campaign=1131&utm_content=2477350',\n",
       "     'provider': {'name': 'seamless',\n",
       "      'icon': {'prefix': 'https://fastly.4sqi.net/img/general/cap/',\n",
       "       'sizes': [40, 50],\n",
       "       'name': '/delivery_provider_seamless_20180129.png'}}},\n",
       "    'referralId': 'v-1613206336',\n",
       "    'hasPerk': False},\n",
       "   {'id': '4c6d6619e6b7b1f7ef98a98e',\n",
       "    'name': 'Italian Vogue',\n",
       "    'location': {'address': '750 3rd Ave',\n",
       "     'crossStreet': 'btw E 46th & 47th St',\n",
       "     'lat': 40.75415195619446,\n",
       "     'lng': -73.9731399591735,\n",
       "     'labeledLatLngs': [{'label': 'display',\n",
       "       'lat': 40.75415195619446,\n",
       "       'lng': -73.9731399591735}],\n",
       "     'distance': 6439,\n",
       "     'postalCode': '10017',\n",
       "     'cc': 'US',\n",
       "     'city': 'New York',\n",
       "     'state': 'NY',\n",
       "     'country': 'United States',\n",
       "     'formattedAddress': ['750 3rd Ave (btw E 46th & 47th St)',\n",
       "      'New York, NY 10017',\n",
       "      'United States']},\n",
       "    'categories': [{'id': '4bf58dd8d48988d124941735',\n",
       "      'name': 'Office',\n",
       "      'pluralName': 'Offices',\n",
       "      'shortName': 'Office',\n",
       "      'icon': {'prefix': 'https://ss3.4sqi.net/img/categories_v2/building/default_',\n",
       "       'suffix': '.png'},\n",
       "      'primary': True}],\n",
       "    'referralId': 'v-1613206336',\n",
       "    'hasPerk': False},\n",
       "   {'id': '4a7dd775f964a520d7ef1fe3',\n",
       "    'name': \"Ralph's Famous Italian Ices\",\n",
       "    'location': {'address': '357 Graham Ave',\n",
       "     'crossStreet': 'btwn Metropolitan and Conselyea',\n",
       "     'lat': 40.71510314941406,\n",
       "     'lng': -73.94470977783203,\n",
       "     'labeledLatLngs': [{'label': 'display',\n",
       "       'lat': 40.71510314941406,\n",
       "       'lng': -73.94470977783203}],\n",
       "     'distance': 4959,\n",
       "     'postalCode': '11211',\n",
       "     'cc': 'US',\n",
       "     'city': 'Brooklyn',\n",
       "     'state': 'NY',\n",
       "     'country': 'United States',\n",
       "     'formattedAddress': ['357 Graham Ave (btwn Metropolitan and Conselyea)',\n",
       "      'Brooklyn, NY 11211',\n",
       "      'United States']},\n",
       "    'categories': [{'id': '4bf58dd8d48988d1c9941735',\n",
       "      'name': 'Ice Cream Shop',\n",
       "      'pluralName': 'Ice Cream Shops',\n",
       "      'shortName': 'Ice Cream',\n",
       "      'icon': {'prefix': 'https://ss3.4sqi.net/img/categories_v2/food/icecream_',\n",
       "       'suffix': '.png'},\n",
       "      'primary': True}],\n",
       "    'referralId': 'v-1613206336',\n",
       "    'hasPerk': False},\n",
       "   {'id': '3fd66200f964a5209ee81ee3',\n",
       "    'name': 'Carmine’s Italian Restaurant',\n",
       "    'location': {'address': '200 W 44th St',\n",
       "     'crossStreet': 'btwn Broadway & 8th Ave',\n",
       "     'lat': 40.7574973,\n",
       "     'lng': -73.9867788,\n",
       "     'labeledLatLngs': [{'label': 'display',\n",
       "       'lat': 40.7574973,\n",
       "       'lng': -73.9867788}],\n",
       "     'distance': 6496,\n",
       "     'postalCode': '10036',\n",
       "     'cc': 'US',\n",
       "     'city': 'New York',\n",
       "     'state': 'NY',\n",
       "     'country': 'United States',\n",
       "     'formattedAddress': ['200 W 44th St (btwn Broadway & 8th Ave)',\n",
       "      'New York, NY 10036',\n",
       "      'United States']},\n",
       "    'categories': [{'id': '4bf58dd8d48988d110941735',\n",
       "      'name': 'Italian Restaurant',\n",
       "      'pluralName': 'Italian Restaurants',\n",
       "      'shortName': 'Italian',\n",
       "      'icon': {'prefix': 'https://ss3.4sqi.net/img/categories_v2/food/italian_',\n",
       "       'suffix': '.png'},\n",
       "      'primary': True}],\n",
       "    'referralId': 'v-1613206336',\n",
       "    'hasPerk': False},\n",
       "   {'id': '51fbf7a3498e86b46099a568',\n",
       "    'name': 'Dominics Italian Sausage Truck',\n",
       "    'location': {'lat': 40.70349917092183,\n",
       "     'lng': -74.01285277894489,\n",
       "     'labeledLatLngs': [{'label': 'display',\n",
       "       'lat': 40.70349917092183,\n",
       "       'lng': -74.01285277894489}],\n",
       "     'distance': 1152,\n",
       "     'cc': 'US',\n",
       "     'neighborhood': 'Financial District',\n",
       "     'city': 'New York',\n",
       "     'state': 'NY',\n",
       "     'country': 'United States',\n",
       "     'formattedAddress': ['New York, NY', 'United States']},\n",
       "    'categories': [{'id': '4bf58dd8d48988d1cb941735',\n",
       "      'name': 'Food Truck',\n",
       "      'pluralName': 'Food Trucks',\n",
       "      'shortName': 'Food Truck',\n",
       "      'icon': {'prefix': 'https://ss3.4sqi.net/img/categories_v2/food/streetfood_',\n",
       "       'suffix': '.png'},\n",
       "      'primary': True}],\n",
       "    'referralId': 'v-1613206336',\n",
       "    'hasPerk': False},\n",
       "   {'id': '5c893ef0d8096e0039e7363b',\n",
       "    'name': 'Pisillo Italian Panini',\n",
       "    'location': {'address': '124 W 25th St',\n",
       "     'crossStreet': 'btwn 6th & 7th Ave',\n",
       "     'lat': 40.744566,\n",
       "     'lng': -73.992868,\n",
       "     'labeledLatLngs': [{'label': 'display',\n",
       "       'lat': 40.744566,\n",
       "       'lng': -73.992868},\n",
       "      {'label': 'entrance', 'lat': 40.744568, 'lng': -73.992984}],\n",
       "     'distance': 4997,\n",
       "     'postalCode': '10001',\n",
       "     'cc': 'US',\n",
       "     'neighborhood': 'Chelsea',\n",
       "     'city': 'New York',\n",
       "     'state': 'NY',\n",
       "     'country': 'United States',\n",
       "     'formattedAddress': ['124 W 25th St (btwn 6th & 7th Ave)',\n",
       "      'New York, NY 10001',\n",
       "      'United States']},\n",
       "    'categories': [{'id': '4bf58dd8d48988d1c5941735',\n",
       "      'name': 'Sandwich Place',\n",
       "      'pluralName': 'Sandwich Places',\n",
       "      'shortName': 'Sandwiches',\n",
       "      'icon': {'prefix': 'https://ss3.4sqi.net/img/categories_v2/food/deli_',\n",
       "       'suffix': '.png'},\n",
       "      'primary': True}],\n",
       "    'delivery': {'id': '1108715',\n",
       "     'url': 'https://www.seamless.com/menu/pisillo-124-w-25th-st-new-york/1108715?affiliate=1131&utm_source=foursquare-affiliate-network&utm_medium=affiliate&utm_campaign=1131&utm_content=1108715',\n",
       "     'provider': {'name': 'seamless',\n",
       "      'icon': {'prefix': 'https://fastly.4sqi.net/img/general/cap/',\n",
       "       'sizes': [40, 50],\n",
       "       'name': '/delivery_provider_seamless_20180129.png'}}},\n",
       "    'referralId': 'v-1613206336',\n",
       "    'hasPerk': False},\n",
       "   {'id': '4b76d8dbf964a520be632ee3',\n",
       "    'name': 'Pier 76 Italian Restaurant',\n",
       "    'location': {'address': '76 Bay St',\n",
       "     'crossStreet': 'at Slosson Terace',\n",
       "     'lat': 40.64013997129025,\n",
       "     'lng': -74.07565435462173,\n",
       "     'labeledLatLngs': [{'label': 'display',\n",
       "       'lat': 40.64013997129025,\n",
       "       'lng': -74.07565435462173}],\n",
       "     'distance': 9230,\n",
       "     'postalCode': '10301',\n",
       "     'cc': 'US',\n",
       "     'city': 'New York',\n",
       "     'state': 'NY',\n",
       "     'country': 'United States',\n",
       "     'formattedAddress': ['76 Bay St (at Slosson Terace)',\n",
       "      'New York, NY 10301',\n",
       "      'United States']},\n",
       "    'categories': [{'id': '4bf58dd8d48988d110941735',\n",
       "      'name': 'Italian Restaurant',\n",
       "      'pluralName': 'Italian Restaurants',\n",
       "      'shortName': 'Italian',\n",
       "      'icon': {'prefix': 'https://ss3.4sqi.net/img/categories_v2/food/italian_',\n",
       "       'suffix': '.png'},\n",
       "      'primary': True}],\n",
       "    'referralId': 'v-1613206336',\n",
       "    'hasPerk': False},\n",
       "   {'id': '4c3b8244def90f478f0ffe2d',\n",
       "    'name': 'Barber Italian Shop',\n",
       "    'location': {'address': '120 Broadway',\n",
       "     'crossStreet': 'btw Cedar & Pine',\n",
       "     'lat': 40.70796968555732,\n",
       "     'lng': -74.00994920143108,\n",
       "     'labeledLatLngs': [{'label': 'display',\n",
       "       'lat': 40.70796968555732,\n",
       "       'lng': -74.00994920143108}],\n",
       "     'distance': 1221,\n",
       "     'postalCode': '10271',\n",
       "     'cc': 'US',\n",
       "     'city': 'New York',\n",
       "     'state': 'NY',\n",
       "     'country': 'United States',\n",
       "     'formattedAddress': ['120 Broadway (btw Cedar & Pine)',\n",
       "      'New York, NY 10271',\n",
       "      'United States']},\n",
       "    'categories': [{'id': '4bf58dd8d48988d103951735',\n",
       "      'name': 'Clothing Store',\n",
       "      'pluralName': 'Clothing Stores',\n",
       "      'shortName': 'Apparel',\n",
       "      'icon': {'prefix': 'https://ss3.4sqi.net/img/categories_v2/shops/apparel_',\n",
       "       'suffix': '.png'},\n",
       "      'primary': True}],\n",
       "    'referralId': 'v-1613206336',\n",
       "    'hasPerk': False},\n",
       "   {'id': '588a4316326c5a4b60559f17',\n",
       "    'name': 'Pisillo Italian Cafe',\n",
       "    'location': {'lat': 40.71049280792626,\n",
       "     'lng': -74.00754611675153,\n",
       "     'labeledLatLngs': [{'label': 'display',\n",
       "       'lat': 40.71049280792626,\n",
       "       'lng': -74.00754611675153}],\n",
       "     'distance': 1330,\n",
       "     'cc': 'US',\n",
       "     'city': 'New York',\n",
       "     'state': 'NY',\n",
       "     'country': 'United States',\n",
       "     'formattedAddress': ['New York, NY', 'United States']},\n",
       "    'categories': [{'id': '4bf58dd8d48988d16d941735',\n",
       "      'name': 'Café',\n",
       "      'pluralName': 'Cafés',\n",
       "      'shortName': 'Café',\n",
       "      'icon': {'prefix': 'https://ss3.4sqi.net/img/categories_v2/food/cafe_',\n",
       "       'suffix': '.png'},\n",
       "      'primary': True}],\n",
       "    'delivery': {'id': '2403893',\n",
       "     'url': 'https://www.seamless.com/menu/pisillo-italian-cafe-99-nassau-street-new-york/2403893?affiliate=1131&utm_source=foursquare-affiliate-network&utm_medium=affiliate&utm_campaign=1131&utm_content=2403893',\n",
       "     'provider': {'name': 'seamless',\n",
       "      'icon': {'prefix': 'https://fastly.4sqi.net/img/general/cap/',\n",
       "       'sizes': [40, 50],\n",
       "       'name': '/delivery_provider_seamless_20180129.png'}}},\n",
       "    'referralId': 'v-1613206336',\n",
       "    'hasPerk': False},\n",
       "   {'id': '4b68dab4f964a52043902be3',\n",
       "    'name': \"D'Angelo's Italian Pizzeria & Restaurant\",\n",
       "    'location': {'address': '63-27 108th St',\n",
       "     'crossStreet': '63rd Road',\n",
       "     'lat': 40.73418842002607,\n",
       "     'lng': -73.85009000255144,\n",
       "     'labeledLatLngs': [{'label': 'display',\n",
       "       'lat': 40.73418842002607,\n",
       "       'lng': -73.85009000255144}],\n",
       "     'distance': 13208,\n",
       "     'postalCode': '11375',\n",
       "     'cc': 'US',\n",
       "     'city': 'Forest Hills',\n",
       "     'state': 'NY',\n",
       "     'country': 'United States',\n",
       "     'formattedAddress': ['63-27 108th St (63rd Road)',\n",
       "      'Forest Hills, NY 11375',\n",
       "      'United States']},\n",
       "    'categories': [{'id': '4bf58dd8d48988d1ca941735',\n",
       "      'name': 'Pizza Place',\n",
       "      'pluralName': 'Pizza Places',\n",
       "      'shortName': 'Pizza',\n",
       "      'icon': {'prefix': 'https://ss3.4sqi.net/img/categories_v2/food/pizza_',\n",
       "       'suffix': '.png'},\n",
       "      'primary': True}],\n",
       "    'delivery': {'id': '73829',\n",
       "     'url': 'https://www.seamless.com/menu/dangelos-63-27-108th-st-forest-hills/73829?affiliate=1131&utm_source=foursquare-affiliate-network&utm_medium=affiliate&utm_campaign=1131&utm_content=73829',\n",
       "     'provider': {'name': 'seamless',\n",
       "      'icon': {'prefix': 'https://fastly.4sqi.net/img/general/cap/',\n",
       "       'sizes': [40, 50],\n",
       "       'name': '/delivery_provider_seamless_20180129.png'}}},\n",
       "    'referralId': 'v-1613206336',\n",
       "    'hasPerk': False},\n",
       "   {'id': '5db3489e5fd6fb00082d7f39',\n",
       "    'name': 'Italian Tile Imports',\n",
       "    'location': {'address': '7202 18th Ave',\n",
       "     'lat': 40.615195,\n",
       "     'lng': -73.994556,\n",
       "     'labeledLatLngs': [{'label': 'display',\n",
       "       'lat': 40.615195,\n",
       "       'lng': -73.994556},\n",
       "      {'label': 'entrance', 'lat': 40.61511, 'lng': -73.99442}],\n",
       "     'distance': 9451,\n",
       "     'postalCode': '11204',\n",
       "     'cc': 'US',\n",
       "     'city': 'Brooklyn',\n",
       "     'state': 'NY',\n",
       "     'country': 'United States',\n",
       "     'formattedAddress': ['7202 18th Ave',\n",
       "      'Brooklyn, NY 11204',\n",
       "      'United States']},\n",
       "    'categories': [{'id': '545419b1498ea6ccd0202f58',\n",
       "      'name': 'Home Service',\n",
       "      'pluralName': 'Home Services & Repairs',\n",
       "      'shortName': 'Home Services',\n",
       "      'icon': {'prefix': 'https://ss3.4sqi.net/img/categories_v2/shops/hardware_',\n",
       "       'suffix': '.png'},\n",
       "      'primary': True}],\n",
       "    'venuePage': {'id': '581898062'},\n",
       "    'referralId': 'v-1613206336',\n",
       "    'hasPerk': False},\n",
       "   {'id': '528bf16711d2b7722da6b51c',\n",
       "    'name': 'Pisillo Italian Panini',\n",
       "    'location': {'address': '97 Nassau St',\n",
       "     'crossStreet': 'at Ann St',\n",
       "     'lat': 40.710530084460785,\n",
       "     'lng': -74.00752571804911,\n",
       "     'labeledLatLngs': [{'label': 'display',\n",
       "       'lat': 40.710530084460785,\n",
       "       'lng': -74.00752571804911}],\n",
       "     'distance': 1333,\n",
       "     'postalCode': '10038',\n",
       "     'cc': 'US',\n",
       "     'city': 'New York',\n",
       "     'state': 'NY',\n",
       "     'country': 'United States',\n",
       "     'formattedAddress': ['97 Nassau St (at Ann St)',\n",
       "      'New York, NY 10038',\n",
       "      'United States']},\n",
       "    'categories': [{'id': '4bf58dd8d48988d1c5941735',\n",
       "      'name': 'Sandwich Place',\n",
       "      'pluralName': 'Sandwich Places',\n",
       "      'shortName': 'Sandwiches',\n",
       "      'icon': {'prefix': 'https://ss3.4sqi.net/img/categories_v2/food/deli_',\n",
       "       'suffix': '.png'},\n",
       "      'primary': True}],\n",
       "    'delivery': {'id': '286355',\n",
       "     'url': 'https://www.seamless.com/menu/pisillo-97-nassau-st-new-york/286355?affiliate=1131&utm_source=foursquare-affiliate-network&utm_medium=affiliate&utm_campaign=1131&utm_content=286355',\n",
       "     'provider': {'name': 'seamless',\n",
       "      'icon': {'prefix': 'https://fastly.4sqi.net/img/general/cap/',\n",
       "       'sizes': [40, 50],\n",
       "       'name': '/delivery_provider_seamless_20180129.png'}}},\n",
       "    'venuePage': {'id': '105457747'},\n",
       "    'referralId': 'v-1613206336',\n",
       "    'hasPerk': False},\n",
       "   {'id': '51e7310c498e639ed27062b1',\n",
       "    'name': 'Quality Italian',\n",
       "    'location': {'address': '57 W 57th St',\n",
       "     'crossStreet': 'at 6th Ave',\n",
       "     'lat': 40.76451329448865,\n",
       "     'lng': -73.97682710066374,\n",
       "     'labeledLatLngs': [{'label': 'display',\n",
       "       'lat': 40.76451329448865,\n",
       "       'lng': -73.97682710066374},\n",
       "      {'label': 'entrance', 'lat': 40.7646, 'lng': -73.976781}],\n",
       "     'distance': 7442,\n",
       "     'postalCode': '10019',\n",
       "     'cc': 'US',\n",
       "     'city': 'New York',\n",
       "     'state': 'NY',\n",
       "     'country': 'United States',\n",
       "     'formattedAddress': ['57 W 57th St (at 6th Ave)',\n",
       "      'New York, NY 10019',\n",
       "      'United States']},\n",
       "    'categories': [{'id': '4bf58dd8d48988d110941735',\n",
       "      'name': 'Italian Restaurant',\n",
       "      'pluralName': 'Italian Restaurants',\n",
       "      'shortName': 'Italian',\n",
       "      'icon': {'prefix': 'https://ss3.4sqi.net/img/categories_v2/food/italian_',\n",
       "       'suffix': '.png'},\n",
       "      'primary': True}],\n",
       "    'delivery': {'id': '2017057',\n",
       "     'url': 'https://www.seamless.com/menu/quality-italian-57-w-57th-st-new-york/2017057?affiliate=1131&utm_source=foursquare-affiliate-network&utm_medium=affiliate&utm_campaign=1131&utm_content=2017057',\n",
       "     'provider': {'name': 'seamless',\n",
       "      'icon': {'prefix': 'https://fastly.4sqi.net/img/general/cap/',\n",
       "       'sizes': [40, 50],\n",
       "       'name': '/delivery_provider_seamless_20180129.png'}}},\n",
       "    'referralId': 'v-1613206336',\n",
       "    'hasPerk': False},\n",
       "   {'id': '4f44a2bd19836ed0019571be',\n",
       "    'name': 'Mama Mia 44sw Italian Cuisine',\n",
       "    'location': {'address': '621 9th Ave',\n",
       "     'lat': 40.75971578462592,\n",
       "     'lng': -73.9918286373273,\n",
       "     'labeledLatLngs': [{'label': 'display',\n",
       "       'lat': 40.75971578462592,\n",
       "       'lng': -73.9918286373273}],\n",
       "     'distance': 6683,\n",
       "     'postalCode': '10036',\n",
       "     'cc': 'US',\n",
       "     'city': 'New York',\n",
       "     'state': 'NY',\n",
       "     'country': 'United States',\n",
       "     'formattedAddress': ['621 9th Ave',\n",
       "      'New York, NY 10036',\n",
       "      'United States']},\n",
       "    'categories': [{'id': '4bf58dd8d48988d110941735',\n",
       "      'name': 'Italian Restaurant',\n",
       "      'pluralName': 'Italian Restaurants',\n",
       "      'shortName': 'Italian',\n",
       "      'icon': {'prefix': 'https://ss3.4sqi.net/img/categories_v2/food/italian_',\n",
       "       'suffix': '.png'},\n",
       "      'primary': True}],\n",
       "    'delivery': {'id': '320951',\n",
       "     'url': 'https://www.seamless.com/menu/mama-mia-44-sw-621-9th-ave-new-york/320951?affiliate=1131&utm_source=foursquare-affiliate-network&utm_medium=affiliate&utm_campaign=1131&utm_content=320951',\n",
       "     'provider': {'name': 'seamless',\n",
       "      'icon': {'prefix': 'https://fastly.4sqi.net/img/general/cap/',\n",
       "       'sizes': [40, 50],\n",
       "       'name': '/delivery_provider_seamless_20180129.png'}}},\n",
       "    'referralId': 'v-1613206336',\n",
       "    'hasPerk': False},\n",
       "   {'id': '4a7778a1f964a5209be41fe3',\n",
       "    'name': \"Carmine's Italian Restaurant\",\n",
       "    'location': {'address': '2450 Broadway',\n",
       "     'crossStreet': 'btwn W 90th & W 91st',\n",
       "     'lat': 40.7910963,\n",
       "     'lng': -73.9739914,\n",
       "     'labeledLatLngs': [{'label': 'display',\n",
       "       'lat': 40.7910963,\n",
       "       'lng': -73.9739914}],\n",
       "     'distance': 10375,\n",
       "     'postalCode': '10024',\n",
       "     'cc': 'US',\n",
       "     'city': 'New York',\n",
       "     'state': 'NY',\n",
       "     'country': 'United States',\n",
       "     'formattedAddress': ['2450 Broadway (btwn W 90th & W 91st)',\n",
       "      'New York, NY 10024',\n",
       "      'United States']},\n",
       "    'categories': [{'id': '4bf58dd8d48988d110941735',\n",
       "      'name': 'Italian Restaurant',\n",
       "      'pluralName': 'Italian Restaurants',\n",
       "      'shortName': 'Italian',\n",
       "      'icon': {'prefix': 'https://ss3.4sqi.net/img/categories_v2/food/italian_',\n",
       "       'suffix': '.png'},\n",
       "      'primary': True}],\n",
       "    'delivery': {'id': '294727',\n",
       "     'url': 'https://www.seamless.com/menu/carmines-upper-west-side-2450-broadway--new-york/294727?affiliate=1131&utm_source=foursquare-affiliate-network&utm_medium=affiliate&utm_campaign=1131&utm_content=294727',\n",
       "     'provider': {'name': 'seamless',\n",
       "      'icon': {'prefix': 'https://fastly.4sqi.net/img/general/cap/',\n",
       "       'sizes': [40, 50],\n",
       "       'name': '/delivery_provider_seamless_20180129.png'}}},\n",
       "    'referralId': 'v-1613206336',\n",
       "    'hasPerk': False},\n",
       "   {'id': '4f3feae2e4b0ac9416a72118',\n",
       "    'name': 'Benvenuti Italian Specialties',\n",
       "    'location': {'address': '235 S End Ave',\n",
       "     'lat': 40.70968105555279,\n",
       "     'lng': -74.01652043988257,\n",
       "     'labeledLatLngs': [{'label': 'display',\n",
       "       'lat': 40.70968105555279,\n",
       "       'lng': -74.01652043988257}],\n",
       "     'distance': 1762,\n",
       "     'postalCode': '10280',\n",
       "     'cc': 'US',\n",
       "     'city': 'New York',\n",
       "     'state': 'NY',\n",
       "     'country': 'United States',\n",
       "     'formattedAddress': ['235 S End Ave',\n",
       "      'New York, NY 10280',\n",
       "      'United States']},\n",
       "    'categories': [{'id': '4bf58dd8d48988d1f5941735',\n",
       "      'name': 'Gourmet Shop',\n",
       "      'pluralName': 'Gourmet Shops',\n",
       "      'shortName': 'Gourmet',\n",
       "      'icon': {'prefix': 'https://ss3.4sqi.net/img/categories_v2/shops/food_gourmet_',\n",
       "       'suffix': '.png'},\n",
       "      'primary': True}],\n",
       "    'delivery': {'id': '285069',\n",
       "     'url': 'https://www.seamless.com/menu/benvenuti-235-s-end-ave-new-york/285069?affiliate=1131&utm_source=foursquare-affiliate-network&utm_medium=affiliate&utm_campaign=1131&utm_content=285069',\n",
       "     'provider': {'name': 'seamless',\n",
       "      'icon': {'prefix': 'https://fastly.4sqi.net/img/general/cap/',\n",
       "       'sizes': [40, 50],\n",
       "       'name': '/delivery_provider_seamless_20180129.png'}}},\n",
       "    'referralId': 'v-1613206336',\n",
       "    'hasPerk': False},\n",
       "   {'id': '4b6c4ebaf964a520612f2ce3',\n",
       "    'name': 'Olive Tree Italian',\n",
       "    'location': {'address': '182 Lexington Ave',\n",
       "     'crossStreet': 'btw 31st & 32nd',\n",
       "     'lat': 40.74473571777344,\n",
       "     'lng': -73.98121643066406,\n",
       "     'labeledLatLngs': [{'label': 'display',\n",
       "       'lat': 40.74473571777344,\n",
       "       'lng': -73.98121643066406}],\n",
       "     'distance': 5225,\n",
       "     'postalCode': '10016',\n",
       "     'cc': 'US',\n",
       "     'city': 'New York',\n",
       "     'state': 'NY',\n",
       "     'country': 'United States',\n",
       "     'formattedAddress': ['182 Lexington Ave (btw 31st & 32nd)',\n",
       "      'New York, NY 10016',\n",
       "      'United States']},\n",
       "    'categories': [{'id': '4bf58dd8d48988d110941735',\n",
       "      'name': 'Italian Restaurant',\n",
       "      'pluralName': 'Italian Restaurants',\n",
       "      'shortName': 'Italian',\n",
       "      'icon': {'prefix': 'https://ss3.4sqi.net/img/categories_v2/food/italian_',\n",
       "       'suffix': '.png'},\n",
       "      'primary': True}],\n",
       "    'referralId': 'v-1613206336',\n",
       "    'hasPerk': False},\n",
       "   {'id': '4b786cecf964a52052cd2ee3',\n",
       "    'name': 'Bellini Italian Restaurant & Brick Oven Pizza',\n",
       "    'location': {'address': '483 Columbus Ave',\n",
       "     'crossStreet': 'btwn 83rd & 84th St',\n",
       "     'lat': 40.784655556336745,\n",
       "     'lng': -73.97352196636533,\n",
       "     'labeledLatLngs': [{'label': 'display',\n",
       "       'lat': 40.784655556336745,\n",
       "       'lng': -73.97352196636533},\n",
       "      {'label': 'entrance', 'lat': 40.784632, 'lng': -73.973318}],\n",
       "     'distance': 9684,\n",
       "     'postalCode': '10024',\n",
       "     'cc': 'US',\n",
       "     'city': 'New York',\n",
       "     'state': 'NY',\n",
       "     'country': 'United States',\n",
       "     'formattedAddress': ['483 Columbus Ave (btwn 83rd & 84th St)',\n",
       "      'New York, NY 10024',\n",
       "      'United States']},\n",
       "    'categories': [{'id': '4bf58dd8d48988d110941735',\n",
       "      'name': 'Italian Restaurant',\n",
       "      'pluralName': 'Italian Restaurants',\n",
       "      'shortName': 'Italian',\n",
       "      'icon': {'prefix': 'https://ss3.4sqi.net/img/categories_v2/food/italian_',\n",
       "       'suffix': '.png'},\n",
       "      'primary': True}],\n",
       "    'delivery': {'id': '383815',\n",
       "     'url': 'https://www.seamless.com/menu/bellini-italian-restaurant-483-columbus-ave-new-york/383815?affiliate=1131&utm_source=foursquare-affiliate-network&utm_medium=affiliate&utm_campaign=1131&utm_content=383815',\n",
       "     'provider': {'name': 'seamless',\n",
       "      'icon': {'prefix': 'https://fastly.4sqi.net/img/general/cap/',\n",
       "       'sizes': [40, 50],\n",
       "       'name': '/delivery_provider_seamless_20180129.png'}}},\n",
       "    'venuePage': {'id': '101733469'},\n",
       "    'referralId': 'v-1613206336',\n",
       "    'hasPerk': False},\n",
       "   {'id': '4db8b4a46a2334682d993ff6',\n",
       "    'name': 'Carbon Italian Restaurant',\n",
       "    'location': {'address': '331 W 38th St',\n",
       "     'crossStreet': '8th avenue and 9th',\n",
       "     'lat': 40.755505294147575,\n",
       "     'lng': -73.99300887473368,\n",
       "     'labeledLatLngs': [{'label': 'display',\n",
       "       'lat': 40.755505294147575,\n",
       "       'lng': -73.99300887473368},\n",
       "      {'label': 'entrance', 'lat': 40.755402, 'lng': -73.99304}],\n",
       "     'distance': 6206,\n",
       "     'postalCode': '10018',\n",
       "     'cc': 'US',\n",
       "     'city': 'New York',\n",
       "     'state': 'NY',\n",
       "     'country': 'United States',\n",
       "     'formattedAddress': ['331 W 38th St (8th avenue and 9th)',\n",
       "      'New York, NY 10018',\n",
       "      'United States']},\n",
       "    'categories': [{'id': '4bf58dd8d48988d110941735',\n",
       "      'name': 'Italian Restaurant',\n",
       "      'pluralName': 'Italian Restaurants',\n",
       "      'shortName': 'Italian',\n",
       "      'icon': {'prefix': 'https://ss3.4sqi.net/img/categories_v2/food/italian_',\n",
       "       'suffix': '.png'},\n",
       "      'primary': True}],\n",
       "    'referralId': 'v-1613206336',\n",
       "    'hasPerk': False}]}}"
      ]
     },
     "execution_count": 16,
     "metadata": {},
     "output_type": "execute_result"
    }
   ],
   "source": [
    "results = requests.get(url).json()\n",
    "results"
   ]
  },
  {
   "cell_type": "markdown",
   "metadata": {
    "button": false,
    "new_sheet": false,
    "run_control": {
     "read_only": false
    }
   },
   "source": [
    "#### Get relevant part of JSON and transform it into a _pandas_ dataframe\n"
   ]
  },
  {
   "cell_type": "code",
   "execution_count": 17,
   "metadata": {
    "button": false,
    "collapsed": false,
    "jupyter": {
     "outputs_hidden": false
    },
    "new_sheet": false,
    "run_control": {
     "read_only": false
    }
   },
   "outputs": [
    {
     "name": "stderr",
     "output_type": "stream",
     "text": [
      "/home/jupyterlab/conda/envs/python/lib/python3.6/site-packages/ipykernel_launcher.py:5: FutureWarning: pandas.io.json.json_normalize is deprecated, use pandas.json_normalize instead\n",
      "  \"\"\"\n"
     ]
    },
    {
     "data": {
      "text/html": [
       "<div>\n",
       "<style scoped>\n",
       "    .dataframe tbody tr th:only-of-type {\n",
       "        vertical-align: middle;\n",
       "    }\n",
       "\n",
       "    .dataframe tbody tr th {\n",
       "        vertical-align: top;\n",
       "    }\n",
       "\n",
       "    .dataframe thead th {\n",
       "        text-align: right;\n",
       "    }\n",
       "</style>\n",
       "<table border=\"1\" class=\"dataframe\">\n",
       "  <thead>\n",
       "    <tr style=\"text-align: right;\">\n",
       "      <th></th>\n",
       "      <th>id</th>\n",
       "      <th>name</th>\n",
       "      <th>categories</th>\n",
       "      <th>referralId</th>\n",
       "      <th>hasPerk</th>\n",
       "      <th>location.address</th>\n",
       "      <th>location.crossStreet</th>\n",
       "      <th>location.lat</th>\n",
       "      <th>location.lng</th>\n",
       "      <th>location.labeledLatLngs</th>\n",
       "      <th>...</th>\n",
       "      <th>location.country</th>\n",
       "      <th>location.formattedAddress</th>\n",
       "      <th>venuePage.id</th>\n",
       "      <th>location.neighborhood</th>\n",
       "      <th>delivery.id</th>\n",
       "      <th>delivery.url</th>\n",
       "      <th>delivery.provider.name</th>\n",
       "      <th>delivery.provider.icon.prefix</th>\n",
       "      <th>delivery.provider.icon.sizes</th>\n",
       "      <th>delivery.provider.icon.name</th>\n",
       "    </tr>\n",
       "  </thead>\n",
       "  <tbody>\n",
       "    <tr>\n",
       "      <th>0</th>\n",
       "      <td>4a4560a7f964a5201aa81fe3</td>\n",
       "      <td>Harry's Italian Pizza Bar</td>\n",
       "      <td>[{'id': '4bf58dd8d48988d110941735', 'name': 'I...</td>\n",
       "      <td>v-1613206336</td>\n",
       "      <td>False</td>\n",
       "      <td>2 Gold St</td>\n",
       "      <td>at Maiden Ln.</td>\n",
       "      <td>40.707634</td>\n",
       "      <td>-74.006996</td>\n",
       "      <td>[{'label': 'display', 'lat': 40.7076335455641,...</td>\n",
       "      <td>...</td>\n",
       "      <td>United States</td>\n",
       "      <td>[2 Gold St (at Maiden Ln.), New York, NY 10038...</td>\n",
       "      <td>77559825</td>\n",
       "      <td>NaN</td>\n",
       "      <td>NaN</td>\n",
       "      <td>NaN</td>\n",
       "      <td>NaN</td>\n",
       "      <td>NaN</td>\n",
       "      <td>NaN</td>\n",
       "      <td>NaN</td>\n",
       "    </tr>\n",
       "    <tr>\n",
       "      <th>1</th>\n",
       "      <td>4e4c4e62bd413c4cc6686059</td>\n",
       "      <td>Carmela's Italian Specialties</td>\n",
       "      <td>[{'id': '4bf58dd8d48988d1ca941735', 'name': 'P...</td>\n",
       "      <td>v-1613206336</td>\n",
       "      <td>False</td>\n",
       "      <td>30 Water St</td>\n",
       "      <td>NaN</td>\n",
       "      <td>40.703293</td>\n",
       "      <td>-74.011017</td>\n",
       "      <td>[{'label': 'display', 'lat': 40.70329284667969...</td>\n",
       "      <td>...</td>\n",
       "      <td>United States</td>\n",
       "      <td>[30 Water St, New York, NJ 10004, United States]</td>\n",
       "      <td>NaN</td>\n",
       "      <td>NaN</td>\n",
       "      <td>NaN</td>\n",
       "      <td>NaN</td>\n",
       "      <td>NaN</td>\n",
       "      <td>NaN</td>\n",
       "      <td>NaN</td>\n",
       "      <td>NaN</td>\n",
       "    </tr>\n",
       "    <tr>\n",
       "      <th>2</th>\n",
       "      <td>4b9d4c67f964a5206ca136e3</td>\n",
       "      <td>Italian American Museum Of New York</td>\n",
       "      <td>[{'id': '4bf58dd8d48988d190941735', 'name': 'H...</td>\n",
       "      <td>v-1613206336</td>\n",
       "      <td>False</td>\n",
       "      <td>155 Mulberry St</td>\n",
       "      <td>at Grand St</td>\n",
       "      <td>40.719191</td>\n",
       "      <td>-73.997376</td>\n",
       "      <td>[{'label': 'display', 'lat': 40.71919065572268...</td>\n",
       "      <td>...</td>\n",
       "      <td>United States</td>\n",
       "      <td>[155 Mulberry St (at Grand St), New York, NY 1...</td>\n",
       "      <td>66342615</td>\n",
       "      <td>NaN</td>\n",
       "      <td>NaN</td>\n",
       "      <td>NaN</td>\n",
       "      <td>NaN</td>\n",
       "      <td>NaN</td>\n",
       "      <td>NaN</td>\n",
       "      <td>NaN</td>\n",
       "    </tr>\n",
       "    <tr>\n",
       "      <th>3</th>\n",
       "      <td>4e57dbfbb0fb4c4d61f6e825</td>\n",
       "      <td>Italian Ice</td>\n",
       "      <td>[{'id': '4bf58dd8d48988d1cb941735', 'name': 'F...</td>\n",
       "      <td>v-1613206336</td>\n",
       "      <td>False</td>\n",
       "      <td>158 Montague St</td>\n",
       "      <td>NaN</td>\n",
       "      <td>40.694344</td>\n",
       "      <td>-73.992805</td>\n",
       "      <td>[{'label': 'display', 'lat': 40.69434356689453...</td>\n",
       "      <td>...</td>\n",
       "      <td>United States</td>\n",
       "      <td>[158 Montague St, Brooklyn Heights, NY 11201, ...</td>\n",
       "      <td>NaN</td>\n",
       "      <td>NaN</td>\n",
       "      <td>NaN</td>\n",
       "      <td>NaN</td>\n",
       "      <td>NaN</td>\n",
       "      <td>NaN</td>\n",
       "      <td>NaN</td>\n",
       "      <td>NaN</td>\n",
       "    </tr>\n",
       "    <tr>\n",
       "      <th>4</th>\n",
       "      <td>4a90dbbef964a520a11920e3</td>\n",
       "      <td>Italian Village Pizzeria</td>\n",
       "      <td>[{'id': '4bf58dd8d48988d1ca941735', 'name': 'P...</td>\n",
       "      <td>v-1613206336</td>\n",
       "      <td>False</td>\n",
       "      <td>1526 1st Ave</td>\n",
       "      <td>79th and 1st</td>\n",
       "      <td>40.772669</td>\n",
       "      <td>-73.952319</td>\n",
       "      <td>[{'label': 'display', 'lat': 40.772669, 'lng':...</td>\n",
       "      <td>...</td>\n",
       "      <td>United States</td>\n",
       "      <td>[1526 1st Ave (79th and 1st), New York, NY 100...</td>\n",
       "      <td>NaN</td>\n",
       "      <td>Yorkville</td>\n",
       "      <td>1659847</td>\n",
       "      <td>https://www.seamless.com/menu/italian-village-...</td>\n",
       "      <td>seamless</td>\n",
       "      <td>https://fastly.4sqi.net/img/general/cap/</td>\n",
       "      <td>[40, 50]</td>\n",
       "      <td>/delivery_provider_seamless_20180129.png</td>\n",
       "    </tr>\n",
       "  </tbody>\n",
       "</table>\n",
       "<p>5 rows × 25 columns</p>\n",
       "</div>"
      ],
      "text/plain": [
       "                         id                                 name  \\\n",
       "0  4a4560a7f964a5201aa81fe3            Harry's Italian Pizza Bar   \n",
       "1  4e4c4e62bd413c4cc6686059        Carmela's Italian Specialties   \n",
       "2  4b9d4c67f964a5206ca136e3  Italian American Museum Of New York   \n",
       "3  4e57dbfbb0fb4c4d61f6e825                          Italian Ice   \n",
       "4  4a90dbbef964a520a11920e3             Italian Village Pizzeria   \n",
       "\n",
       "                                          categories    referralId  hasPerk  \\\n",
       "0  [{'id': '4bf58dd8d48988d110941735', 'name': 'I...  v-1613206336    False   \n",
       "1  [{'id': '4bf58dd8d48988d1ca941735', 'name': 'P...  v-1613206336    False   \n",
       "2  [{'id': '4bf58dd8d48988d190941735', 'name': 'H...  v-1613206336    False   \n",
       "3  [{'id': '4bf58dd8d48988d1cb941735', 'name': 'F...  v-1613206336    False   \n",
       "4  [{'id': '4bf58dd8d48988d1ca941735', 'name': 'P...  v-1613206336    False   \n",
       "\n",
       "  location.address location.crossStreet  location.lat  location.lng  \\\n",
       "0        2 Gold St        at Maiden Ln.     40.707634    -74.006996   \n",
       "1      30 Water St                  NaN     40.703293    -74.011017   \n",
       "2  155 Mulberry St          at Grand St     40.719191    -73.997376   \n",
       "3  158 Montague St                  NaN     40.694344    -73.992805   \n",
       "4     1526 1st Ave         79th and 1st     40.772669    -73.952319   \n",
       "\n",
       "                             location.labeledLatLngs  ...  location.country  \\\n",
       "0  [{'label': 'display', 'lat': 40.7076335455641,...  ...     United States   \n",
       "1  [{'label': 'display', 'lat': 40.70329284667969...  ...     United States   \n",
       "2  [{'label': 'display', 'lat': 40.71919065572268...  ...     United States   \n",
       "3  [{'label': 'display', 'lat': 40.69434356689453...  ...     United States   \n",
       "4  [{'label': 'display', 'lat': 40.772669, 'lng':...  ...     United States   \n",
       "\n",
       "                           location.formattedAddress venuePage.id  \\\n",
       "0  [2 Gold St (at Maiden Ln.), New York, NY 10038...     77559825   \n",
       "1   [30 Water St, New York, NJ 10004, United States]          NaN   \n",
       "2  [155 Mulberry St (at Grand St), New York, NY 1...     66342615   \n",
       "3  [158 Montague St, Brooklyn Heights, NY 11201, ...          NaN   \n",
       "4  [1526 1st Ave (79th and 1st), New York, NY 100...          NaN   \n",
       "\n",
       "  location.neighborhood delivery.id  \\\n",
       "0                   NaN         NaN   \n",
       "1                   NaN         NaN   \n",
       "2                   NaN         NaN   \n",
       "3                   NaN         NaN   \n",
       "4             Yorkville     1659847   \n",
       "\n",
       "                                        delivery.url delivery.provider.name  \\\n",
       "0                                                NaN                    NaN   \n",
       "1                                                NaN                    NaN   \n",
       "2                                                NaN                    NaN   \n",
       "3                                                NaN                    NaN   \n",
       "4  https://www.seamless.com/menu/italian-village-...               seamless   \n",
       "\n",
       "              delivery.provider.icon.prefix delivery.provider.icon.sizes  \\\n",
       "0                                       NaN                          NaN   \n",
       "1                                       NaN                          NaN   \n",
       "2                                       NaN                          NaN   \n",
       "3                                       NaN                          NaN   \n",
       "4  https://fastly.4sqi.net/img/general/cap/                     [40, 50]   \n",
       "\n",
       "                delivery.provider.icon.name  \n",
       "0                                       NaN  \n",
       "1                                       NaN  \n",
       "2                                       NaN  \n",
       "3                                       NaN  \n",
       "4  /delivery_provider_seamless_20180129.png  \n",
       "\n",
       "[5 rows x 25 columns]"
      ]
     },
     "execution_count": 17,
     "metadata": {},
     "output_type": "execute_result"
    }
   ],
   "source": [
    "# assign relevant part of JSON to venues\n",
    "venues = results['response']['venues']\n",
    "\n",
    "# tranform venues into a dataframe\n",
    "dataframe = json_normalize(venues)\n",
    "dataframe.head()"
   ]
  },
  {
   "cell_type": "markdown",
   "metadata": {
    "button": false,
    "new_sheet": false,
    "run_control": {
     "read_only": false
    }
   },
   "source": [
    "#### Define information of interest and filter dataframe\n"
   ]
  },
  {
   "cell_type": "code",
   "execution_count": 18,
   "metadata": {
    "button": false,
    "collapsed": false,
    "jupyter": {
     "outputs_hidden": false
    },
    "new_sheet": false,
    "run_control": {
     "read_only": false
    },
    "scrolled": true
   },
   "outputs": [
    {
     "data": {
      "text/html": [
       "<div>\n",
       "<style scoped>\n",
       "    .dataframe tbody tr th:only-of-type {\n",
       "        vertical-align: middle;\n",
       "    }\n",
       "\n",
       "    .dataframe tbody tr th {\n",
       "        vertical-align: top;\n",
       "    }\n",
       "\n",
       "    .dataframe thead th {\n",
       "        text-align: right;\n",
       "    }\n",
       "</style>\n",
       "<table border=\"1\" class=\"dataframe\">\n",
       "  <thead>\n",
       "    <tr style=\"text-align: right;\">\n",
       "      <th></th>\n",
       "      <th>name</th>\n",
       "      <th>categories</th>\n",
       "      <th>address</th>\n",
       "      <th>crossStreet</th>\n",
       "      <th>lat</th>\n",
       "      <th>lng</th>\n",
       "      <th>labeledLatLngs</th>\n",
       "      <th>distance</th>\n",
       "      <th>postalCode</th>\n",
       "      <th>cc</th>\n",
       "      <th>city</th>\n",
       "      <th>state</th>\n",
       "      <th>country</th>\n",
       "      <th>formattedAddress</th>\n",
       "      <th>neighborhood</th>\n",
       "      <th>id</th>\n",
       "    </tr>\n",
       "  </thead>\n",
       "  <tbody>\n",
       "    <tr>\n",
       "      <th>0</th>\n",
       "      <td>Harry's Italian Pizza Bar</td>\n",
       "      <td>Italian Restaurant</td>\n",
       "      <td>2 Gold St</td>\n",
       "      <td>at Maiden Ln.</td>\n",
       "      <td>40.707634</td>\n",
       "      <td>-74.006996</td>\n",
       "      <td>[{'label': 'display', 'lat': 40.7076335455641,...</td>\n",
       "      <td>1034</td>\n",
       "      <td>10038</td>\n",
       "      <td>US</td>\n",
       "      <td>New York</td>\n",
       "      <td>NY</td>\n",
       "      <td>United States</td>\n",
       "      <td>[2 Gold St (at Maiden Ln.), New York, NY 10038...</td>\n",
       "      <td>NaN</td>\n",
       "      <td>4a4560a7f964a5201aa81fe3</td>\n",
       "    </tr>\n",
       "    <tr>\n",
       "      <th>1</th>\n",
       "      <td>Carmela's Italian Specialties</td>\n",
       "      <td>Pizza Place</td>\n",
       "      <td>30 Water St</td>\n",
       "      <td>NaN</td>\n",
       "      <td>40.703293</td>\n",
       "      <td>-74.011017</td>\n",
       "      <td>[{'label': 'display', 'lat': 40.70329284667969...</td>\n",
       "      <td>999</td>\n",
       "      <td>10004</td>\n",
       "      <td>US</td>\n",
       "      <td>New York</td>\n",
       "      <td>NJ</td>\n",
       "      <td>United States</td>\n",
       "      <td>[30 Water St, New York, NJ 10004, United States]</td>\n",
       "      <td>NaN</td>\n",
       "      <td>4e4c4e62bd413c4cc6686059</td>\n",
       "    </tr>\n",
       "    <tr>\n",
       "      <th>2</th>\n",
       "      <td>Italian American Museum Of New York</td>\n",
       "      <td>History Museum</td>\n",
       "      <td>155 Mulberry St</td>\n",
       "      <td>at Grand St</td>\n",
       "      <td>40.719191</td>\n",
       "      <td>-73.997376</td>\n",
       "      <td>[{'label': 'display', 'lat': 40.71919065572268...</td>\n",
       "      <td>2147</td>\n",
       "      <td>10013</td>\n",
       "      <td>US</td>\n",
       "      <td>New York</td>\n",
       "      <td>NY</td>\n",
       "      <td>United States</td>\n",
       "      <td>[155 Mulberry St (at Grand St), New York, NY 1...</td>\n",
       "      <td>NaN</td>\n",
       "      <td>4b9d4c67f964a5206ca136e3</td>\n",
       "    </tr>\n",
       "    <tr>\n",
       "      <th>3</th>\n",
       "      <td>Italian Ice</td>\n",
       "      <td>Food Truck</td>\n",
       "      <td>158 Montague St</td>\n",
       "      <td>NaN</td>\n",
       "      <td>40.694344</td>\n",
       "      <td>-73.992805</td>\n",
       "      <td>[{'label': 'display', 'lat': 40.69434356689453...</td>\n",
       "      <td>874</td>\n",
       "      <td>11201</td>\n",
       "      <td>US</td>\n",
       "      <td>Brooklyn Heights</td>\n",
       "      <td>NY</td>\n",
       "      <td>United States</td>\n",
       "      <td>[158 Montague St, Brooklyn Heights, NY 11201, ...</td>\n",
       "      <td>NaN</td>\n",
       "      <td>4e57dbfbb0fb4c4d61f6e825</td>\n",
       "    </tr>\n",
       "    <tr>\n",
       "      <th>4</th>\n",
       "      <td>Italian Village Pizzeria</td>\n",
       "      <td>Pizza Place</td>\n",
       "      <td>1526 1st Ave</td>\n",
       "      <td>79th and 1st</td>\n",
       "      <td>40.772669</td>\n",
       "      <td>-73.952319</td>\n",
       "      <td>[{'label': 'display', 'lat': 40.772669, 'lng':...</td>\n",
       "      <td>9034</td>\n",
       "      <td>10075</td>\n",
       "      <td>US</td>\n",
       "      <td>New York</td>\n",
       "      <td>NY</td>\n",
       "      <td>United States</td>\n",
       "      <td>[1526 1st Ave (79th and 1st), New York, NY 100...</td>\n",
       "      <td>Yorkville</td>\n",
       "      <td>4a90dbbef964a520a11920e3</td>\n",
       "    </tr>\n",
       "    <tr>\n",
       "      <th>5</th>\n",
       "      <td>Tableside Italian Cook Shoppe</td>\n",
       "      <td>Italian Restaurant</td>\n",
       "      <td>345 E 6th St</td>\n",
       "      <td>1st and 2nd Ave</td>\n",
       "      <td>40.726556</td>\n",
       "      <td>-73.986514</td>\n",
       "      <td>[{'label': 'display', 'lat': 40.72655617438330...</td>\n",
       "      <td>3167</td>\n",
       "      <td>10003</td>\n",
       "      <td>US</td>\n",
       "      <td>New York</td>\n",
       "      <td>NY</td>\n",
       "      <td>United States</td>\n",
       "      <td>[345 E 6th St (1st and 2nd Ave), New York, NY ...</td>\n",
       "      <td>NaN</td>\n",
       "      <td>58dd8ac3a8b75966fda9a547</td>\n",
       "    </tr>\n",
       "    <tr>\n",
       "      <th>6</th>\n",
       "      <td>Faicco's Italian Specialties</td>\n",
       "      <td>Sandwich Place</td>\n",
       "      <td>260 Bleecker St</td>\n",
       "      <td>at Cornelia St</td>\n",
       "      <td>40.731117</td>\n",
       "      <td>-74.003043</td>\n",
       "      <td>[{'label': 'display', 'lat': 40.73111661087598...</td>\n",
       "      <td>3473</td>\n",
       "      <td>10014</td>\n",
       "      <td>US</td>\n",
       "      <td>New York</td>\n",
       "      <td>NY</td>\n",
       "      <td>United States</td>\n",
       "      <td>[260 Bleecker St (at Cornelia St), New York, N...</td>\n",
       "      <td>NaN</td>\n",
       "      <td>4a74a36af964a520fede1fe3</td>\n",
       "    </tr>\n",
       "    <tr>\n",
       "      <th>7</th>\n",
       "      <td>Armandoi's Italian Restaurant and Bar</td>\n",
       "      <td>None</td>\n",
       "      <td>Court st.</td>\n",
       "      <td>NaN</td>\n",
       "      <td>40.694697</td>\n",
       "      <td>-73.992682</td>\n",
       "      <td>[{'label': 'display', 'lat': 40.69469693591064...</td>\n",
       "      <td>854</td>\n",
       "      <td>NaN</td>\n",
       "      <td>US</td>\n",
       "      <td>Brooklyn</td>\n",
       "      <td>NY</td>\n",
       "      <td>United States</td>\n",
       "      <td>[Court st., Brooklyn, NY, United States]</td>\n",
       "      <td>NaN</td>\n",
       "      <td>4d7af51735793704232c775d</td>\n",
       "    </tr>\n",
       "    <tr>\n",
       "      <th>8</th>\n",
       "      <td>Losurdo Brothers / Tony's Italian Bakery &amp; Deli</td>\n",
       "      <td>Bakery</td>\n",
       "      <td>410 2nd St</td>\n",
       "      <td>btw Grand St &amp; Adams St</td>\n",
       "      <td>40.740126</td>\n",
       "      <td>-74.036964</td>\n",
       "      <td>[{'label': 'display', 'lat': 40.74012586093679...</td>\n",
       "      <td>5447</td>\n",
       "      <td>07030</td>\n",
       "      <td>US</td>\n",
       "      <td>Hoboken</td>\n",
       "      <td>NJ</td>\n",
       "      <td>United States</td>\n",
       "      <td>[410 2nd St (btw Grand St &amp; Adams St), Hoboken...</td>\n",
       "      <td>NaN</td>\n",
       "      <td>4b269f5af964a520817e24e3</td>\n",
       "    </tr>\n",
       "    <tr>\n",
       "      <th>9</th>\n",
       "      <td>Alex's Italian Restaurant &amp; Brick Oven Pizza</td>\n",
       "      <td>Italian Restaurant</td>\n",
       "      <td>346 Grove St</td>\n",
       "      <td>NaN</td>\n",
       "      <td>40.720585</td>\n",
       "      <td>-74.042752</td>\n",
       "      <td>[{'label': 'display', 'lat': 40.72058470693942...</td>\n",
       "      <td>4273</td>\n",
       "      <td>07302</td>\n",
       "      <td>US</td>\n",
       "      <td>Jersey City</td>\n",
       "      <td>NJ</td>\n",
       "      <td>United States</td>\n",
       "      <td>[346 Grove St, Jersey City, NJ 07302, United S...</td>\n",
       "      <td>NaN</td>\n",
       "      <td>5400c682498e3831aaada9fc</td>\n",
       "    </tr>\n",
       "    <tr>\n",
       "      <th>10</th>\n",
       "      <td>Di So's Italian Food Truck</td>\n",
       "      <td>Italian Restaurant</td>\n",
       "      <td>NaN</td>\n",
       "      <td>NaN</td>\n",
       "      <td>40.703973</td>\n",
       "      <td>-74.008627</td>\n",
       "      <td>[{'label': 'display', 'lat': 40.70397251406873...</td>\n",
       "      <td>851</td>\n",
       "      <td>NaN</td>\n",
       "      <td>US</td>\n",
       "      <td>New York</td>\n",
       "      <td>NY</td>\n",
       "      <td>United States</td>\n",
       "      <td>[New York, NY, United States]</td>\n",
       "      <td>Financial District</td>\n",
       "      <td>51e245e8498eb19e2e908b76</td>\n",
       "    </tr>\n",
       "    <tr>\n",
       "      <th>11</th>\n",
       "      <td>Rita's Italian Ice &amp; Frozen Custard</td>\n",
       "      <td>Dessert Shop</td>\n",
       "      <td>4 South Street, LL Space 206</td>\n",
       "      <td>NaN</td>\n",
       "      <td>40.702097</td>\n",
       "      <td>-74.012018</td>\n",
       "      <td>[{'label': 'display', 'lat': 40.70209699999999...</td>\n",
       "      <td>1040</td>\n",
       "      <td>10004</td>\n",
       "      <td>US</td>\n",
       "      <td>New York</td>\n",
       "      <td>NY</td>\n",
       "      <td>United States</td>\n",
       "      <td>[4 South Street, LL Space 206, New York, NY 10...</td>\n",
       "      <td>NaN</td>\n",
       "      <td>5c52748435d3fc002cc413c9</td>\n",
       "    </tr>\n",
       "    <tr>\n",
       "      <th>12</th>\n",
       "      <td>Italian Vogue</td>\n",
       "      <td>Office</td>\n",
       "      <td>750 3rd Ave</td>\n",
       "      <td>btw E 46th &amp; 47th St</td>\n",
       "      <td>40.754152</td>\n",
       "      <td>-73.973140</td>\n",
       "      <td>[{'label': 'display', 'lat': 40.75415195619446...</td>\n",
       "      <td>6439</td>\n",
       "      <td>10017</td>\n",
       "      <td>US</td>\n",
       "      <td>New York</td>\n",
       "      <td>NY</td>\n",
       "      <td>United States</td>\n",
       "      <td>[750 3rd Ave (btw E 46th &amp; 47th St), New York,...</td>\n",
       "      <td>NaN</td>\n",
       "      <td>4c6d6619e6b7b1f7ef98a98e</td>\n",
       "    </tr>\n",
       "    <tr>\n",
       "      <th>13</th>\n",
       "      <td>Ralph's Famous Italian Ices</td>\n",
       "      <td>Ice Cream Shop</td>\n",
       "      <td>357 Graham Ave</td>\n",
       "      <td>btwn Metropolitan and Conselyea</td>\n",
       "      <td>40.715103</td>\n",
       "      <td>-73.944710</td>\n",
       "      <td>[{'label': 'display', 'lat': 40.71510314941406...</td>\n",
       "      <td>4959</td>\n",
       "      <td>11211</td>\n",
       "      <td>US</td>\n",
       "      <td>Brooklyn</td>\n",
       "      <td>NY</td>\n",
       "      <td>United States</td>\n",
       "      <td>[357 Graham Ave (btwn Metropolitan and Consely...</td>\n",
       "      <td>NaN</td>\n",
       "      <td>4a7dd775f964a520d7ef1fe3</td>\n",
       "    </tr>\n",
       "    <tr>\n",
       "      <th>14</th>\n",
       "      <td>Carmine’s Italian Restaurant</td>\n",
       "      <td>Italian Restaurant</td>\n",
       "      <td>200 W 44th St</td>\n",
       "      <td>btwn Broadway &amp; 8th Ave</td>\n",
       "      <td>40.757497</td>\n",
       "      <td>-73.986779</td>\n",
       "      <td>[{'label': 'display', 'lat': 40.7574973, 'lng'...</td>\n",
       "      <td>6496</td>\n",
       "      <td>10036</td>\n",
       "      <td>US</td>\n",
       "      <td>New York</td>\n",
       "      <td>NY</td>\n",
       "      <td>United States</td>\n",
       "      <td>[200 W 44th St (btwn Broadway &amp; 8th Ave), New ...</td>\n",
       "      <td>NaN</td>\n",
       "      <td>3fd66200f964a5209ee81ee3</td>\n",
       "    </tr>\n",
       "    <tr>\n",
       "      <th>15</th>\n",
       "      <td>Dominics Italian Sausage Truck</td>\n",
       "      <td>Food Truck</td>\n",
       "      <td>NaN</td>\n",
       "      <td>NaN</td>\n",
       "      <td>40.703499</td>\n",
       "      <td>-74.012853</td>\n",
       "      <td>[{'label': 'display', 'lat': 40.70349917092183...</td>\n",
       "      <td>1152</td>\n",
       "      <td>NaN</td>\n",
       "      <td>US</td>\n",
       "      <td>New York</td>\n",
       "      <td>NY</td>\n",
       "      <td>United States</td>\n",
       "      <td>[New York, NY, United States]</td>\n",
       "      <td>Financial District</td>\n",
       "      <td>51fbf7a3498e86b46099a568</td>\n",
       "    </tr>\n",
       "    <tr>\n",
       "      <th>16</th>\n",
       "      <td>Pisillo Italian Panini</td>\n",
       "      <td>Sandwich Place</td>\n",
       "      <td>124 W 25th St</td>\n",
       "      <td>btwn 6th &amp; 7th Ave</td>\n",
       "      <td>40.744566</td>\n",
       "      <td>-73.992868</td>\n",
       "      <td>[{'label': 'display', 'lat': 40.744566, 'lng':...</td>\n",
       "      <td>4997</td>\n",
       "      <td>10001</td>\n",
       "      <td>US</td>\n",
       "      <td>New York</td>\n",
       "      <td>NY</td>\n",
       "      <td>United States</td>\n",
       "      <td>[124 W 25th St (btwn 6th &amp; 7th Ave), New York,...</td>\n",
       "      <td>Chelsea</td>\n",
       "      <td>5c893ef0d8096e0039e7363b</td>\n",
       "    </tr>\n",
       "    <tr>\n",
       "      <th>17</th>\n",
       "      <td>Pier 76 Italian Restaurant</td>\n",
       "      <td>Italian Restaurant</td>\n",
       "      <td>76 Bay St</td>\n",
       "      <td>at Slosson Terace</td>\n",
       "      <td>40.640140</td>\n",
       "      <td>-74.075654</td>\n",
       "      <td>[{'label': 'display', 'lat': 40.64013997129025...</td>\n",
       "      <td>9230</td>\n",
       "      <td>10301</td>\n",
       "      <td>US</td>\n",
       "      <td>New York</td>\n",
       "      <td>NY</td>\n",
       "      <td>United States</td>\n",
       "      <td>[76 Bay St (at Slosson Terace), New York, NY 1...</td>\n",
       "      <td>NaN</td>\n",
       "      <td>4b76d8dbf964a520be632ee3</td>\n",
       "    </tr>\n",
       "    <tr>\n",
       "      <th>18</th>\n",
       "      <td>Barber Italian Shop</td>\n",
       "      <td>Clothing Store</td>\n",
       "      <td>120 Broadway</td>\n",
       "      <td>btw Cedar &amp; Pine</td>\n",
       "      <td>40.707970</td>\n",
       "      <td>-74.009949</td>\n",
       "      <td>[{'label': 'display', 'lat': 40.70796968555732...</td>\n",
       "      <td>1221</td>\n",
       "      <td>10271</td>\n",
       "      <td>US</td>\n",
       "      <td>New York</td>\n",
       "      <td>NY</td>\n",
       "      <td>United States</td>\n",
       "      <td>[120 Broadway (btw Cedar &amp; Pine), New York, NY...</td>\n",
       "      <td>NaN</td>\n",
       "      <td>4c3b8244def90f478f0ffe2d</td>\n",
       "    </tr>\n",
       "    <tr>\n",
       "      <th>19</th>\n",
       "      <td>Pisillo Italian Cafe</td>\n",
       "      <td>Café</td>\n",
       "      <td>NaN</td>\n",
       "      <td>NaN</td>\n",
       "      <td>40.710493</td>\n",
       "      <td>-74.007546</td>\n",
       "      <td>[{'label': 'display', 'lat': 40.71049280792626...</td>\n",
       "      <td>1330</td>\n",
       "      <td>NaN</td>\n",
       "      <td>US</td>\n",
       "      <td>New York</td>\n",
       "      <td>NY</td>\n",
       "      <td>United States</td>\n",
       "      <td>[New York, NY, United States]</td>\n",
       "      <td>NaN</td>\n",
       "      <td>588a4316326c5a4b60559f17</td>\n",
       "    </tr>\n",
       "    <tr>\n",
       "      <th>20</th>\n",
       "      <td>D'Angelo's Italian Pizzeria &amp; Restaurant</td>\n",
       "      <td>Pizza Place</td>\n",
       "      <td>63-27 108th St</td>\n",
       "      <td>63rd Road</td>\n",
       "      <td>40.734188</td>\n",
       "      <td>-73.850090</td>\n",
       "      <td>[{'label': 'display', 'lat': 40.73418842002607...</td>\n",
       "      <td>13208</td>\n",
       "      <td>11375</td>\n",
       "      <td>US</td>\n",
       "      <td>Forest Hills</td>\n",
       "      <td>NY</td>\n",
       "      <td>United States</td>\n",
       "      <td>[63-27 108th St (63rd Road), Forest Hills, NY ...</td>\n",
       "      <td>NaN</td>\n",
       "      <td>4b68dab4f964a52043902be3</td>\n",
       "    </tr>\n",
       "    <tr>\n",
       "      <th>21</th>\n",
       "      <td>Italian Tile Imports</td>\n",
       "      <td>Home Service</td>\n",
       "      <td>7202 18th Ave</td>\n",
       "      <td>NaN</td>\n",
       "      <td>40.615195</td>\n",
       "      <td>-73.994556</td>\n",
       "      <td>[{'label': 'display', 'lat': 40.615195, 'lng':...</td>\n",
       "      <td>9451</td>\n",
       "      <td>11204</td>\n",
       "      <td>US</td>\n",
       "      <td>Brooklyn</td>\n",
       "      <td>NY</td>\n",
       "      <td>United States</td>\n",
       "      <td>[7202 18th Ave, Brooklyn, NY 11204, United Sta...</td>\n",
       "      <td>NaN</td>\n",
       "      <td>5db3489e5fd6fb00082d7f39</td>\n",
       "    </tr>\n",
       "    <tr>\n",
       "      <th>22</th>\n",
       "      <td>Pisillo Italian Panini</td>\n",
       "      <td>Sandwich Place</td>\n",
       "      <td>97 Nassau St</td>\n",
       "      <td>at Ann St</td>\n",
       "      <td>40.710530</td>\n",
       "      <td>-74.007526</td>\n",
       "      <td>[{'label': 'display', 'lat': 40.71053008446078...</td>\n",
       "      <td>1333</td>\n",
       "      <td>10038</td>\n",
       "      <td>US</td>\n",
       "      <td>New York</td>\n",
       "      <td>NY</td>\n",
       "      <td>United States</td>\n",
       "      <td>[97 Nassau St (at Ann St), New York, NY 10038,...</td>\n",
       "      <td>NaN</td>\n",
       "      <td>528bf16711d2b7722da6b51c</td>\n",
       "    </tr>\n",
       "    <tr>\n",
       "      <th>23</th>\n",
       "      <td>Quality Italian</td>\n",
       "      <td>Italian Restaurant</td>\n",
       "      <td>57 W 57th St</td>\n",
       "      <td>at 6th Ave</td>\n",
       "      <td>40.764513</td>\n",
       "      <td>-73.976827</td>\n",
       "      <td>[{'label': 'display', 'lat': 40.76451329448865...</td>\n",
       "      <td>7442</td>\n",
       "      <td>10019</td>\n",
       "      <td>US</td>\n",
       "      <td>New York</td>\n",
       "      <td>NY</td>\n",
       "      <td>United States</td>\n",
       "      <td>[57 W 57th St (at 6th Ave), New York, NY 10019...</td>\n",
       "      <td>NaN</td>\n",
       "      <td>51e7310c498e639ed27062b1</td>\n",
       "    </tr>\n",
       "    <tr>\n",
       "      <th>24</th>\n",
       "      <td>Mama Mia 44sw Italian Cuisine</td>\n",
       "      <td>Italian Restaurant</td>\n",
       "      <td>621 9th Ave</td>\n",
       "      <td>NaN</td>\n",
       "      <td>40.759716</td>\n",
       "      <td>-73.991829</td>\n",
       "      <td>[{'label': 'display', 'lat': 40.75971578462592...</td>\n",
       "      <td>6683</td>\n",
       "      <td>10036</td>\n",
       "      <td>US</td>\n",
       "      <td>New York</td>\n",
       "      <td>NY</td>\n",
       "      <td>United States</td>\n",
       "      <td>[621 9th Ave, New York, NY 10036, United States]</td>\n",
       "      <td>NaN</td>\n",
       "      <td>4f44a2bd19836ed0019571be</td>\n",
       "    </tr>\n",
       "    <tr>\n",
       "      <th>25</th>\n",
       "      <td>Carmine's Italian Restaurant</td>\n",
       "      <td>Italian Restaurant</td>\n",
       "      <td>2450 Broadway</td>\n",
       "      <td>btwn W 90th &amp; W 91st</td>\n",
       "      <td>40.791096</td>\n",
       "      <td>-73.973991</td>\n",
       "      <td>[{'label': 'display', 'lat': 40.7910963, 'lng'...</td>\n",
       "      <td>10375</td>\n",
       "      <td>10024</td>\n",
       "      <td>US</td>\n",
       "      <td>New York</td>\n",
       "      <td>NY</td>\n",
       "      <td>United States</td>\n",
       "      <td>[2450 Broadway (btwn W 90th &amp; W 91st), New Yor...</td>\n",
       "      <td>NaN</td>\n",
       "      <td>4a7778a1f964a5209be41fe3</td>\n",
       "    </tr>\n",
       "    <tr>\n",
       "      <th>26</th>\n",
       "      <td>Benvenuti Italian Specialties</td>\n",
       "      <td>Gourmet Shop</td>\n",
       "      <td>235 S End Ave</td>\n",
       "      <td>NaN</td>\n",
       "      <td>40.709681</td>\n",
       "      <td>-74.016520</td>\n",
       "      <td>[{'label': 'display', 'lat': 40.70968105555279...</td>\n",
       "      <td>1762</td>\n",
       "      <td>10280</td>\n",
       "      <td>US</td>\n",
       "      <td>New York</td>\n",
       "      <td>NY</td>\n",
       "      <td>United States</td>\n",
       "      <td>[235 S End Ave, New York, NY 10280, United Sta...</td>\n",
       "      <td>NaN</td>\n",
       "      <td>4f3feae2e4b0ac9416a72118</td>\n",
       "    </tr>\n",
       "    <tr>\n",
       "      <th>27</th>\n",
       "      <td>Olive Tree Italian</td>\n",
       "      <td>Italian Restaurant</td>\n",
       "      <td>182 Lexington Ave</td>\n",
       "      <td>btw 31st &amp; 32nd</td>\n",
       "      <td>40.744736</td>\n",
       "      <td>-73.981216</td>\n",
       "      <td>[{'label': 'display', 'lat': 40.74473571777344...</td>\n",
       "      <td>5225</td>\n",
       "      <td>10016</td>\n",
       "      <td>US</td>\n",
       "      <td>New York</td>\n",
       "      <td>NY</td>\n",
       "      <td>United States</td>\n",
       "      <td>[182 Lexington Ave (btw 31st &amp; 32nd), New York...</td>\n",
       "      <td>NaN</td>\n",
       "      <td>4b6c4ebaf964a520612f2ce3</td>\n",
       "    </tr>\n",
       "    <tr>\n",
       "      <th>28</th>\n",
       "      <td>Bellini Italian Restaurant &amp; Brick Oven Pizza</td>\n",
       "      <td>Italian Restaurant</td>\n",
       "      <td>483 Columbus Ave</td>\n",
       "      <td>btwn 83rd &amp; 84th St</td>\n",
       "      <td>40.784656</td>\n",
       "      <td>-73.973522</td>\n",
       "      <td>[{'label': 'display', 'lat': 40.78465555633674...</td>\n",
       "      <td>9684</td>\n",
       "      <td>10024</td>\n",
       "      <td>US</td>\n",
       "      <td>New York</td>\n",
       "      <td>NY</td>\n",
       "      <td>United States</td>\n",
       "      <td>[483 Columbus Ave (btwn 83rd &amp; 84th St), New Y...</td>\n",
       "      <td>NaN</td>\n",
       "      <td>4b786cecf964a52052cd2ee3</td>\n",
       "    </tr>\n",
       "    <tr>\n",
       "      <th>29</th>\n",
       "      <td>Carbon Italian Restaurant</td>\n",
       "      <td>Italian Restaurant</td>\n",
       "      <td>331 W 38th St</td>\n",
       "      <td>8th avenue and 9th</td>\n",
       "      <td>40.755505</td>\n",
       "      <td>-73.993009</td>\n",
       "      <td>[{'label': 'display', 'lat': 40.75550529414757...</td>\n",
       "      <td>6206</td>\n",
       "      <td>10018</td>\n",
       "      <td>US</td>\n",
       "      <td>New York</td>\n",
       "      <td>NY</td>\n",
       "      <td>United States</td>\n",
       "      <td>[331 W 38th St (8th avenue and 9th), New York,...</td>\n",
       "      <td>NaN</td>\n",
       "      <td>4db8b4a46a2334682d993ff6</td>\n",
       "    </tr>\n",
       "  </tbody>\n",
       "</table>\n",
       "</div>"
      ],
      "text/plain": [
       "                                               name          categories  \\\n",
       "0                         Harry's Italian Pizza Bar  Italian Restaurant   \n",
       "1                     Carmela's Italian Specialties         Pizza Place   \n",
       "2               Italian American Museum Of New York      History Museum   \n",
       "3                                       Italian Ice          Food Truck   \n",
       "4                          Italian Village Pizzeria         Pizza Place   \n",
       "5                     Tableside Italian Cook Shoppe  Italian Restaurant   \n",
       "6                      Faicco's Italian Specialties      Sandwich Place   \n",
       "7             Armandoi's Italian Restaurant and Bar                None   \n",
       "8   Losurdo Brothers / Tony's Italian Bakery & Deli              Bakery   \n",
       "9      Alex's Italian Restaurant & Brick Oven Pizza  Italian Restaurant   \n",
       "10                       Di So's Italian Food Truck  Italian Restaurant   \n",
       "11              Rita's Italian Ice & Frozen Custard        Dessert Shop   \n",
       "12                                    Italian Vogue              Office   \n",
       "13                      Ralph's Famous Italian Ices      Ice Cream Shop   \n",
       "14                     Carmine’s Italian Restaurant  Italian Restaurant   \n",
       "15                   Dominics Italian Sausage Truck          Food Truck   \n",
       "16                           Pisillo Italian Panini      Sandwich Place   \n",
       "17                       Pier 76 Italian Restaurant  Italian Restaurant   \n",
       "18                              Barber Italian Shop      Clothing Store   \n",
       "19                             Pisillo Italian Cafe                Café   \n",
       "20         D'Angelo's Italian Pizzeria & Restaurant         Pizza Place   \n",
       "21                             Italian Tile Imports        Home Service   \n",
       "22                           Pisillo Italian Panini      Sandwich Place   \n",
       "23                                  Quality Italian  Italian Restaurant   \n",
       "24                    Mama Mia 44sw Italian Cuisine  Italian Restaurant   \n",
       "25                     Carmine's Italian Restaurant  Italian Restaurant   \n",
       "26                    Benvenuti Italian Specialties        Gourmet Shop   \n",
       "27                               Olive Tree Italian  Italian Restaurant   \n",
       "28    Bellini Italian Restaurant & Brick Oven Pizza  Italian Restaurant   \n",
       "29                        Carbon Italian Restaurant  Italian Restaurant   \n",
       "\n",
       "                         address                      crossStreet        lat  \\\n",
       "0                      2 Gold St                    at Maiden Ln.  40.707634   \n",
       "1                    30 Water St                              NaN  40.703293   \n",
       "2                155 Mulberry St                      at Grand St  40.719191   \n",
       "3                158 Montague St                              NaN  40.694344   \n",
       "4                   1526 1st Ave                     79th and 1st  40.772669   \n",
       "5                   345 E 6th St                  1st and 2nd Ave  40.726556   \n",
       "6                260 Bleecker St                   at Cornelia St  40.731117   \n",
       "7                      Court st.                              NaN  40.694697   \n",
       "8                     410 2nd St          btw Grand St & Adams St  40.740126   \n",
       "9                   346 Grove St                              NaN  40.720585   \n",
       "10                           NaN                              NaN  40.703973   \n",
       "11  4 South Street, LL Space 206                              NaN  40.702097   \n",
       "12                   750 3rd Ave             btw E 46th & 47th St  40.754152   \n",
       "13                357 Graham Ave  btwn Metropolitan and Conselyea  40.715103   \n",
       "14                 200 W 44th St          btwn Broadway & 8th Ave  40.757497   \n",
       "15                           NaN                              NaN  40.703499   \n",
       "16                 124 W 25th St               btwn 6th & 7th Ave  40.744566   \n",
       "17                     76 Bay St                at Slosson Terace  40.640140   \n",
       "18                  120 Broadway                 btw Cedar & Pine  40.707970   \n",
       "19                           NaN                              NaN  40.710493   \n",
       "20                63-27 108th St                        63rd Road  40.734188   \n",
       "21                 7202 18th Ave                              NaN  40.615195   \n",
       "22                  97 Nassau St                        at Ann St  40.710530   \n",
       "23                  57 W 57th St                       at 6th Ave  40.764513   \n",
       "24                   621 9th Ave                              NaN  40.759716   \n",
       "25                 2450 Broadway             btwn W 90th & W 91st  40.791096   \n",
       "26                 235 S End Ave                              NaN  40.709681   \n",
       "27             182 Lexington Ave                  btw 31st & 32nd  40.744736   \n",
       "28              483 Columbus Ave              btwn 83rd & 84th St  40.784656   \n",
       "29                 331 W 38th St               8th avenue and 9th  40.755505   \n",
       "\n",
       "          lng                                     labeledLatLngs  distance  \\\n",
       "0  -74.006996  [{'label': 'display', 'lat': 40.7076335455641,...      1034   \n",
       "1  -74.011017  [{'label': 'display', 'lat': 40.70329284667969...       999   \n",
       "2  -73.997376  [{'label': 'display', 'lat': 40.71919065572268...      2147   \n",
       "3  -73.992805  [{'label': 'display', 'lat': 40.69434356689453...       874   \n",
       "4  -73.952319  [{'label': 'display', 'lat': 40.772669, 'lng':...      9034   \n",
       "5  -73.986514  [{'label': 'display', 'lat': 40.72655617438330...      3167   \n",
       "6  -74.003043  [{'label': 'display', 'lat': 40.73111661087598...      3473   \n",
       "7  -73.992682  [{'label': 'display', 'lat': 40.69469693591064...       854   \n",
       "8  -74.036964  [{'label': 'display', 'lat': 40.74012586093679...      5447   \n",
       "9  -74.042752  [{'label': 'display', 'lat': 40.72058470693942...      4273   \n",
       "10 -74.008627  [{'label': 'display', 'lat': 40.70397251406873...       851   \n",
       "11 -74.012018  [{'label': 'display', 'lat': 40.70209699999999...      1040   \n",
       "12 -73.973140  [{'label': 'display', 'lat': 40.75415195619446...      6439   \n",
       "13 -73.944710  [{'label': 'display', 'lat': 40.71510314941406...      4959   \n",
       "14 -73.986779  [{'label': 'display', 'lat': 40.7574973, 'lng'...      6496   \n",
       "15 -74.012853  [{'label': 'display', 'lat': 40.70349917092183...      1152   \n",
       "16 -73.992868  [{'label': 'display', 'lat': 40.744566, 'lng':...      4997   \n",
       "17 -74.075654  [{'label': 'display', 'lat': 40.64013997129025...      9230   \n",
       "18 -74.009949  [{'label': 'display', 'lat': 40.70796968555732...      1221   \n",
       "19 -74.007546  [{'label': 'display', 'lat': 40.71049280792626...      1330   \n",
       "20 -73.850090  [{'label': 'display', 'lat': 40.73418842002607...     13208   \n",
       "21 -73.994556  [{'label': 'display', 'lat': 40.615195, 'lng':...      9451   \n",
       "22 -74.007526  [{'label': 'display', 'lat': 40.71053008446078...      1333   \n",
       "23 -73.976827  [{'label': 'display', 'lat': 40.76451329448865...      7442   \n",
       "24 -73.991829  [{'label': 'display', 'lat': 40.75971578462592...      6683   \n",
       "25 -73.973991  [{'label': 'display', 'lat': 40.7910963, 'lng'...     10375   \n",
       "26 -74.016520  [{'label': 'display', 'lat': 40.70968105555279...      1762   \n",
       "27 -73.981216  [{'label': 'display', 'lat': 40.74473571777344...      5225   \n",
       "28 -73.973522  [{'label': 'display', 'lat': 40.78465555633674...      9684   \n",
       "29 -73.993009  [{'label': 'display', 'lat': 40.75550529414757...      6206   \n",
       "\n",
       "   postalCode  cc              city state        country  \\\n",
       "0       10038  US          New York    NY  United States   \n",
       "1       10004  US          New York    NJ  United States   \n",
       "2       10013  US          New York    NY  United States   \n",
       "3       11201  US  Brooklyn Heights    NY  United States   \n",
       "4       10075  US          New York    NY  United States   \n",
       "5       10003  US          New York    NY  United States   \n",
       "6       10014  US          New York    NY  United States   \n",
       "7         NaN  US          Brooklyn    NY  United States   \n",
       "8       07030  US           Hoboken    NJ  United States   \n",
       "9       07302  US       Jersey City    NJ  United States   \n",
       "10        NaN  US          New York    NY  United States   \n",
       "11      10004  US          New York    NY  United States   \n",
       "12      10017  US          New York    NY  United States   \n",
       "13      11211  US          Brooklyn    NY  United States   \n",
       "14      10036  US          New York    NY  United States   \n",
       "15        NaN  US          New York    NY  United States   \n",
       "16      10001  US          New York    NY  United States   \n",
       "17      10301  US          New York    NY  United States   \n",
       "18      10271  US          New York    NY  United States   \n",
       "19        NaN  US          New York    NY  United States   \n",
       "20      11375  US      Forest Hills    NY  United States   \n",
       "21      11204  US          Brooklyn    NY  United States   \n",
       "22      10038  US          New York    NY  United States   \n",
       "23      10019  US          New York    NY  United States   \n",
       "24      10036  US          New York    NY  United States   \n",
       "25      10024  US          New York    NY  United States   \n",
       "26      10280  US          New York    NY  United States   \n",
       "27      10016  US          New York    NY  United States   \n",
       "28      10024  US          New York    NY  United States   \n",
       "29      10018  US          New York    NY  United States   \n",
       "\n",
       "                                     formattedAddress        neighborhood  \\\n",
       "0   [2 Gold St (at Maiden Ln.), New York, NY 10038...                 NaN   \n",
       "1    [30 Water St, New York, NJ 10004, United States]                 NaN   \n",
       "2   [155 Mulberry St (at Grand St), New York, NY 1...                 NaN   \n",
       "3   [158 Montague St, Brooklyn Heights, NY 11201, ...                 NaN   \n",
       "4   [1526 1st Ave (79th and 1st), New York, NY 100...           Yorkville   \n",
       "5   [345 E 6th St (1st and 2nd Ave), New York, NY ...                 NaN   \n",
       "6   [260 Bleecker St (at Cornelia St), New York, N...                 NaN   \n",
       "7            [Court st., Brooklyn, NY, United States]                 NaN   \n",
       "8   [410 2nd St (btw Grand St & Adams St), Hoboken...                 NaN   \n",
       "9   [346 Grove St, Jersey City, NJ 07302, United S...                 NaN   \n",
       "10                      [New York, NY, United States]  Financial District   \n",
       "11  [4 South Street, LL Space 206, New York, NY 10...                 NaN   \n",
       "12  [750 3rd Ave (btw E 46th & 47th St), New York,...                 NaN   \n",
       "13  [357 Graham Ave (btwn Metropolitan and Consely...                 NaN   \n",
       "14  [200 W 44th St (btwn Broadway & 8th Ave), New ...                 NaN   \n",
       "15                      [New York, NY, United States]  Financial District   \n",
       "16  [124 W 25th St (btwn 6th & 7th Ave), New York,...             Chelsea   \n",
       "17  [76 Bay St (at Slosson Terace), New York, NY 1...                 NaN   \n",
       "18  [120 Broadway (btw Cedar & Pine), New York, NY...                 NaN   \n",
       "19                      [New York, NY, United States]                 NaN   \n",
       "20  [63-27 108th St (63rd Road), Forest Hills, NY ...                 NaN   \n",
       "21  [7202 18th Ave, Brooklyn, NY 11204, United Sta...                 NaN   \n",
       "22  [97 Nassau St (at Ann St), New York, NY 10038,...                 NaN   \n",
       "23  [57 W 57th St (at 6th Ave), New York, NY 10019...                 NaN   \n",
       "24   [621 9th Ave, New York, NY 10036, United States]                 NaN   \n",
       "25  [2450 Broadway (btwn W 90th & W 91st), New Yor...                 NaN   \n",
       "26  [235 S End Ave, New York, NY 10280, United Sta...                 NaN   \n",
       "27  [182 Lexington Ave (btw 31st & 32nd), New York...                 NaN   \n",
       "28  [483 Columbus Ave (btwn 83rd & 84th St), New Y...                 NaN   \n",
       "29  [331 W 38th St (8th avenue and 9th), New York,...                 NaN   \n",
       "\n",
       "                          id  \n",
       "0   4a4560a7f964a5201aa81fe3  \n",
       "1   4e4c4e62bd413c4cc6686059  \n",
       "2   4b9d4c67f964a5206ca136e3  \n",
       "3   4e57dbfbb0fb4c4d61f6e825  \n",
       "4   4a90dbbef964a520a11920e3  \n",
       "5   58dd8ac3a8b75966fda9a547  \n",
       "6   4a74a36af964a520fede1fe3  \n",
       "7   4d7af51735793704232c775d  \n",
       "8   4b269f5af964a520817e24e3  \n",
       "9   5400c682498e3831aaada9fc  \n",
       "10  51e245e8498eb19e2e908b76  \n",
       "11  5c52748435d3fc002cc413c9  \n",
       "12  4c6d6619e6b7b1f7ef98a98e  \n",
       "13  4a7dd775f964a520d7ef1fe3  \n",
       "14  3fd66200f964a5209ee81ee3  \n",
       "15  51fbf7a3498e86b46099a568  \n",
       "16  5c893ef0d8096e0039e7363b  \n",
       "17  4b76d8dbf964a520be632ee3  \n",
       "18  4c3b8244def90f478f0ffe2d  \n",
       "19  588a4316326c5a4b60559f17  \n",
       "20  4b68dab4f964a52043902be3  \n",
       "21  5db3489e5fd6fb00082d7f39  \n",
       "22  528bf16711d2b7722da6b51c  \n",
       "23  51e7310c498e639ed27062b1  \n",
       "24  4f44a2bd19836ed0019571be  \n",
       "25  4a7778a1f964a5209be41fe3  \n",
       "26  4f3feae2e4b0ac9416a72118  \n",
       "27  4b6c4ebaf964a520612f2ce3  \n",
       "28  4b786cecf964a52052cd2ee3  \n",
       "29  4db8b4a46a2334682d993ff6  "
      ]
     },
     "execution_count": 18,
     "metadata": {},
     "output_type": "execute_result"
    }
   ],
   "source": [
    "# keep only columns that include venue name, and anything that is associated with location\n",
    "filtered_columns = ['name', 'categories'] + [col for col in dataframe.columns if col.startswith('location.')] + ['id']\n",
    "dataframe_filtered = dataframe.loc[:, filtered_columns]\n",
    "\n",
    "# function that extracts the category of the venue\n",
    "def get_category_type(row):\n",
    "    try:\n",
    "        categories_list = row['categories']\n",
    "    except:\n",
    "        categories_list = row['venue.categories']\n",
    "        \n",
    "    if len(categories_list) == 0:\n",
    "        return None\n",
    "    else:\n",
    "        return categories_list[0]['name']\n",
    "\n",
    "# filter the category for each row\n",
    "dataframe_filtered['categories'] = dataframe_filtered.apply(get_category_type, axis=1)\n",
    "\n",
    "# clean column names by keeping only last term\n",
    "dataframe_filtered.columns = [column.split('.')[-1] for column in dataframe_filtered.columns]\n",
    "\n",
    "dataframe_filtered"
   ]
  },
  {
   "cell_type": "markdown",
   "metadata": {
    "button": false,
    "new_sheet": false,
    "run_control": {
     "read_only": false
    }
   },
   "source": [
    "#### Let's visualize the Italian restaurants that are nearby\n"
   ]
  },
  {
   "cell_type": "code",
   "execution_count": 19,
   "metadata": {
    "button": false,
    "collapsed": false,
    "jupyter": {
     "outputs_hidden": false
    },
    "new_sheet": false,
    "run_control": {
     "read_only": false
    }
   },
   "outputs": [
    {
     "data": {
      "text/plain": [
       "0                           Harry's Italian Pizza Bar\n",
       "1                       Carmela's Italian Specialties\n",
       "2                 Italian American Museum Of New York\n",
       "3                                         Italian Ice\n",
       "4                            Italian Village Pizzeria\n",
       "5                       Tableside Italian Cook Shoppe\n",
       "6                        Faicco's Italian Specialties\n",
       "7               Armandoi's Italian Restaurant and Bar\n",
       "8     Losurdo Brothers / Tony's Italian Bakery & Deli\n",
       "9        Alex's Italian Restaurant & Brick Oven Pizza\n",
       "10                         Di So's Italian Food Truck\n",
       "11                Rita's Italian Ice & Frozen Custard\n",
       "12                                      Italian Vogue\n",
       "13                        Ralph's Famous Italian Ices\n",
       "14                       Carmine’s Italian Restaurant\n",
       "15                     Dominics Italian Sausage Truck\n",
       "16                             Pisillo Italian Panini\n",
       "17                         Pier 76 Italian Restaurant\n",
       "18                                Barber Italian Shop\n",
       "19                               Pisillo Italian Cafe\n",
       "20           D'Angelo's Italian Pizzeria & Restaurant\n",
       "21                               Italian Tile Imports\n",
       "22                             Pisillo Italian Panini\n",
       "23                                    Quality Italian\n",
       "24                      Mama Mia 44sw Italian Cuisine\n",
       "25                       Carmine's Italian Restaurant\n",
       "26                      Benvenuti Italian Specialties\n",
       "27                                 Olive Tree Italian\n",
       "28      Bellini Italian Restaurant & Brick Oven Pizza\n",
       "29                          Carbon Italian Restaurant\n",
       "Name: name, dtype: object"
      ]
     },
     "execution_count": 19,
     "metadata": {},
     "output_type": "execute_result"
    }
   ],
   "source": [
    "dataframe_filtered.name"
   ]
  },
  {
   "cell_type": "code",
   "execution_count": 20,
   "metadata": {
    "button": false,
    "collapsed": false,
    "jupyter": {
     "outputs_hidden": false
    },
    "new_sheet": false,
    "run_control": {
     "read_only": false
    },
    "scrolled": true
   },
   "outputs": [
    {
     "data": {
      "text/html": [
       "<div style=\"width:100%;\"><div style=\"position:relative;width:100%;height:0;padding-bottom:60%;\"><span style=\"color:#565656\">Make this Notebook Trusted to load map: File -> Trust Notebook</span><iframe src=\"about:blank\" style=\"position:absolute;width:100%;height:100%;left:0;top:0;border:none !important;\" data-html=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 onload=\"this.contentDocument.open();this.contentDocument.write(atob(this.getAttribute('data-html')));this.contentDocument.close();\" allowfullscreen webkitallowfullscreen mozallowfullscreen></iframe></div></div>"
      ],
      "text/plain": [
       "<folium.folium.Map at 0x7ff4089a57f0>"
      ]
     },
     "execution_count": 20,
     "metadata": {},
     "output_type": "execute_result"
    }
   ],
   "source": [
    "venues_map = folium.Map(location=[latitude, longitude], zoom_start=13) # generate map centred around the Conrad Hotel\n",
    "\n",
    "# add a red circle marker to represent the Conrad Hotel\n",
    "folium.CircleMarker(\n",
    "    [latitude, longitude],\n",
    "    radius=10,\n",
    "    color='red',\n",
    "    popup='Conrad Hotel',\n",
    "    fill = True,\n",
    "    fill_color = 'red',\n",
    "    fill_opacity = 0.6\n",
    ").add_to(venues_map)\n",
    "\n",
    "# add the Italian restaurants as blue circle markers\n",
    "for lat, lng, label in zip(dataframe_filtered.lat, dataframe_filtered.lng, dataframe_filtered.categories):\n",
    "    folium.CircleMarker(\n",
    "        [lat, lng],\n",
    "        radius=5,\n",
    "        color='blue',\n",
    "        popup=label,\n",
    "        fill = True,\n",
    "        fill_color='blue',\n",
    "        fill_opacity=0.6\n",
    "    ).add_to(venues_map)\n",
    "\n",
    "# display map\n",
    "venues_map"
   ]
  },
  {
   "cell_type": "markdown",
   "metadata": {
    "button": false,
    "new_sheet": false,
    "run_control": {
     "read_only": false
    }
   },
   "source": [
    "\n"
   ]
  },
  {
   "cell_type": "markdown",
   "metadata": {
    "button": false,
    "new_sheet": false,
    "run_control": {
     "read_only": false
    }
   },
   "source": [
    "<a id=\"item2\"></a>\n"
   ]
  },
  {
   "cell_type": "markdown",
   "metadata": {
    "button": false,
    "new_sheet": false,
    "run_control": {
     "read_only": false
    }
   },
   "source": [
    "## 2. Explore a Given Venue\n",
    "\n",
    "> `https://api.foursquare.com/v2/venues/`**VENUE_ID**`?client_id=`**CLIENT_ID**`&client_secret=`**CLIENT_SECRET**`&v=`**VERSION**\n"
   ]
  },
  {
   "cell_type": "markdown",
   "metadata": {
    "button": false,
    "new_sheet": false,
    "run_control": {
     "read_only": false
    }
   },
   "source": [
    "### A. Let's explore the closest Italian restaurant -- _Harry's Italian Pizza Bar_\n"
   ]
  },
  {
   "cell_type": "code",
   "execution_count": 21,
   "metadata": {
    "button": false,
    "collapsed": false,
    "jupyter": {
     "outputs_hidden": false
    },
    "new_sheet": false,
    "run_control": {
     "read_only": false
    }
   },
   "outputs": [
    {
     "data": {
      "text/plain": [
       "'https://api.foursquare.com/v2/venues/4fa862b3e4b0ebff2f749f06?client_id=4QLQRJVRSGSEBTB24O1EJAZW40G5OBPXOM5H5L53IBNGHC4B&client_secret=UWP0VWT2MFCDNI3321EXQC0AVEPAIRGGUCI1F2JN0OF5QZDP&v=20180604'"
      ]
     },
     "execution_count": 21,
     "metadata": {},
     "output_type": "execute_result"
    }
   ],
   "source": [
    "venue_id = '4fa862b3e4b0ebff2f749f06' # ID of Harry's Italian Pizza Bar\n",
    "url = 'https://api.foursquare.com/v2/venues/{}?client_id={}&client_secret={}&v={}'.format(venue_id, CLIENT_ID, CLIENT_SECRET, VERSION)\n",
    "url"
   ]
  },
  {
   "cell_type": "markdown",
   "metadata": {
    "button": false,
    "new_sheet": false,
    "run_control": {
     "read_only": false
    }
   },
   "source": [
    "#### Send GET request for result\n"
   ]
  },
  {
   "cell_type": "code",
   "execution_count": 22,
   "metadata": {
    "button": false,
    "collapsed": false,
    "jupyter": {
     "outputs_hidden": false
    },
    "new_sheet": false,
    "run_control": {
     "read_only": false
    }
   },
   "outputs": [
    {
     "name": "stdout",
     "output_type": "stream",
     "text": [
      "dict_keys(['id', 'name', 'contact', 'location', 'canonicalUrl', 'categories', 'verified', 'stats', 'url', 'price', 'hasMenu', 'likes', 'dislike', 'ok', 'rating', 'ratingColor', 'ratingSignals', 'menu', 'allowMenuUrlEdit', 'beenHere', 'specials', 'photos', 'reasons', 'hereNow', 'createdAt', 'tips', 'shortUrl', 'timeZone', 'listed', 'hours', 'popular', 'seasonalHours', 'defaultHours', 'pageUpdates', 'inbox', 'attributes', 'bestPhoto', 'colors'])\n"
     ]
    },
    {
     "data": {
      "text/plain": [
       "{'id': '4fa862b3e4b0ebff2f749f06',\n",
       " 'name': \"Harry's Italian Pizza Bar\",\n",
       " 'contact': {'phone': '2126081007', 'formattedPhone': '(212) 608-1007'},\n",
       " 'location': {'address': '225 Murray St',\n",
       "  'lat': 40.71521779064671,\n",
       "  'lng': -74.01473940209351,\n",
       "  'labeledLatLngs': [{'label': 'display',\n",
       "    'lat': 40.71521779064671,\n",
       "    'lng': -74.01473940209351},\n",
       "   {'label': 'entrance', 'lat': 40.715361, 'lng': -74.014975}],\n",
       "  'postalCode': '10282',\n",
       "  'cc': 'US',\n",
       "  'city': 'New York',\n",
       "  'state': 'NY',\n",
       "  'country': 'United States',\n",
       "  'formattedAddress': ['225 Murray St',\n",
       "   'New York, NY 10282',\n",
       "   'United States']},\n",
       " 'canonicalUrl': 'https://foursquare.com/v/harrys-italian-pizza-bar/4fa862b3e4b0ebff2f749f06',\n",
       " 'categories': [{'id': '4bf58dd8d48988d1ca941735',\n",
       "   'name': 'Pizza Place',\n",
       "   'pluralName': 'Pizza Places',\n",
       "   'shortName': 'Pizza',\n",
       "   'icon': {'prefix': 'https://ss3.4sqi.net/img/categories_v2/food/pizza_',\n",
       "    'suffix': '.png'},\n",
       "   'primary': True},\n",
       "  {'id': '4bf58dd8d48988d110941735',\n",
       "   'name': 'Italian Restaurant',\n",
       "   'pluralName': 'Italian Restaurants',\n",
       "   'shortName': 'Italian',\n",
       "   'icon': {'prefix': 'https://ss3.4sqi.net/img/categories_v2/food/italian_',\n",
       "    'suffix': '.png'}}],\n",
       " 'verified': False,\n",
       " 'stats': {'tipCount': 56},\n",
       " 'url': 'http://harrysitalian.com',\n",
       " 'price': {'tier': 2, 'message': 'Moderate', 'currency': '$'},\n",
       " 'hasMenu': True,\n",
       " 'likes': {'count': 120,\n",
       "  'groups': [{'type': 'others', 'count': 120, 'items': []}],\n",
       "  'summary': '120 Likes'},\n",
       " 'dislike': False,\n",
       " 'ok': False,\n",
       " 'rating': 6.9,\n",
       " 'ratingColor': 'FFC800',\n",
       " 'ratingSignals': 211,\n",
       " 'menu': {'type': 'Menu',\n",
       "  'label': 'Menu',\n",
       "  'anchor': 'View Menu',\n",
       "  'url': 'https://foursquare.com/v/harrys-italian-pizza-bar/4fa862b3e4b0ebff2f749f06/menu',\n",
       "  'mobileUrl': 'https://foursquare.com/v/4fa862b3e4b0ebff2f749f06/device_menu'},\n",
       " 'allowMenuUrlEdit': True,\n",
       " 'beenHere': {'count': 0,\n",
       "  'unconfirmedCount': 0,\n",
       "  'marked': False,\n",
       "  'lastCheckinExpiredAt': 0},\n",
       " 'specials': {'count': 0, 'items': []},\n",
       " 'photos': {'count': 143,\n",
       "  'groups': [{'type': 'venue',\n",
       "    'name': 'Venue photos',\n",
       "    'count': 143,\n",
       "    'items': [{'id': '4fad980de4b091b4626c3633',\n",
       "      'createdAt': 1336776717,\n",
       "      'source': {'name': 'Foursquare for Android',\n",
       "       'url': 'https://foursquare.com/download/#/android'},\n",
       "      'prefix': 'https://fastly.4sqi.net/img/general/',\n",
       "      'suffix': '/ya1iQFI7pLjuIJp1PGDKlrZS3OJdHCF7tpILMmjv_2w.jpg',\n",
       "      'width': 480,\n",
       "      'height': 640,\n",
       "      'visibility': 'public'}]}]},\n",
       " 'reasons': {'count': 1,\n",
       "  'items': [{'summary': 'Lots of people like this place',\n",
       "    'type': 'general',\n",
       "    'reasonName': 'rawLikesReason'}]},\n",
       " 'hereNow': {'count': 0, 'summary': 'Nobody here', 'groups': []},\n",
       " 'createdAt': 1336435379,\n",
       " 'tips': {'count': 56,\n",
       "  'groups': [{'type': 'others',\n",
       "    'name': 'All tips',\n",
       "    'count': 56,\n",
       "    'items': [{'id': '53d27909498e0523841340b6',\n",
       "      'createdAt': 1406302473,\n",
       "      'text': \"Harry's Italian Pizza bar is known for it's amazing pizza, but did you know that the brunches here are amazing too? Try the Nutella French toast and we know you'll be sold.\",\n",
       "      'type': 'user',\n",
       "      'canonicalUrl': 'https://foursquare.com/item/53d27909498e0523841340b6',\n",
       "      'lang': 'en',\n",
       "      'likes': {'count': 4,\n",
       "       'groups': [{'type': 'others',\n",
       "         'count': 4,\n",
       "         'items': [{'firstName': 'Diane',\n",
       "           'lastName': 'D',\n",
       "           'countryCode': 'US'},\n",
       "          {'firstName': 'Tim', 'lastName': 'S', 'countryCode': 'US'},\n",
       "          {'firstName': 'TenantKing.com',\n",
       "           'countryCode': 'US',\n",
       "           'type': 'page'}]}],\n",
       "       'summary': '4 likes'},\n",
       "      'logView': True,\n",
       "      'agreeCount': 3,\n",
       "      'disagreeCount': 0,\n",
       "      'todo': {'count': 0},\n",
       "      'user': {'firstName': 'TenantKing.com',\n",
       "       'countryCode': 'US',\n",
       "       'type': 'page'}}]}]},\n",
       " 'shortUrl': 'http://4sq.com/JNblHV',\n",
       " 'timeZone': 'America/New_York',\n",
       " 'listed': {'count': 54,\n",
       "  'groups': [{'type': 'others',\n",
       "    'name': 'Lists from other people',\n",
       "    'count': 54,\n",
       "    'items': [{'id': '4fa32fd0e4b04193744746b1',\n",
       "      'name': 'Manhattan Haunts',\n",
       "      'description': '',\n",
       "      'type': 'others',\n",
       "      'user': {'firstName': 'Becca', 'lastName': 'M', 'countryCode': 'US'},\n",
       "      'editable': False,\n",
       "      'public': True,\n",
       "      'collaborative': False,\n",
       "      'url': '/becca_mcarthur/list/manhattan-haunts',\n",
       "      'canonicalUrl': 'https://foursquare.com/becca_mcarthur/list/manhattan-haunts',\n",
       "      'createdAt': 1336094672,\n",
       "      'updatedAt': 1380845377,\n",
       "      'photo': {'id': '4e8cc9461081e3b3544e12e5',\n",
       "       'createdAt': 1317849414,\n",
       "       'prefix': 'https://fastly.4sqi.net/img/general/',\n",
       "       'suffix': '/0NLVU2HC1JF4DXIMKWUFW3QBUT31DC11EFNYYHMJG3NDWAPS.jpg',\n",
       "       'width': 492,\n",
       "       'height': 330,\n",
       "       'visibility': 'public'},\n",
       "      'followers': {'count': 22},\n",
       "      'listItems': {'count': 187,\n",
       "       'items': [{'id': 'v4fa862b3e4b0ebff2f749f06',\n",
       "         'createdAt': 1342934485}]}},\n",
       "     {'id': '4fae817be4b085f6b2a74d19',\n",
       "      'name': 'USA NYC MAN FiDi',\n",
       "      'description': 'Where to go for decent eats in the restaurant wasteland of Downtown NYC aka FiDi, along with Tribeca & Battery Park City.',\n",
       "      'type': 'others',\n",
       "      'user': {'firstName': 'Kino', 'countryCode': 'US'},\n",
       "      'editable': False,\n",
       "      'public': True,\n",
       "      'collaborative': False,\n",
       "      'url': '/kinosfault/list/usa-nyc-man-fidi',\n",
       "      'canonicalUrl': 'https://foursquare.com/kinosfault/list/usa-nyc-man-fidi',\n",
       "      'createdAt': 1336836475,\n",
       "      'updatedAt': 1556754919,\n",
       "      'photo': {'id': '55984992498e13ba75e353bb',\n",
       "       'createdAt': 1436043666,\n",
       "       'prefix': 'https://fastly.4sqi.net/img/general/',\n",
       "       'suffix': '/12113441_iOa6Uh-Xi8bhj2-gpzkkw8MKiAIs7RmOcz_RM7m8ink.jpg',\n",
       "       'width': 540,\n",
       "       'height': 960,\n",
       "       'visibility': 'public'},\n",
       "      'followers': {'count': 20},\n",
       "      'listItems': {'count': 273,\n",
       "       'items': [{'id': 'v4fa862b3e4b0ebff2f749f06',\n",
       "         'createdAt': 1373909433}]}},\n",
       "     {'id': '4fddeff0e4b0e078037ac0d3',\n",
       "      'name': 'NYC Resturants',\n",
       "      'description': '',\n",
       "      'type': 'others',\n",
       "      'user': {'firstName': 'Richard', 'lastName': 'R', 'countryCode': 'US'},\n",
       "      'editable': False,\n",
       "      'public': True,\n",
       "      'collaborative': True,\n",
       "      'url': '/rickr7/list/nyc-resturants',\n",
       "      'canonicalUrl': 'https://foursquare.com/rickr7/list/nyc-resturants',\n",
       "      'createdAt': 1339944944,\n",
       "      'updatedAt': 1612922499,\n",
       "      'photo': {'id': '5072dd13e4b09145cdf782d1',\n",
       "       'createdAt': 1349704979,\n",
       "       'prefix': 'https://fastly.4sqi.net/img/general/',\n",
       "       'suffix': '/208205_fGh2OuAZ9qJ4agbAA5wMVNOSIm9kNUlRtNwj1N-adqg.jpg',\n",
       "       'width': 800,\n",
       "       'height': 800,\n",
       "       'visibility': 'public'},\n",
       "      'followers': {'count': 12},\n",
       "      'listItems': {'count': 185,\n",
       "       'items': [{'id': 'v4fa862b3e4b0ebff2f749f06',\n",
       "         'createdAt': 1581655865}]}},\n",
       "     {'id': '5266c68a498e7c667807fe09',\n",
       "      'name': 'Foodie Love in NY - 02',\n",
       "      'description': '',\n",
       "      'type': 'others',\n",
       "      'user': {'firstName': 'WiLL', 'countryCode': 'CN'},\n",
       "      'editable': False,\n",
       "      'public': True,\n",
       "      'collaborative': False,\n",
       "      'url': '/sweetiewill/list/foodie-love-in-ny--02',\n",
       "      'canonicalUrl': 'https://foursquare.com/sweetiewill/list/foodie-love-in-ny--02',\n",
       "      'createdAt': 1382467210,\n",
       "      'updatedAt': 1391995585,\n",
       "      'followers': {'count': 7},\n",
       "      'listItems': {'count': 200,\n",
       "       'items': [{'id': 'v4fa862b3e4b0ebff2f749f06',\n",
       "         'createdAt': 1386809936}]}}]}]},\n",
       " 'hours': {'status': 'Closed until 11:30 AM',\n",
       "  'richStatus': {'entities': [], 'text': 'Closed until 11:30 AM'},\n",
       "  'isOpen': False,\n",
       "  'isLocalHoliday': False,\n",
       "  'dayData': [],\n",
       "  'timeframes': [{'days': 'Mon–Wed, Sun',\n",
       "    'open': [{'renderedTime': '11:30 AM–11:00 PM'}],\n",
       "    'segments': []},\n",
       "   {'days': 'Thu–Sat',\n",
       "    'includesToday': True,\n",
       "    'open': [{'renderedTime': '11:30 AM–Midnight'}],\n",
       "    'segments': []}]},\n",
       " 'popular': {'isOpen': False,\n",
       "  'isLocalHoliday': False,\n",
       "  'timeframes': [{'days': 'Today',\n",
       "    'includesToday': True,\n",
       "    'open': [{'renderedTime': 'Noon–11:00 PM'}],\n",
       "    'segments': []},\n",
       "   {'days': 'Sun',\n",
       "    'open': [{'renderedTime': 'Noon–3:00 PM'},\n",
       "     {'renderedTime': '5:00 PM–8:00 PM'}],\n",
       "    'segments': []},\n",
       "   {'days': 'Mon',\n",
       "    'open': [{'renderedTime': 'Noon–2:00 PM'},\n",
       "     {'renderedTime': '6:00 PM–8:00 PM'}],\n",
       "    'segments': []},\n",
       "   {'days': 'Tue–Thu',\n",
       "    'open': [{'renderedTime': 'Noon–2:00 PM'},\n",
       "     {'renderedTime': '5:00 PM–10:00 PM'}],\n",
       "    'segments': []},\n",
       "   {'days': 'Fri',\n",
       "    'open': [{'renderedTime': 'Noon–3:00 PM'},\n",
       "     {'renderedTime': '5:00 PM–11:00 PM'}],\n",
       "    'segments': []}]},\n",
       " 'seasonalHours': [],\n",
       " 'defaultHours': {'status': 'Closed until 11:30 AM',\n",
       "  'richStatus': {'entities': [], 'text': 'Closed until 11:30 AM'},\n",
       "  'isOpen': False,\n",
       "  'isLocalHoliday': False,\n",
       "  'dayData': [],\n",
       "  'timeframes': [{'days': 'Mon–Wed, Sun',\n",
       "    'open': [{'renderedTime': '11:30 AM–11:00 PM'}],\n",
       "    'segments': []},\n",
       "   {'days': 'Thu–Sat',\n",
       "    'includesToday': True,\n",
       "    'open': [{'renderedTime': '11:30 AM–Midnight'}],\n",
       "    'segments': []}]},\n",
       " 'pageUpdates': {'count': 0, 'items': []},\n",
       " 'inbox': {'count': 0, 'items': []},\n",
       " 'attributes': {'groups': [{'type': 'price',\n",
       "    'name': 'Price',\n",
       "    'summary': '$$',\n",
       "    'count': 1,\n",
       "    'items': [{'displayName': 'Price', 'displayValue': '$$', 'priceTier': 2}]},\n",
       "   {'type': 'payments',\n",
       "    'name': 'Credit Cards',\n",
       "    'summary': 'Credit Cards',\n",
       "    'count': 7,\n",
       "    'items': [{'displayName': 'Credit Cards',\n",
       "      'displayValue': 'Yes (incl. American Express)'}]},\n",
       "   {'type': 'outdoorSeating',\n",
       "    'name': 'Outdoor Seating',\n",
       "    'summary': 'Outdoor Seating',\n",
       "    'count': 1,\n",
       "    'items': [{'displayName': 'Outdoor Seating', 'displayValue': 'Yes'}]},\n",
       "   {'type': 'serves',\n",
       "    'name': 'Menus',\n",
       "    'summary': 'Happy Hour, Brunch & more',\n",
       "    'count': 8,\n",
       "    'items': [{'displayName': 'Brunch', 'displayValue': 'Brunch'},\n",
       "     {'displayName': 'Lunch', 'displayValue': 'Lunch'},\n",
       "     {'displayName': 'Dinner', 'displayValue': 'Dinner'},\n",
       "     {'displayName': 'Happy Hour', 'displayValue': 'Happy Hour'}]},\n",
       "   {'type': 'drinks',\n",
       "    'name': 'Drinks',\n",
       "    'summary': 'Beer, Wine & Cocktails',\n",
       "    'count': 5,\n",
       "    'items': [{'displayName': 'Beer', 'displayValue': 'Beer'},\n",
       "     {'displayName': 'Wine', 'displayValue': 'Wine'},\n",
       "     {'displayName': 'Cocktails', 'displayValue': 'Cocktails'}]}]},\n",
       " 'bestPhoto': {'id': '4fad980de4b091b4626c3633',\n",
       "  'createdAt': 1336776717,\n",
       "  'source': {'name': 'Foursquare for Android',\n",
       "   'url': 'https://foursquare.com/download/#/android'},\n",
       "  'prefix': 'https://fastly.4sqi.net/img/general/',\n",
       "  'suffix': '/ya1iQFI7pLjuIJp1PGDKlrZS3OJdHCF7tpILMmjv_2w.jpg',\n",
       "  'width': 480,\n",
       "  'height': 640,\n",
       "  'visibility': 'public'},\n",
       " 'colors': {'highlightColor': {'photoId': '4fad980de4b091b4626c3633',\n",
       "   'value': -13619152},\n",
       "  'highlightTextColor': {'photoId': '4fad980de4b091b4626c3633', 'value': -1},\n",
       "  'algoVersion': 3}}"
      ]
     },
     "execution_count": 22,
     "metadata": {},
     "output_type": "execute_result"
    }
   ],
   "source": [
    "result = requests.get(url).json()\n",
    "print(result['response']['venue'].keys())\n",
    "result['response']['venue']"
   ]
  },
  {
   "cell_type": "markdown",
   "metadata": {
    "button": false,
    "new_sheet": false,
    "run_control": {
     "read_only": false
    }
   },
   "source": [
    "### B. Get the venue's overall rating\n"
   ]
  },
  {
   "cell_type": "code",
   "execution_count": 23,
   "metadata": {
    "button": false,
    "collapsed": false,
    "jupyter": {
     "outputs_hidden": false
    },
    "new_sheet": false,
    "run_control": {
     "read_only": false
    }
   },
   "outputs": [
    {
     "name": "stdout",
     "output_type": "stream",
     "text": [
      "6.9\n"
     ]
    }
   ],
   "source": [
    "try:\n",
    "    print(result['response']['venue']['rating'])\n",
    "except:\n",
    "    print('This venue has not been rated yet.')"
   ]
  },
  {
   "cell_type": "markdown",
   "metadata": {
    "button": false,
    "new_sheet": false,
    "run_control": {
     "read_only": false
    }
   },
   "source": [
    "That is not a very good rating. Let's check the rating of the second closest Italian restaurant.\n"
   ]
  },
  {
   "cell_type": "code",
   "execution_count": 25,
   "metadata": {
    "button": false,
    "collapsed": false,
    "jupyter": {
     "outputs_hidden": false
    },
    "new_sheet": false,
    "run_control": {
     "read_only": false
    }
   },
   "outputs": [
    {
     "name": "stdout",
     "output_type": "stream",
     "text": [
      "This venue has not been rated yet.\n"
     ]
    }
   ],
   "source": [
    "venue_id = '4f3232e219836c91c7bfde94' # ID of Conca Cucina Italian Restaurant\n",
    "url = 'https://api.foursquare.com/v2/venues/{}?client_id={}&client_secret={}&v={}'.format(venue_id, CLIENT_ID, CLIENT_SECRET,VERSION)\n",
    "\n",
    "result = requests.get(url).json()\n",
    "try:\n",
    "    print(result['response']['venue']['rating'])\n",
    "except:\n",
    "    print('This venue has not been rated yet.')"
   ]
  },
  {
   "cell_type": "markdown",
   "metadata": {
    "button": false,
    "new_sheet": false,
    "run_control": {
     "read_only": false
    }
   },
   "source": [
    "Since this restaurant has no ratings, let's check the third restaurant.\n"
   ]
  },
  {
   "cell_type": "code",
   "execution_count": 26,
   "metadata": {
    "button": false,
    "collapsed": false,
    "jupyter": {
     "outputs_hidden": false
    },
    "new_sheet": false,
    "run_control": {
     "read_only": false
    }
   },
   "outputs": [
    {
     "name": "stdout",
     "output_type": "stream",
     "text": [
      "7.3\n"
     ]
    }
   ],
   "source": [
    "venue_id = '3fd66200f964a520f4e41ee3' # ID of Ecco\n",
    "url = 'https://api.foursquare.com/v2/venues/{}?client_id={}&client_secret={}&v={}'.format(venue_id, CLIENT_ID, CLIENT_SECRET, VERSION)\n",
    "\n",
    "result = requests.get(url).json()\n",
    "try:\n",
    "    print(result['response']['venue']['rating'])\n",
    "except:\n",
    "    print('This venue has not been rated yet.')"
   ]
  },
  {
   "cell_type": "markdown",
   "metadata": {
    "button": false,
    "new_sheet": false,
    "run_control": {
     "read_only": false
    }
   },
   "source": [
    "Since this restaurant has a slightly better rating, let's explore it further.\n"
   ]
  },
  {
   "cell_type": "markdown",
   "metadata": {
    "button": false,
    "new_sheet": false,
    "run_control": {
     "read_only": false
    }
   },
   "source": [
    "### C. Get the number of tips\n"
   ]
  },
  {
   "cell_type": "code",
   "execution_count": 27,
   "metadata": {
    "button": false,
    "collapsed": false,
    "jupyter": {
     "outputs_hidden": false
    },
    "new_sheet": false,
    "run_control": {
     "read_only": false
    }
   },
   "outputs": [
    {
     "data": {
      "text/plain": [
       "19"
      ]
     },
     "execution_count": 27,
     "metadata": {},
     "output_type": "execute_result"
    }
   ],
   "source": [
    "result['response']['venue']['tips']['count']"
   ]
  },
  {
   "cell_type": "markdown",
   "metadata": {
    "button": false,
    "new_sheet": false,
    "run_control": {
     "read_only": false
    }
   },
   "source": [
    "### D. Get the venue's tips\n",
    "\n",
    "> `https://api.foursquare.com/v2/venues/`**VENUE_ID**`/tips?client_id=`**CLIENT_ID**`&client_secret=`**CLIENT_SECRET**`&v=`**VERSION**`&limit=`**LIMIT**\n"
   ]
  },
  {
   "cell_type": "markdown",
   "metadata": {
    "button": false,
    "new_sheet": false,
    "run_control": {
     "read_only": false
    }
   },
   "source": [
    "#### Create URL and send GET request. Make sure to set limit to get all tips\n"
   ]
  },
  {
   "cell_type": "code",
   "execution_count": 28,
   "metadata": {
    "button": false,
    "collapsed": false,
    "jupyter": {
     "outputs_hidden": false
    },
    "new_sheet": false,
    "run_control": {
     "read_only": false
    }
   },
   "outputs": [
    {
     "data": {
      "text/plain": [
       "{'meta': {'code': 200, 'requestId': '6027947ee7297327ca147248'},\n",
       " 'response': {'tips': {'count': 19,\n",
       "   'items': [{'id': '5ab1cb46c9a517174651d3fe',\n",
       "     'createdAt': 1521601350,\n",
       "     'text': 'A+ Italian food! Trust me on this: my mom’s side of the family is 100% Italian. I was born and bred to know good pasta when I see it, and Ecco is one of my all-time NYC favorites',\n",
       "     'type': 'user',\n",
       "     'canonicalUrl': 'https://foursquare.com/item/5ab1cb46c9a517174651d3fe',\n",
       "     'lang': 'en',\n",
       "     'likes': {'count': 0, 'groups': []},\n",
       "     'logView': True,\n",
       "     'agreeCount': 5,\n",
       "     'disagreeCount': 0,\n",
       "     'todo': {'count': 0},\n",
       "     'user': {'firstName': 'Nick',\n",
       "      'lastName': 'E',\n",
       "      'address': '',\n",
       "      'city': '',\n",
       "      'state': ''},\n",
       "     'authorInteractionType': 'liked'}]}}}"
      ]
     },
     "execution_count": 28,
     "metadata": {},
     "output_type": "execute_result"
    }
   ],
   "source": [
    "## Ecco Tips\n",
    "limit = 15 # set limit to be greater than or equal to the total number of tips\n",
    "url = 'https://api.foursquare.com/v2/venues/{}/tips?client_id={}&client_secret={}&v={}&limit={}'.format(venue_id, CLIENT_ID, CLIENT_SECRET,VERSION, limit)\n",
    "\n",
    "results = requests.get(url).json()\n",
    "results"
   ]
  },
  {
   "cell_type": "markdown",
   "metadata": {
    "button": false,
    "new_sheet": false,
    "run_control": {
     "read_only": false
    }
   },
   "source": [
    "#### Get tips and list of associated features\n"
   ]
  },
  {
   "cell_type": "code",
   "execution_count": 31,
   "metadata": {
    "button": false,
    "collapsed": false,
    "jupyter": {
     "outputs_hidden": false
    },
    "new_sheet": false,
    "run_control": {
     "read_only": false
    }
   },
   "outputs": [
    {
     "data": {
      "text/plain": [
       "dict_keys(['id', 'createdAt', 'text', 'type', 'canonicalUrl', 'lang', 'likes', 'logView', 'agreeCount', 'disagreeCount', 'todo', 'user', 'authorInteractionType'])"
      ]
     },
     "execution_count": 31,
     "metadata": {},
     "output_type": "execute_result"
    }
   ],
   "source": [
    "tips = results['response']['tips']['items']\n",
    "\n",
    "tip = results['response']['tips']['items'][0]\n",
    "tip.keys()"
   ]
  },
  {
   "cell_type": "markdown",
   "metadata": {
    "button": false,
    "new_sheet": false,
    "run_control": {
     "read_only": false
    }
   },
   "source": [
    "#### Format column width and display all tips\n"
   ]
  },
  {
   "cell_type": "code",
   "execution_count": 44,
   "metadata": {
    "button": false,
    "collapsed": false,
    "jupyter": {
     "outputs_hidden": false
    },
    "new_sheet": false,
    "run_control": {
     "read_only": false
    }
   },
   "outputs": [
    {
     "data": {
      "text/html": [
       "<div>\n",
       "<style scoped>\n",
       "    .dataframe tbody tr th:only-of-type {\n",
       "        vertical-align: middle;\n",
       "    }\n",
       "\n",
       "    .dataframe tbody tr th {\n",
       "        vertical-align: top;\n",
       "    }\n",
       "\n",
       "    .dataframe thead th {\n",
       "        text-align: right;\n",
       "    }\n",
       "</style>\n",
       "<table border=\"1\" class=\"dataframe\">\n",
       "  <thead>\n",
       "    <tr style=\"text-align: right;\">\n",
       "      <th></th>\n",
       "      <th>id</th>\n",
       "      <th>createdAt</th>\n",
       "      <th>text</th>\n",
       "      <th>type</th>\n",
       "      <th>canonicalUrl</th>\n",
       "      <th>lang</th>\n",
       "      <th>logView</th>\n",
       "      <th>agreeCount</th>\n",
       "      <th>disagreeCount</th>\n",
       "      <th>authorInteractionType</th>\n",
       "      <th>likes.count</th>\n",
       "      <th>likes.groups</th>\n",
       "      <th>todo.count</th>\n",
       "      <th>user.firstName</th>\n",
       "      <th>user.lastName</th>\n",
       "      <th>user.address</th>\n",
       "      <th>user.city</th>\n",
       "      <th>user.state</th>\n",
       "    </tr>\n",
       "  </thead>\n",
       "  <tbody>\n",
       "    <tr>\n",
       "      <th>0</th>\n",
       "      <td>5ab1cb46c9a517174651d3fe</td>\n",
       "      <td>1521601350</td>\n",
       "      <td>A+ Italian food! Trust me on this: my mom’s side of the family is 100% Italian. I was born and bred to know good pasta when I see it, and Ecco is one of my all-time NYC favorites</td>\n",
       "      <td>user</td>\n",
       "      <td>https://foursquare.com/item/5ab1cb46c9a517174651d3fe</td>\n",
       "      <td>en</td>\n",
       "      <td>True</td>\n",
       "      <td>5</td>\n",
       "      <td>0</td>\n",
       "      <td>liked</td>\n",
       "      <td>0</td>\n",
       "      <td>[]</td>\n",
       "      <td>0</td>\n",
       "      <td>Nick</td>\n",
       "      <td>E</td>\n",
       "      <td></td>\n",
       "      <td></td>\n",
       "      <td></td>\n",
       "    </tr>\n",
       "  </tbody>\n",
       "</table>\n",
       "</div>"
      ],
      "text/plain": [
       "                         id   createdAt  \\\n",
       "0  5ab1cb46c9a517174651d3fe  1521601350   \n",
       "\n",
       "                                                                                                                                                                                 text  \\\n",
       "0  A+ Italian food! Trust me on this: my mom’s side of the family is 100% Italian. I was born and bred to know good pasta when I see it, and Ecco is one of my all-time NYC favorites   \n",
       "\n",
       "   type                                          canonicalUrl lang  logView  \\\n",
       "0  user  https://foursquare.com/item/5ab1cb46c9a517174651d3fe   en     True   \n",
       "\n",
       "   agreeCount  disagreeCount authorInteractionType  likes.count likes.groups  \\\n",
       "0           5              0                 liked            0           []   \n",
       "\n",
       "   todo.count user.firstName user.lastName user.address user.city user.state  \n",
       "0           0           Nick             E                                    "
      ]
     },
     "execution_count": 44,
     "metadata": {},
     "output_type": "execute_result"
    }
   ],
   "source": [
    "pd.set_option('display.max_colwidth', None)\n",
    "\n",
    "tips_df = pd.json_normalize(tips) # json normalize tips\n",
    "\n",
    "# columns to keep\n",
    "filtered_columns = ['text', 'agreeCount', 'disagreeCount', 'id', 'user.firstName', 'user.lastName', 'user.id']\n",
    "\n",
    "\n",
    "# display tips\n",
    "tips_df.reindex()"
   ]
  },
  {
   "cell_type": "markdown",
   "metadata": {
    "button": false,
    "new_sheet": false,
    "run_control": {
     "read_only": false
    }
   },
   "source": [
    "Now remember that because we are using a personal developer account, then we can access only 2 of the restaurant's tips, instead of all 15 tips.\n"
   ]
  },
  {
   "cell_type": "markdown",
   "metadata": {
    "button": false,
    "new_sheet": false,
    "run_control": {
     "read_only": false
    }
   },
   "source": [
    "\n"
   ]
  },
  {
   "cell_type": "markdown",
   "metadata": {
    "button": false,
    "new_sheet": false,
    "run_control": {
     "read_only": false
    }
   },
   "source": [
    "<a id=\"item3\"></a>\n"
   ]
  },
  {
   "cell_type": "markdown",
   "metadata": {
    "button": false,
    "new_sheet": false,
    "run_control": {
     "read_only": false
    }
   },
   "source": [
    "## 3. Search a Foursquare User\n",
    "\n",
    "> `https://api.foursquare.com/v2/users/`**USER_ID**`?client_id=`**CLIENT_ID**`&client_secret=`**CLIENT_SECRET**`&v=`**VERSION**\n"
   ]
  },
  {
   "cell_type": "markdown",
   "metadata": {
    "button": false,
    "new_sheet": false,
    "run_control": {
     "read_only": false
    }
   },
   "source": [
    "### Define URL, send GET request and display features associated with user\n"
   ]
  },
  {
   "cell_type": "code",
   "execution_count": 49,
   "metadata": {
    "button": false,
    "collapsed": false,
    "jupyter": {
     "outputs_hidden": false
    },
    "new_sheet": false,
    "run_control": {
     "read_only": false
    }
   },
   "outputs": [
    {
     "data": {
      "text/html": [
       "<div>\n",
       "<style scoped>\n",
       "    .dataframe tbody tr th:only-of-type {\n",
       "        vertical-align: middle;\n",
       "    }\n",
       "\n",
       "    .dataframe tbody tr th {\n",
       "        vertical-align: top;\n",
       "    }\n",
       "\n",
       "    .dataframe thead th {\n",
       "        text-align: right;\n",
       "    }\n",
       "</style>\n",
       "<table border=\"1\" class=\"dataframe\">\n",
       "  <thead>\n",
       "    <tr style=\"text-align: right;\">\n",
       "      <th></th>\n",
       "      <th>id</th>\n",
       "      <th>createdAt</th>\n",
       "      <th>prefix</th>\n",
       "      <th>suffix</th>\n",
       "      <th>width</th>\n",
       "      <th>height</th>\n",
       "      <th>visibility</th>\n",
       "    </tr>\n",
       "  </thead>\n",
       "  <tbody>\n",
       "    <tr>\n",
       "      <th>0</th>\n",
       "      <td>57099084498e6e5b94d5a312</td>\n",
       "      <td>1460244612</td>\n",
       "      <td>https://fastly.4sqi.net/img/general/</td>\n",
       "      <td>/133773133_ODR5Au05ENkSyu3xxfV3VOfCa0idDfm9Q4n8YbhZDRQ.jpg</td>\n",
       "      <td>960</td>\n",
       "      <td>540</td>\n",
       "      <td>public</td>\n",
       "    </tr>\n",
       "    <tr>\n",
       "      <th>1</th>\n",
       "      <td>541e1d3b498e8e793290f7cd</td>\n",
       "      <td>1411259707</td>\n",
       "      <td>https://fastly.4sqi.net/img/general/</td>\n",
       "      <td>/30238440_mv7stX3aKbr8nHMI_dKkTCCUs3bhHwvARLuabvDIm5Y.jpg</td>\n",
       "      <td>960</td>\n",
       "      <td>540</td>\n",
       "      <td>public</td>\n",
       "    </tr>\n",
       "    <tr>\n",
       "      <th>2</th>\n",
       "      <td>53cb1c82498ef31f2f2eba34</td>\n",
       "      <td>1405820034</td>\n",
       "      <td>https://fastly.4sqi.net/img/general/</td>\n",
       "      <td>/51713900_PG5tGSnPloIvz--PJpC6cxDHmvfp6bA4wviH7d_rY_8.jpg</td>\n",
       "      <td>960</td>\n",
       "      <td>960</td>\n",
       "      <td>public</td>\n",
       "    </tr>\n",
       "  </tbody>\n",
       "</table>\n",
       "</div>"
      ],
      "text/plain": [
       "                         id   createdAt                                prefix  \\\n",
       "0  57099084498e6e5b94d5a312  1460244612  https://fastly.4sqi.net/img/general/   \n",
       "1  541e1d3b498e8e793290f7cd  1411259707  https://fastly.4sqi.net/img/general/   \n",
       "2  53cb1c82498ef31f2f2eba34  1405820034  https://fastly.4sqi.net/img/general/   \n",
       "\n",
       "                                                       suffix  width  height  \\\n",
       "0  /133773133_ODR5Au05ENkSyu3xxfV3VOfCa0idDfm9Q4n8YbhZDRQ.jpg    960     540   \n",
       "1   /30238440_mv7stX3aKbr8nHMI_dKkTCCUs3bhHwvARLuabvDIm5Y.jpg    960     540   \n",
       "2   /51713900_PG5tGSnPloIvz--PJpC6cxDHmvfp6bA4wviH7d_rY_8.jpg    960     960   \n",
       "\n",
       "  visibility  \n",
       "0     public  \n",
       "1     public  \n",
       "2     public  "
      ]
     },
     "execution_count": 49,
     "metadata": {},
     "output_type": "execute_result"
    }
   ],
   "source": [
    "idnumber = '48454224' # user ID with most agree counts and complete profile\n",
    "\n",
    "url = 'https://api.foursquare.com/v2/users/{}/tips?client_id={}&client_secret={}&v={}'.format(idnumber, CLIENT_ID, CLIENT_SECRET,VERSION) # define URL\n",
    "\n",
    "# send GET request\n",
    "results = requests.get(url).json()\n",
    "#user_data = results['response']['user']\n",
    "user_data=results['response']['tips']['items'][0]['venue']['photos']['groups'][0]['items']#['items']\n",
    "# display features associated with user\n",
    "#user_data.keys()\n",
    "#results\n",
    "pd.set_option('display.max_colwidth', None)\n",
    "\n",
    "users_df = pd.json_normalize(user_data)\n",
    "\n",
    "df=users_df\n",
    "df\n",
    "#url"
   ]
  },
  {
   "cell_type": "markdown",
   "metadata": {},
   "source": [
    "### Retrieve the User's Profile Image\n"
   ]
  },
  {
   "cell_type": "code",
   "execution_count": 52,
   "metadata": {},
   "outputs": [
    {
     "data": {
      "text/html": [
       "<img src=\"https://fastly.4sqi.net/img/general/540x920/133773133_ODR5Au05ENkSyu3xxfV3VOfCa0idDfm9Q4n8YbhZDRQ.jpg\"/>"
      ],
      "text/plain": [
       "<IPython.core.display.Image object>"
      ]
     },
     "execution_count": 52,
     "metadata": {},
     "output_type": "execute_result"
    }
   ],
   "source": [
    "# 1. grab prefix of photo\n",
    "# 2. grab suffix of photo\n",
    "# 3. concatenate them using the image size  \n",
    "Image(url='https://fastly.4sqi.net/img/general/540x920/133773133_ODR5Au05ENkSyu3xxfV3VOfCa0idDfm9Q4n8YbhZDRQ.jpg')"
   ]
  },
  {
   "cell_type": "markdown",
   "metadata": {
    "button": false,
    "new_sheet": false,
    "run_control": {
     "read_only": false
    }
   },
   "source": [
    "Wow! So it turns out that Nick is a very active Foursquare user, with more than 250 tips.\n"
   ]
  },
  {
   "cell_type": "markdown",
   "metadata": {
    "button": false,
    "new_sheet": false,
    "run_control": {
     "read_only": false
    }
   },
   "source": [
    "### Get User's tips\n"
   ]
  },
  {
   "cell_type": "code",
   "execution_count": 55,
   "metadata": {
    "button": false,
    "collapsed": false,
    "jupyter": {
     "outputs_hidden": false
    },
    "new_sheet": false,
    "run_control": {
     "read_only": false
    }
   },
   "outputs": [
    {
     "data": {
      "text/html": [
       "<div>\n",
       "<style scoped>\n",
       "    .dataframe tbody tr th:only-of-type {\n",
       "        vertical-align: middle;\n",
       "    }\n",
       "\n",
       "    .dataframe tbody tr th {\n",
       "        vertical-align: top;\n",
       "    }\n",
       "\n",
       "    .dataframe thead th {\n",
       "        text-align: right;\n",
       "    }\n",
       "</style>\n",
       "<table border=\"1\" class=\"dataframe\">\n",
       "  <thead>\n",
       "    <tr style=\"text-align: right;\">\n",
       "      <th></th>\n",
       "      <th>text</th>\n",
       "      <th>agreeCount</th>\n",
       "      <th>disagreeCount</th>\n",
       "      <th>id</th>\n",
       "    </tr>\n",
       "  </thead>\n",
       "  <tbody>\n",
       "    <tr>\n",
       "      <th>0</th>\n",
       "      <td>You’re not a real New Yorker until you’ve shame-ordered Insomnia Cookies for delivery at 3am</td>\n",
       "      <td>1</td>\n",
       "      <td>0</td>\n",
       "      <td>5acbbd4eb1538e45373b07f5</td>\n",
       "    </tr>\n",
       "    <tr>\n",
       "      <th>1</th>\n",
       "      <td>Good for you yet still tasty! Clean green protein is my go-to after I hit the gym 💪</td>\n",
       "      <td>2</td>\n",
       "      <td>0</td>\n",
       "      <td>5acbbcda01235808d5d6dc75</td>\n",
       "    </tr>\n",
       "    <tr>\n",
       "      <th>2</th>\n",
       "      <td>Burger game strong 💪</td>\n",
       "      <td>1</td>\n",
       "      <td>0</td>\n",
       "      <td>5ab575fb6bdee65f759da8c1</td>\n",
       "    </tr>\n",
       "    <tr>\n",
       "      <th>3</th>\n",
       "      <td>Great burgers &amp; fries! Also, this place is exactly what it’s like when you go to a bar in the Southwest. Source: I’m from Arizona.</td>\n",
       "      <td>2</td>\n",
       "      <td>0</td>\n",
       "      <td>5ab5575d73fe2516ad8f363b</td>\n",
       "    </tr>\n",
       "    <tr>\n",
       "      <th>4</th>\n",
       "      <td>Açaí bowl + peanut butter + whey protein = 💪💪💪</td>\n",
       "      <td>1</td>\n",
       "      <td>0</td>\n",
       "      <td>5ab42db53c858d64af2688a4</td>\n",
       "    </tr>\n",
       "    <tr>\n",
       "      <th>5</th>\n",
       "      <td>Highly underrated and way less crowded than Central Park!</td>\n",
       "      <td>3</td>\n",
       "      <td>0</td>\n",
       "      <td>5ab42c396f706a29f53ad1a8</td>\n",
       "    </tr>\n",
       "    <tr>\n",
       "      <th>6</th>\n",
       "      <td>Get the açaí bowl with peanut butter after your work out and thank me later 👌</td>\n",
       "      <td>1</td>\n",
       "      <td>0</td>\n",
       "      <td>5ab42aca2a7ab6333652b266</td>\n",
       "    </tr>\n",
       "    <tr>\n",
       "      <th>7</th>\n",
       "      <td>When you want a burger, this should be the first thing that comes to mind. A+!</td>\n",
       "      <td>1</td>\n",
       "      <td>0</td>\n",
       "      <td>5ab42a28da5e5617d18e3a6a</td>\n",
       "    </tr>\n",
       "    <tr>\n",
       "      <th>8</th>\n",
       "      <td>Way less crowded than Central Park! People who live in the neighborhood rave about Carl Schurz Park.</td>\n",
       "      <td>3</td>\n",
       "      <td>0</td>\n",
       "      <td>5ab429db1ffe971b060083f5</td>\n",
       "    </tr>\n",
       "    <tr>\n",
       "      <th>9</th>\n",
       "      <td>The best Mexican food in the Murray Hill / Kips Bay area!</td>\n",
       "      <td>1</td>\n",
       "      <td>0</td>\n",
       "      <td>5ab3f53f8496ca57542d5549</td>\n",
       "    </tr>\n",
       "    <tr>\n",
       "      <th>10</th>\n",
       "      <td>Best coffee shop in the neighborhood!</td>\n",
       "      <td>1</td>\n",
       "      <td>0</td>\n",
       "      <td>5ab3f428da5e5617d17d1475</td>\n",
       "    </tr>\n",
       "    <tr>\n",
       "      <th>11</th>\n",
       "      <td>When there’s nice weather, the rooftop at Tonic East is the best place to watch the game. Perfect for March Madness &amp; NBA finals!</td>\n",
       "      <td>2</td>\n",
       "      <td>0</td>\n",
       "      <td>5ab3f3fedd70c572de886c9d</td>\n",
       "    </tr>\n",
       "    <tr>\n",
       "      <th>12</th>\n",
       "      <td>Rib game level 💯</td>\n",
       "      <td>1</td>\n",
       "      <td>0</td>\n",
       "      <td>5ab3f372da2e00604ca53924</td>\n",
       "    </tr>\n",
       "    <tr>\n",
       "      <th>13</th>\n",
       "      <td>Solid option for good Mexican food, which is hard to find in Murray Hill.</td>\n",
       "      <td>5</td>\n",
       "      <td>0</td>\n",
       "      <td>5ab3f275dff815096a61884e</td>\n",
       "    </tr>\n",
       "    <tr>\n",
       "      <th>14</th>\n",
       "      <td>So good it makes me burp after every meal. I’ve been told that’s a compliment in France, so I’m going to keep doing it 🇫🇷</td>\n",
       "      <td>2</td>\n",
       "      <td>0</td>\n",
       "      <td>5ab3e8d6d0336060272dd4d9</td>\n",
       "    </tr>\n",
       "  </tbody>\n",
       "</table>\n",
       "</div>"
      ],
      "text/plain": [
       "                                                                                                                                  text  \\\n",
       "0                                         You’re not a real New Yorker until you’ve shame-ordered Insomnia Cookies for delivery at 3am   \n",
       "1                                                  Good for you yet still tasty! Clean green protein is my go-to after I hit the gym 💪   \n",
       "2                                                                                                                 Burger game strong 💪   \n",
       "3   Great burgers & fries! Also, this place is exactly what it’s like when you go to a bar in the Southwest. Source: I’m from Arizona.   \n",
       "4                                                                                       Açaí bowl + peanut butter + whey protein = 💪💪💪   \n",
       "5                                                                            Highly underrated and way less crowded than Central Park!   \n",
       "6                                                        Get the açaí bowl with peanut butter after your work out and thank me later 👌   \n",
       "7                                                       When you want a burger, this should be the first thing that comes to mind. A+!   \n",
       "8                                 Way less crowded than Central Park! People who live in the neighborhood rave about Carl Schurz Park.   \n",
       "9                                                                            The best Mexican food in the Murray Hill / Kips Bay area!   \n",
       "10                                                                                               Best coffee shop in the neighborhood!   \n",
       "11   When there’s nice weather, the rooftop at Tonic East is the best place to watch the game. Perfect for March Madness & NBA finals!   \n",
       "12                                                                                                                    Rib game level 💯   \n",
       "13                                                           Solid option for good Mexican food, which is hard to find in Murray Hill.   \n",
       "14           So good it makes me burp after every meal. I’ve been told that’s a compliment in France, so I’m going to keep doing it 🇫🇷   \n",
       "\n",
       "    agreeCount  disagreeCount                        id  \n",
       "0            1              0  5acbbd4eb1538e45373b07f5  \n",
       "1            2              0  5acbbcda01235808d5d6dc75  \n",
       "2            1              0  5ab575fb6bdee65f759da8c1  \n",
       "3            2              0  5ab5575d73fe2516ad8f363b  \n",
       "4            1              0  5ab42db53c858d64af2688a4  \n",
       "5            3              0  5ab42c396f706a29f53ad1a8  \n",
       "6            1              0  5ab42aca2a7ab6333652b266  \n",
       "7            1              0  5ab42a28da5e5617d18e3a6a  \n",
       "8            3              0  5ab429db1ffe971b060083f5  \n",
       "9            1              0  5ab3f53f8496ca57542d5549  \n",
       "10           1              0  5ab3f428da5e5617d17d1475  \n",
       "11           2              0  5ab3f3fedd70c572de886c9d  \n",
       "12           1              0  5ab3f372da2e00604ca53924  \n",
       "13           5              0  5ab3f275dff815096a61884e  \n",
       "14           2              0  5ab3e8d6d0336060272dd4d9  "
      ]
     },
     "execution_count": 55,
     "metadata": {},
     "output_type": "execute_result"
    }
   ],
   "source": [
    "# define tips URL\n",
    "user_id='484542633'\n",
    "url = 'https://api.foursquare.com/v2/users/{}/tips?client_id={}&client_secret={}&v={}&limit={}'.format(user_id, CLIENT_ID, CLIENT_SECRET,VERSION, limit)\n",
    "\n",
    "# send GET request and get user's tips\n",
    "results = requests.get(url).json()\n",
    "tips = results['response']['tips']['items']\n",
    "\n",
    "# format column width\n",
    "pd.set_option('display.max_colwidth', None)\n",
    "\n",
    "tips_df = pd.json_normalize(tips)\n",
    "\n",
    "# filter columns\n",
    "filtered_columns = ['text', 'agreeCount', 'disagreeCount', 'id']\n",
    "tips_filtered = tips_df.loc[:, filtered_columns]\n",
    "\n",
    "# display user's tips\n",
    "tips_filtered"
   ]
  },
  {
   "cell_type": "markdown",
   "metadata": {
    "button": false,
    "new_sheet": false,
    "run_control": {
     "read_only": false
    }
   },
   "source": [
    "#### Let's get the venue for the tip with the greatest number of agree counts\n"
   ]
  },
  {
   "cell_type": "markdown",
   "metadata": {
    "button": false,
    "new_sheet": false,
    "run_control": {
     "read_only": false
    }
   },
   "source": [
    "## 4. Explore a location\n",
    "\n",
    "> `https://api.foursquare.com/v2/venues/`**explore**`?client_id=`**CLIENT_ID**`&client_secret=`**CLIENT_SECRET**`&ll=`**LATITUDE**`,`**LONGITUDE**`&v=`**VERSION**`&limit=`**LIMIT**\n"
   ]
  },
  {
   "cell_type": "markdown",
   "metadata": {
    "button": false,
    "new_sheet": false,
    "run_control": {
     "read_only": false
    }
   },
   "source": [
    "#### So, you just finished your gourmet dish at Ecco, and are just curious about the popular spots around the restaurant. In order to explore the area, let's start by getting the latitude and longitude values of Ecco Restaurant.\n"
   ]
  },
  {
   "cell_type": "code",
   "execution_count": 57,
   "metadata": {
    "button": false,
    "new_sheet": false,
    "run_control": {
     "read_only": false
    }
   },
   "outputs": [],
   "source": [
    "latitude = 40.715337\n",
    "longitude = -74.008848"
   ]
  },
  {
   "cell_type": "markdown",
   "metadata": {
    "button": false,
    "new_sheet": false,
    "run_control": {
     "read_only": false
    }
   },
   "source": [
    "#### Define URL\n"
   ]
  },
  {
   "cell_type": "code",
   "execution_count": 58,
   "metadata": {
    "button": false,
    "collapsed": false,
    "jupyter": {
     "outputs_hidden": false
    },
    "new_sheet": false,
    "run_control": {
     "read_only": false
    }
   },
   "outputs": [
    {
     "data": {
      "text/plain": [
       "'https://api.foursquare.com/v2/venues/explore?client_id=4QLQRJVRSGSEBTB24O1EJAZW40G5OBPXOM5H5L53IBNGHC4B&client_secret=UWP0VWT2MFCDNI3321EXQC0AVEPAIRGGUCI1F2JN0OF5QZDP&ll=40.715337,-74.008848&v=20180604&radius=500&limit=30'"
      ]
     },
     "execution_count": 58,
     "metadata": {},
     "output_type": "execute_result"
    }
   ],
   "source": [
    "url = 'https://api.foursquare.com/v2/venues/explore?client_id={}&client_secret={}&ll={},{}&v={}&radius={}&limit={}'.format(CLIENT_ID, CLIENT_SECRET, latitude, longitude, VERSION, radius, LIMIT)\n",
    "url"
   ]
  },
  {
   "cell_type": "markdown",
   "metadata": {
    "button": false,
    "new_sheet": false,
    "run_control": {
     "read_only": false
    }
   },
   "source": [
    "#### Send GET request and examine results\n"
   ]
  },
  {
   "cell_type": "code",
   "execution_count": 59,
   "metadata": {
    "button": false,
    "new_sheet": false,
    "run_control": {
     "read_only": false
    }
   },
   "outputs": [],
   "source": [
    "import requests"
   ]
  },
  {
   "cell_type": "code",
   "execution_count": 60,
   "metadata": {
    "button": false,
    "collapsed": false,
    "jupyter": {
     "outputs_hidden": false
    },
    "new_sheet": false,
    "run_control": {
     "read_only": false
    }
   },
   "outputs": [
    {
     "data": {
      "text/plain": [
       "'There are 30 around Ecco restaurant.'"
      ]
     },
     "execution_count": 60,
     "metadata": {},
     "output_type": "execute_result"
    }
   ],
   "source": [
    "results = requests.get(url).json()\n",
    "'There are {} around Ecco restaurant.'.format(len(results['response']['groups'][0]['items']))"
   ]
  },
  {
   "cell_type": "markdown",
   "metadata": {
    "button": false,
    "new_sheet": false,
    "run_control": {
     "read_only": false
    }
   },
   "source": [
    "#### Get relevant part of JSON\n"
   ]
  },
  {
   "cell_type": "code",
   "execution_count": 61,
   "metadata": {
    "button": false,
    "collapsed": false,
    "jupyter": {
     "outputs_hidden": false
    },
    "new_sheet": false,
    "run_control": {
     "read_only": false
    }
   },
   "outputs": [
    {
     "data": {
      "text/plain": [
       "{'reasons': {'count': 0,\n",
       "  'items': [{'summary': 'This spot is popular',\n",
       "    'type': 'general',\n",
       "    'reasonName': 'globalInteractionReason'}]},\n",
       " 'venue': {'id': '5d5f24ec09484500079aee00',\n",
       "  'name': 'Los Tacos No. 1',\n",
       "  'location': {'address': '136 Church St',\n",
       "   'lat': 40.714267,\n",
       "   'lng': -74.008756,\n",
       "   'labeledLatLngs': [{'label': 'display',\n",
       "     'lat': 40.714267,\n",
       "     'lng': -74.008756}],\n",
       "   'distance': 119,\n",
       "   'postalCode': '10007',\n",
       "   'cc': 'US',\n",
       "   'city': 'New York',\n",
       "   'state': 'NY',\n",
       "   'country': 'United States',\n",
       "   'formattedAddress': ['136 Church St',\n",
       "    'New York, NY 10007',\n",
       "    'United States']},\n",
       "  'categories': [{'id': '4bf58dd8d48988d151941735',\n",
       "    'name': 'Taco Place',\n",
       "    'pluralName': 'Taco Places',\n",
       "    'shortName': 'Tacos',\n",
       "    'icon': {'prefix': 'https://ss3.4sqi.net/img/categories_v2/food/taco_',\n",
       "     'suffix': '.png'},\n",
       "    'primary': True}],\n",
       "  'delivery': {'id': '2180700',\n",
       "   'url': 'https://www.seamless.com/menu/los-tacos-no-1-tribeca-136-church-st-new-york/2180700?affiliate=1131&utm_source=foursquare-affiliate-network&utm_medium=affiliate&utm_campaign=1131&utm_content=2180700',\n",
       "   'provider': {'name': 'seamless',\n",
       "    'icon': {'prefix': 'https://fastly.4sqi.net/img/general/cap/',\n",
       "     'sizes': [40, 50],\n",
       "     'name': '/delivery_provider_seamless_20180129.png'}}},\n",
       "  'photos': {'count': 0, 'groups': []}},\n",
       " 'referralId': 'e-0-5d5f24ec09484500079aee00-0'}"
      ]
     },
     "execution_count": 61,
     "metadata": {},
     "output_type": "execute_result"
    }
   ],
   "source": [
    "items = results['response']['groups'][0]['items']\n",
    "items[0]"
   ]
  },
  {
   "cell_type": "markdown",
   "metadata": {
    "button": false,
    "new_sheet": false,
    "run_control": {
     "read_only": false
    }
   },
   "source": [
    "#### Process JSON and convert it to a clean dataframe\n"
   ]
  },
  {
   "cell_type": "code",
   "execution_count": 63,
   "metadata": {
    "button": false,
    "collapsed": false,
    "jupyter": {
     "outputs_hidden": false
    },
    "new_sheet": false,
    "run_control": {
     "read_only": false
    }
   },
   "outputs": [
    {
     "data": {
      "text/html": [
       "<div>\n",
       "<style scoped>\n",
       "    .dataframe tbody tr th:only-of-type {\n",
       "        vertical-align: middle;\n",
       "    }\n",
       "\n",
       "    .dataframe tbody tr th {\n",
       "        vertical-align: top;\n",
       "    }\n",
       "\n",
       "    .dataframe thead th {\n",
       "        text-align: right;\n",
       "    }\n",
       "</style>\n",
       "<table border=\"1\" class=\"dataframe\">\n",
       "  <thead>\n",
       "    <tr style=\"text-align: right;\">\n",
       "      <th></th>\n",
       "      <th>name</th>\n",
       "      <th>categories</th>\n",
       "      <th>address</th>\n",
       "      <th>lat</th>\n",
       "      <th>lng</th>\n",
       "      <th>labeledLatLngs</th>\n",
       "      <th>distance</th>\n",
       "      <th>postalCode</th>\n",
       "      <th>cc</th>\n",
       "      <th>city</th>\n",
       "      <th>state</th>\n",
       "      <th>country</th>\n",
       "      <th>formattedAddress</th>\n",
       "      <th>crossStreet</th>\n",
       "      <th>neighborhood</th>\n",
       "      <th>id</th>\n",
       "    </tr>\n",
       "  </thead>\n",
       "  <tbody>\n",
       "    <tr>\n",
       "      <th>0</th>\n",
       "      <td>Los Tacos No. 1</td>\n",
       "      <td>Taco Place</td>\n",
       "      <td>136 Church St</td>\n",
       "      <td>40.714267</td>\n",
       "      <td>-74.008756</td>\n",
       "      <td>[{'label': 'display', 'lat': 40.714267, 'lng': -74.008756}]</td>\n",
       "      <td>119</td>\n",
       "      <td>10007</td>\n",
       "      <td>US</td>\n",
       "      <td>New York</td>\n",
       "      <td>NY</td>\n",
       "      <td>United States</td>\n",
       "      <td>[136 Church St, New York, NY 10007, United States]</td>\n",
       "      <td>NaN</td>\n",
       "      <td>NaN</td>\n",
       "      <td>5d5f24ec09484500079aee00</td>\n",
       "    </tr>\n",
       "    <tr>\n",
       "      <th>1</th>\n",
       "      <td>Korin</td>\n",
       "      <td>Furniture / Home Store</td>\n",
       "      <td>57 Warren St</td>\n",
       "      <td>40.714824</td>\n",
       "      <td>-74.009404</td>\n",
       "      <td>[{'label': 'display', 'lat': 40.71482437714839, 'lng': -74.00940425461492}, {'label': 'entrance', 'lat': 40.714727, 'lng': -74.009399}]</td>\n",
       "      <td>73</td>\n",
       "      <td>10007</td>\n",
       "      <td>US</td>\n",
       "      <td>New York</td>\n",
       "      <td>NY</td>\n",
       "      <td>United States</td>\n",
       "      <td>[57 Warren St (Church St), New York, NY 10007, United States]</td>\n",
       "      <td>Church St</td>\n",
       "      <td>Tribeca</td>\n",
       "      <td>4af5d65ff964a52091fd21e3</td>\n",
       "    </tr>\n",
       "    <tr>\n",
       "      <th>2</th>\n",
       "      <td>Takahachi Bakery</td>\n",
       "      <td>Bakery</td>\n",
       "      <td>25 Murray St</td>\n",
       "      <td>40.713653</td>\n",
       "      <td>-74.008804</td>\n",
       "      <td>[{'label': 'display', 'lat': 40.713652845301894, 'lng': -74.0088038953017}, {'label': 'entrance', 'lat': 40.713716, 'lng': -74.008443}]</td>\n",
       "      <td>187</td>\n",
       "      <td>10007</td>\n",
       "      <td>US</td>\n",
       "      <td>New York</td>\n",
       "      <td>NY</td>\n",
       "      <td>United States</td>\n",
       "      <td>[25 Murray St (at Church St), New York, NY 10007, United States]</td>\n",
       "      <td>at Church St</td>\n",
       "      <td>NaN</td>\n",
       "      <td>4c154c9a77cea593c401d260</td>\n",
       "    </tr>\n",
       "    <tr>\n",
       "      <th>3</th>\n",
       "      <td>Juice Press</td>\n",
       "      <td>Vegetarian / Vegan Restaurant</td>\n",
       "      <td>83 Murray St</td>\n",
       "      <td>40.714788</td>\n",
       "      <td>-74.011132</td>\n",
       "      <td>[{'label': 'display', 'lat': 40.71478769908051, 'lng': -74.0111317502157}]</td>\n",
       "      <td>202</td>\n",
       "      <td>10007</td>\n",
       "      <td>US</td>\n",
       "      <td>New York</td>\n",
       "      <td>NY</td>\n",
       "      <td>United States</td>\n",
       "      <td>[83 Murray St (btwn Greenwich St &amp; W Broadway), New York, NY 10007, United States]</td>\n",
       "      <td>btwn Greenwich St &amp; W Broadway</td>\n",
       "      <td>NaN</td>\n",
       "      <td>54148bc6498ea7bb8c05b70a</td>\n",
       "    </tr>\n",
       "    <tr>\n",
       "      <th>4</th>\n",
       "      <td>Takahachi</td>\n",
       "      <td>Sushi Restaurant</td>\n",
       "      <td>145 Duane St</td>\n",
       "      <td>40.716526</td>\n",
       "      <td>-74.008101</td>\n",
       "      <td>[{'label': 'display', 'lat': 40.71652647412374, 'lng': -74.00810108466207}, {'label': 'entrance', 'lat': 40.716508, 'lng': -74.007989}]</td>\n",
       "      <td>146</td>\n",
       "      <td>10013</td>\n",
       "      <td>US</td>\n",
       "      <td>New York</td>\n",
       "      <td>NY</td>\n",
       "      <td>United States</td>\n",
       "      <td>[145 Duane St (btwn W Broadway &amp; Church St), New York, NY 10013, United States]</td>\n",
       "      <td>btwn W Broadway &amp; Church St</td>\n",
       "      <td>NaN</td>\n",
       "      <td>4a8f2f39f964a520471420e3</td>\n",
       "    </tr>\n",
       "    <tr>\n",
       "      <th>5</th>\n",
       "      <td>Chambers Street Wines</td>\n",
       "      <td>Wine Shop</td>\n",
       "      <td>148 Chambers St</td>\n",
       "      <td>40.715773</td>\n",
       "      <td>-74.009718</td>\n",
       "      <td>[{'label': 'display', 'lat': 40.715773063928374, 'lng': -74.00971823312332}, {'label': 'entrance', 'lat': 40.715696, 'lng': -74.00988}]</td>\n",
       "      <td>88</td>\n",
       "      <td>10007</td>\n",
       "      <td>US</td>\n",
       "      <td>New York</td>\n",
       "      <td>NY</td>\n",
       "      <td>United States</td>\n",
       "      <td>[148 Chambers St (btwn West Broadway &amp; Hudson St), New York, NY 10007, United States]</td>\n",
       "      <td>btwn West Broadway &amp; Hudson St</td>\n",
       "      <td>NaN</td>\n",
       "      <td>4adcf23cf964a520cc6221e3</td>\n",
       "    </tr>\n",
       "    <tr>\n",
       "      <th>6</th>\n",
       "      <td>Lekka Burger</td>\n",
       "      <td>Burger Joint</td>\n",
       "      <td>81 Warren St</td>\n",
       "      <td>40.715246</td>\n",
       "      <td>-74.010559</td>\n",
       "      <td>[{'label': 'display', 'lat': 40.715246, 'lng': -74.010559}]</td>\n",
       "      <td>144</td>\n",
       "      <td>10007</td>\n",
       "      <td>US</td>\n",
       "      <td>New York</td>\n",
       "      <td>NY</td>\n",
       "      <td>United States</td>\n",
       "      <td>[81 Warren St (btw Greenwich &amp; West Broadway), New York, NY 10007, United States]</td>\n",
       "      <td>btw Greenwich &amp; West Broadway</td>\n",
       "      <td>NaN</td>\n",
       "      <td>5dc6f6a5ea8dfb00080f6faa</td>\n",
       "    </tr>\n",
       "    <tr>\n",
       "      <th>7</th>\n",
       "      <td>Heyday</td>\n",
       "      <td>Spa</td>\n",
       "      <td>92 Reade St</td>\n",
       "      <td>40.715726</td>\n",
       "      <td>-74.007767</td>\n",
       "      <td>[{'label': 'display', 'lat': 40.715726, 'lng': -74.007767}, {'label': 'entrance', 'lat': 40.715654, 'lng': -74.00782}]</td>\n",
       "      <td>100</td>\n",
       "      <td>10013</td>\n",
       "      <td>US</td>\n",
       "      <td>New York</td>\n",
       "      <td>NY</td>\n",
       "      <td>United States</td>\n",
       "      <td>[92 Reade St, New York, NY 10013, United States]</td>\n",
       "      <td>NaN</td>\n",
       "      <td>NaN</td>\n",
       "      <td>57ad129c498e05b086594d72</td>\n",
       "    </tr>\n",
       "    <tr>\n",
       "      <th>8</th>\n",
       "      <td>Equinox Tribeca</td>\n",
       "      <td>Gym</td>\n",
       "      <td>54 Murray St</td>\n",
       "      <td>40.714099</td>\n",
       "      <td>-74.009686</td>\n",
       "      <td>[{'label': 'display', 'lat': 40.71409860726041, 'lng': -74.0096857179283}]</td>\n",
       "      <td>154</td>\n",
       "      <td>10007</td>\n",
       "      <td>US</td>\n",
       "      <td>New York</td>\n",
       "      <td>NY</td>\n",
       "      <td>United States</td>\n",
       "      <td>[54 Murray St (at W Broadway), New York, NY 10007, United States]</td>\n",
       "      <td>at W Broadway</td>\n",
       "      <td>NaN</td>\n",
       "      <td>4a6e331af964a52031d41fe3</td>\n",
       "    </tr>\n",
       "    <tr>\n",
       "      <th>9</th>\n",
       "      <td>Philip Williams Posters</td>\n",
       "      <td>Antique Shop</td>\n",
       "      <td>122 Chambers St</td>\n",
       "      <td>40.715284</td>\n",
       "      <td>-74.008781</td>\n",
       "      <td>[{'label': 'display', 'lat': 40.71528423132827, 'lng': -74.00878093952018}, {'label': 'entrance', 'lat': 40.715188, 'lng': -74.008747}]</td>\n",
       "      <td>8</td>\n",
       "      <td>10007</td>\n",
       "      <td>US</td>\n",
       "      <td>New York</td>\n",
       "      <td>NY</td>\n",
       "      <td>United States</td>\n",
       "      <td>[122 Chambers St, New York, NY 10007, United States]</td>\n",
       "      <td>NaN</td>\n",
       "      <td>NaN</td>\n",
       "      <td>4b747291f964a52042dd2de3</td>\n",
       "    </tr>\n",
       "  </tbody>\n",
       "</table>\n",
       "</div>"
      ],
      "text/plain": [
       "                      name                     categories          address  \\\n",
       "0          Los Tacos No. 1                     Taco Place    136 Church St   \n",
       "1                    Korin         Furniture / Home Store     57 Warren St   \n",
       "2         Takahachi Bakery                         Bakery     25 Murray St   \n",
       "3              Juice Press  Vegetarian / Vegan Restaurant     83 Murray St   \n",
       "4                Takahachi               Sushi Restaurant     145 Duane St   \n",
       "5    Chambers Street Wines                      Wine Shop  148 Chambers St   \n",
       "6             Lekka Burger                   Burger Joint     81 Warren St   \n",
       "7                   Heyday                            Spa      92 Reade St   \n",
       "8          Equinox Tribeca                            Gym     54 Murray St   \n",
       "9  Philip Williams Posters                   Antique Shop  122 Chambers St   \n",
       "\n",
       "         lat        lng  \\\n",
       "0  40.714267 -74.008756   \n",
       "1  40.714824 -74.009404   \n",
       "2  40.713653 -74.008804   \n",
       "3  40.714788 -74.011132   \n",
       "4  40.716526 -74.008101   \n",
       "5  40.715773 -74.009718   \n",
       "6  40.715246 -74.010559   \n",
       "7  40.715726 -74.007767   \n",
       "8  40.714099 -74.009686   \n",
       "9  40.715284 -74.008781   \n",
       "\n",
       "                                                                                                                            labeledLatLngs  \\\n",
       "0                                                                              [{'label': 'display', 'lat': 40.714267, 'lng': -74.008756}]   \n",
       "1  [{'label': 'display', 'lat': 40.71482437714839, 'lng': -74.00940425461492}, {'label': 'entrance', 'lat': 40.714727, 'lng': -74.009399}]   \n",
       "2  [{'label': 'display', 'lat': 40.713652845301894, 'lng': -74.0088038953017}, {'label': 'entrance', 'lat': 40.713716, 'lng': -74.008443}]   \n",
       "3                                                               [{'label': 'display', 'lat': 40.71478769908051, 'lng': -74.0111317502157}]   \n",
       "4  [{'label': 'display', 'lat': 40.71652647412374, 'lng': -74.00810108466207}, {'label': 'entrance', 'lat': 40.716508, 'lng': -74.007989}]   \n",
       "5  [{'label': 'display', 'lat': 40.715773063928374, 'lng': -74.00971823312332}, {'label': 'entrance', 'lat': 40.715696, 'lng': -74.00988}]   \n",
       "6                                                                              [{'label': 'display', 'lat': 40.715246, 'lng': -74.010559}]   \n",
       "7                   [{'label': 'display', 'lat': 40.715726, 'lng': -74.007767}, {'label': 'entrance', 'lat': 40.715654, 'lng': -74.00782}]   \n",
       "8                                                               [{'label': 'display', 'lat': 40.71409860726041, 'lng': -74.0096857179283}]   \n",
       "9  [{'label': 'display', 'lat': 40.71528423132827, 'lng': -74.00878093952018}, {'label': 'entrance', 'lat': 40.715188, 'lng': -74.008747}]   \n",
       "\n",
       "   distance postalCode  cc      city state        country  \\\n",
       "0       119      10007  US  New York    NY  United States   \n",
       "1        73      10007  US  New York    NY  United States   \n",
       "2       187      10007  US  New York    NY  United States   \n",
       "3       202      10007  US  New York    NY  United States   \n",
       "4       146      10013  US  New York    NY  United States   \n",
       "5        88      10007  US  New York    NY  United States   \n",
       "6       144      10007  US  New York    NY  United States   \n",
       "7       100      10013  US  New York    NY  United States   \n",
       "8       154      10007  US  New York    NY  United States   \n",
       "9         8      10007  US  New York    NY  United States   \n",
       "\n",
       "                                                                        formattedAddress  \\\n",
       "0                                     [136 Church St, New York, NY 10007, United States]   \n",
       "1                          [57 Warren St (Church St), New York, NY 10007, United States]   \n",
       "2                       [25 Murray St (at Church St), New York, NY 10007, United States]   \n",
       "3     [83 Murray St (btwn Greenwich St & W Broadway), New York, NY 10007, United States]   \n",
       "4        [145 Duane St (btwn W Broadway & Church St), New York, NY 10013, United States]   \n",
       "5  [148 Chambers St (btwn West Broadway & Hudson St), New York, NY 10007, United States]   \n",
       "6      [81 Warren St (btw Greenwich & West Broadway), New York, NY 10007, United States]   \n",
       "7                                       [92 Reade St, New York, NY 10013, United States]   \n",
       "8                      [54 Murray St (at W Broadway), New York, NY 10007, United States]   \n",
       "9                                   [122 Chambers St, New York, NY 10007, United States]   \n",
       "\n",
       "                      crossStreet neighborhood                        id  \n",
       "0                             NaN          NaN  5d5f24ec09484500079aee00  \n",
       "1                       Church St      Tribeca  4af5d65ff964a52091fd21e3  \n",
       "2                    at Church St          NaN  4c154c9a77cea593c401d260  \n",
       "3  btwn Greenwich St & W Broadway          NaN  54148bc6498ea7bb8c05b70a  \n",
       "4     btwn W Broadway & Church St          NaN  4a8f2f39f964a520471420e3  \n",
       "5  btwn West Broadway & Hudson St          NaN  4adcf23cf964a520cc6221e3  \n",
       "6   btw Greenwich & West Broadway          NaN  5dc6f6a5ea8dfb00080f6faa  \n",
       "7                             NaN          NaN  57ad129c498e05b086594d72  \n",
       "8                   at W Broadway          NaN  4a6e331af964a52031d41fe3  \n",
       "9                             NaN          NaN  4b747291f964a52042dd2de3  "
      ]
     },
     "execution_count": 63,
     "metadata": {},
     "output_type": "execute_result"
    }
   ],
   "source": [
    "dataframe = pd.json_normalize(items) # flatten JSON\n",
    "\n",
    "# filter columns\n",
    "filtered_columns = ['venue.name', 'venue.categories'] + [col for col in dataframe.columns if col.startswith('venue.location.')] + ['venue.id']\n",
    "dataframe_filtered = dataframe.loc[:, filtered_columns]\n",
    "\n",
    "# filter the category for each row\n",
    "dataframe_filtered['venue.categories'] = dataframe_filtered.apply(get_category_type, axis=1)\n",
    "\n",
    "# clean columns\n",
    "dataframe_filtered.columns = [col.split('.')[-1] for col in dataframe_filtered.columns]\n",
    "\n",
    "dataframe_filtered.head(10)"
   ]
  },
  {
   "cell_type": "markdown",
   "metadata": {
    "button": false,
    "new_sheet": false,
    "run_control": {
     "read_only": false
    }
   },
   "source": [
    "#### Let's visualize these items on the map around our location\n"
   ]
  },
  {
   "cell_type": "code",
   "execution_count": 65,
   "metadata": {
    "button": false,
    "collapsed": false,
    "jupyter": {
     "outputs_hidden": false
    },
    "new_sheet": false,
    "run_control": {
     "read_only": false
    },
    "scrolled": true
   },
   "outputs": [
    {
     "data": {
      "text/html": [
       "<div style=\"width:100%;\"><div style=\"position:relative;width:100%;height:0;padding-bottom:60%;\"><span style=\"color:#565656\">Make this Notebook Trusted to load map: File -> Trust Notebook</span><iframe src=\"about:blank\" style=\"position:absolute;width:100%;height:100%;left:0;top:0;border:none !important;\" data-html=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 onload=\"this.contentDocument.open();this.contentDocument.write(atob(this.getAttribute('data-html')));this.contentDocument.close();\" allowfullscreen webkitallowfullscreen mozallowfullscreen></iframe></div></div>"
      ],
      "text/plain": [
       "<folium.folium.Map at 0x7ff408541128>"
      ]
     },
     "execution_count": 65,
     "metadata": {},
     "output_type": "execute_result"
    }
   ],
   "source": [
    "venues_map = folium.Map(location=[latitude, longitude], zoom_start=15) # generate map centred around Ecco\n",
    "\n",
    "\n",
    "# add Ecco as a red circle mark\n",
    "folium.CircleMarker(\n",
    "    [latitude, longitude],\n",
    "    radius=10,\n",
    "    popup='Ecco',\n",
    "    fill=True,\n",
    "    color='red',\n",
    "    fill_color='red',\n",
    "    fill_opacity=0.6\n",
    "    ).add_to(venues_map)\n",
    "\n",
    "\n",
    "# add popular spots to the map as blue circle markers\n",
    "for lat, lng, label in zip(dataframe_filtered.lat, dataframe_filtered.lng, dataframe_filtered.categories):\n",
    "    folium.CircleMarker(\n",
    "        [lat, lng],\n",
    "        radius=5,\n",
    "        popup=label,\n",
    "        fill=True,\n",
    "        color='blue',\n",
    "        fill_color='blue',\n",
    "        fill_opacity=0.6\n",
    "        ).add_to(venues_map)\n",
    "\n",
    "# display map\n",
    "venues_map"
   ]
  },
  {
   "cell_type": "markdown",
   "metadata": {
    "button": false,
    "new_sheet": false,
    "run_control": {
     "read_only": false
    }
   },
   "source": [
    "\n"
   ]
  },
  {
   "cell_type": "markdown",
   "metadata": {
    "button": false,
    "new_sheet": false,
    "run_control": {
     "read_only": false
    }
   },
   "source": [
    "<a id=\"item5\"></a>\n"
   ]
  },
  {
   "cell_type": "markdown",
   "metadata": {
    "button": false,
    "new_sheet": false,
    "run_control": {
     "read_only": false
    }
   },
   "source": [
    "## 5. Explore Trending Venues\n",
    "\n",
    "> `https://api.foursquare.com/v2/venues/`**trending**`?client_id=`**CLIENT_ID**`&client_secret=`**CLIENT_SECRET**`&ll=`**LATITUDE**`,`**LONGITUDE**`&v=`**VERSION**\n"
   ]
  },
  {
   "cell_type": "markdown",
   "metadata": {
    "button": false,
    "new_sheet": false,
    "run_control": {
     "read_only": false
    }
   },
   "source": [
    "#### Now, instead of simply exploring the area around Ecco, you are interested in knowing the venues that are trending at the time you are done with your lunch, meaning the places with the highest foot traffic. So let's do that and get the trending venues around Ecco.\n"
   ]
  },
  {
   "cell_type": "code",
   "execution_count": null,
   "metadata": {
    "button": false,
    "collapsed": false,
    "jupyter": {
     "outputs_hidden": false
    },
    "new_sheet": false,
    "run_control": {
     "read_only": false
    }
   },
   "outputs": [],
   "source": [
    "# define URL\n",
    "url = 'https://api.foursquare.com/v2/venues/trending?client_id={}&client_secret={}&ll={},{}&v={}'.format(CLIENT_ID, CLIENT_SECRET, latitude, longitude, VERSION)\n",
    "\n",
    "# send GET request and get trending venues\n",
    "results = requests.get(url).json()\n",
    "results"
   ]
  },
  {
   "cell_type": "markdown",
   "metadata": {
    "button": false,
    "new_sheet": false,
    "run_control": {
     "read_only": false
    }
   },
   "source": [
    "### Check if any venues are trending at this time\n"
   ]
  },
  {
   "cell_type": "code",
   "execution_count": null,
   "metadata": {
    "button": false,
    "collapsed": true,
    "jupyter": {
     "outputs_hidden": true
    },
    "new_sheet": false,
    "run_control": {
     "read_only": false
    }
   },
   "outputs": [],
   "source": [
    "if len(results['response']['venues']) == 0:\n",
    "    trending_venues_df = 'No trending venues are available at the moment!'\n",
    "    \n",
    "else:\n",
    "    trending_venues = results['response']['venues']\n",
    "    trending_venues_df = json_normalize(trending_venues)\n",
    "\n",
    "    # filter columns\n",
    "    columns_filtered = ['name', 'categories'] + ['location.distance', 'location.city', 'location.postalCode', 'location.state', 'location.country', 'location.lat', 'location.lng']\n",
    "    trending_venues_df = trending_venues_df.loc[:, columns_filtered]\n",
    "\n",
    "    # filter the category for each row\n",
    "    trending_venues_df['categories'] = trending_venues_df.apply(get_category_type, axis=1)"
   ]
  },
  {
   "cell_type": "code",
   "execution_count": null,
   "metadata": {
    "button": false,
    "collapsed": false,
    "jupyter": {
     "outputs_hidden": false
    },
    "new_sheet": false,
    "run_control": {
     "read_only": false
    }
   },
   "outputs": [],
   "source": [
    "# display trending venues\n",
    "trending_venues_df"
   ]
  },
  {
   "cell_type": "markdown",
   "metadata": {
    "button": false,
    "new_sheet": false,
    "run_control": {
     "read_only": false
    }
   },
   "source": [
    "Now, depending on when you run the above code, you might get different venues since the venues with the highest foot traffic are fetched live. \n"
   ]
  },
  {
   "cell_type": "markdown",
   "metadata": {
    "button": false,
    "new_sheet": false,
    "run_control": {
     "read_only": false
    }
   },
   "source": [
    "### Visualize trending venues\n"
   ]
  },
  {
   "cell_type": "code",
   "execution_count": null,
   "metadata": {
    "button": false,
    "collapsed": false,
    "jupyter": {
     "outputs_hidden": false
    },
    "new_sheet": false,
    "run_control": {
     "read_only": false
    }
   },
   "outputs": [],
   "source": [
    "if len(results['response']['venues']) == 0:\n",
    "    venues_map = 'Cannot generate visual as no trending venues are available at the moment!'\n",
    "\n",
    "else:\n",
    "    venues_map = folium.Map(location=[latitude, longitude], zoom_start=15) # generate map centred around Ecco\n",
    "\n",
    "\n",
    "    # add Ecco as a red circle mark\n",
    "    folium.CircleMarker(\n",
    "        [latitude, longitude],\n",
    "        radius=10,\n",
    "        popup='Ecco',\n",
    "        fill=True,\n",
    "        color='red',\n",
    "        fill_color='red',\n",
    "        fill_opacity=0.6\n",
    "    ).add_to(venues_map)\n",
    "\n",
    "\n",
    "    # add the trending venues as blue circle markers\n",
    "    for lat, lng, label in zip(trending_venues_df['location.lat'], trending_venues_df['location.lng'], trending_venues_df['name']):\n",
    "        folium.CircleMarker(\n",
    "            [lat, lng],\n",
    "            radius=5,\n",
    "            poup=label,\n",
    "            fill=True,\n",
    "            color='blue',\n",
    "            fill_color='blue',\n",
    "            fill_opacity=0.6\n",
    "        ).add_to(venues_map)"
   ]
  },
  {
   "cell_type": "code",
   "execution_count": null,
   "metadata": {
    "button": false,
    "collapsed": false,
    "jupyter": {
     "outputs_hidden": false
    },
    "new_sheet": false,
    "run_control": {
     "read_only": false
    },
    "scrolled": true
   },
   "outputs": [],
   "source": [
    "# display map\n",
    "venues_map"
   ]
  },
  {
   "cell_type": "markdown",
   "metadata": {
    "button": false,
    "new_sheet": false,
    "run_control": {
     "read_only": false
    }
   },
   "source": [
    "<a id=\"item6\"></a>\n"
   ]
  },
  {
   "cell_type": "markdown",
   "metadata": {
    "button": false,
    "new_sheet": false,
    "run_control": {
     "read_only": false
    }
   },
   "source": [
    "\n"
   ]
  },
  {
   "cell_type": "markdown",
   "metadata": {
    "button": false,
    "new_sheet": false,
    "run_control": {
     "read_only": false
    }
   },
   "source": [
    "### Thank you for completing this lab!\n",
    "\n",
    "This notebook was created by [Alex Aklson](https://www.linkedin.com/in/aklson?cm_mmc=Email_Newsletter-_-Developer_Ed%2BTech-_-WW_WW-_-SkillsNetwork-Courses-IBMDeveloperSkillsNetwork-DS0701EN-SkillsNetwork-21253531&cm_mmca1=000026UJ&cm_mmca2=10006555&cm_mmca3=M12345678&cvosrc=email.Newsletter.M12345678&cvo_campaign=000026UJ&cm_mmc=Email_Newsletter-_-Developer_Ed%2BTech-_-WW_WW-_-SkillsNetwork-Courses-IBMDeveloperSkillsNetwork-DS0701EN-SkillsNetwork-21253531&cm_mmca1=000026UJ&cm_mmca2=10006555&cm_mmca3=M12345678&cvosrc=email.Newsletter.M12345678&cvo_campaign=000026UJ). I hope you found this lab interesting and educational. Feel free to contact me if you have any questions!\n",
    "\n",
    "This notebook modified by Nayef Abou Tayoun ([https://www.linkedin.com/in/nayefaboutayoun/](https://www.linkedin.com/in/nayefaboutayoun?cm_mmc=Email_Newsletter-_-Developer_Ed%2BTech-_-WW_WW-_-SkillsNetwork-Courses-IBMDeveloperSkillsNetwork-DS0701EN-SkillsNetwork-21253531&cm_mmca1=000026UJ&cm_mmca2=10006555&cm_mmca3=M12345678&cvosrc=email.Newsletter.M12345678&cvo_campaign=000026UJ))\n"
   ]
  },
  {
   "cell_type": "markdown",
   "metadata": {
    "button": false,
    "new_sheet": false,
    "run_control": {
     "read_only": false
    }
   },
   "source": [
    "This notebook is part of a course on **Coursera** called _Applied Data Science Capstone_. If you accessed this notebook outside the course, you can take this course online by clicking [here](http://cocl.us/DP0701EN_Coursera_Week2_LAB1).\n"
   ]
  },
  {
   "cell_type": "markdown",
   "metadata": {
    "button": false,
    "new_sheet": false,
    "run_control": {
     "read_only": false
    }
   },
   "source": [
    "## Change Log\n",
    "\n",
    "| Date (YYYY-MM-DD) | Version | Changed By    | Change Description         |\n",
    "| ----------------- | ------- | ------------- | -------------------------- |\n",
    "| 2020-11-26        | 2.0     | Lakshmi Holla | Updated the markdown cells |\n",
    "|                   |         |               |                            |\n",
    "|                   |         |               |                            |\n",
    "\n",
    "## <h3 align=\"center\"> © IBM Corporation 2020. All rights reserved. <h3/>\n"
   ]
  },
  {
   "cell_type": "code",
   "execution_count": null,
   "metadata": {},
   "outputs": [],
   "source": []
  }
 ],
 "metadata": {
  "kernelspec": {
   "display_name": "Python",
   "language": "python",
   "name": "conda-env-python-py"
  },
  "language_info": {
   "codemirror_mode": {
    "name": "ipython",
    "version": 3
   },
   "file_extension": ".py",
   "mimetype": "text/x-python",
   "name": "python",
   "nbconvert_exporter": "python",
   "pygments_lexer": "ipython3",
   "version": "3.6.12"
  },
  "widgets": {
   "state": {},
   "version": "1.1.2"
  }
 },
 "nbformat": 4,
 "nbformat_minor": 4
}
